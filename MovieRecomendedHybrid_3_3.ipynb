{
 "cells": [
  {
   "cell_type": "code",
   "execution_count": 1,
   "id": "bef0d365",
   "metadata": {},
   "outputs": [],
   "source": [
    "import pandas as pd \n",
    "import numpy as np \n",
    "\n",
    "# Untuk visualisasi\n",
    "import matplotlib.pyplot as plt\n",
    "\n",
    "# Kita pakai SVD untuk Collaborative Filltering\n",
    "from surprise import Reader, Dataset, SVD\n",
    "from surprise.model_selection import cross_validate as evaluate\n",
    "\n",
    "# Pakai TfIdfVectorizer dari scikit-learn\n",
    "from sklearn.feature_extraction.text import TfidfVectorizer\n",
    "\n",
    "reader = Reader()\n",
    "\n",
    "# Baca Data CSV nya untuk Content Based\n",
    "df1=pd.read_csv('C:/Users/Lukas_K/JupyterFile/MovieRecomendedSystem/Data/tmdb_5000_credits.csv')\n",
    "df2=pd.read_csv('C:/Users/Lukas_K/JupyterFile/MovieRecomendedSystem/Data/tmdb_5000_movies.csv')\n",
    "\n",
    "# Baca Data CSV nya untuk Collaborative Filltering\n",
    "ratings=pd.read_csv('C:/Users/Lukas_K/JupyterFile/MovieRecomendedSystem/Data/ratings.csv')"
   ]
  },
  {
   "cell_type": "markdown",
   "id": "a5f8c467",
   "metadata": {},
   "source": [
    "# Mempersiapakan Data"
   ]
  },
  {
   "cell_type": "code",
   "execution_count": 2,
   "id": "07990f7c",
   "metadata": {},
   "outputs": [],
   "source": [
    "# Persiapan data Content Based\n",
    "df2= df2.merge(df1,left_on='id', right_on='movie_id')"
   ]
  },
  {
   "cell_type": "code",
   "execution_count": 3,
   "id": "801fdfc1",
   "metadata": {},
   "outputs": [
    {
     "data": {
      "text/html": [
       "<div>\n",
       "<style scoped>\n",
       "    .dataframe tbody tr th:only-of-type {\n",
       "        vertical-align: middle;\n",
       "    }\n",
       "\n",
       "    .dataframe tbody tr th {\n",
       "        vertical-align: top;\n",
       "    }\n",
       "\n",
       "    .dataframe thead th {\n",
       "        text-align: right;\n",
       "    }\n",
       "</style>\n",
       "<table border=\"1\" class=\"dataframe\">\n",
       "  <thead>\n",
       "    <tr style=\"text-align: right;\">\n",
       "      <th></th>\n",
       "      <th>budget</th>\n",
       "      <th>genres</th>\n",
       "      <th>homepage</th>\n",
       "      <th>id</th>\n",
       "      <th>keywords</th>\n",
       "      <th>original_language</th>\n",
       "      <th>original_title</th>\n",
       "      <th>overview</th>\n",
       "      <th>popularity</th>\n",
       "      <th>production_companies</th>\n",
       "      <th>...</th>\n",
       "      <th>spoken_languages</th>\n",
       "      <th>status</th>\n",
       "      <th>tagline</th>\n",
       "      <th>title_x</th>\n",
       "      <th>vote_average</th>\n",
       "      <th>vote_count</th>\n",
       "      <th>movie_id</th>\n",
       "      <th>title_y</th>\n",
       "      <th>cast</th>\n",
       "      <th>crew</th>\n",
       "    </tr>\n",
       "  </thead>\n",
       "  <tbody>\n",
       "    <tr>\n",
       "      <th>0</th>\n",
       "      <td>237000000</td>\n",
       "      <td>[{\"id\": 28, \"name\": \"Action\"}, {\"id\": 12, \"nam...</td>\n",
       "      <td>http://www.avatarmovie.com/</td>\n",
       "      <td>19995</td>\n",
       "      <td>[{\"id\": 1463, \"name\": \"culture clash\"}, {\"id\":...</td>\n",
       "      <td>en</td>\n",
       "      <td>Avatar</td>\n",
       "      <td>In the 22nd century, a paraplegic Marine is di...</td>\n",
       "      <td>150.437577</td>\n",
       "      <td>[{\"name\": \"Ingenious Film Partners\", \"id\": 289...</td>\n",
       "      <td>...</td>\n",
       "      <td>[{\"iso_639_1\": \"en\", \"name\": \"English\"}, {\"iso...</td>\n",
       "      <td>Released</td>\n",
       "      <td>Enter the World of Pandora.</td>\n",
       "      <td>Avatar</td>\n",
       "      <td>7.2</td>\n",
       "      <td>11800</td>\n",
       "      <td>19995</td>\n",
       "      <td>Avatar</td>\n",
       "      <td>[{\"cast_id\": 242, \"character\": \"Jake Sully\", \"...</td>\n",
       "      <td>[{\"credit_id\": \"52fe48009251416c750aca23\", \"de...</td>\n",
       "    </tr>\n",
       "    <tr>\n",
       "      <th>1</th>\n",
       "      <td>300000000</td>\n",
       "      <td>[{\"id\": 12, \"name\": \"Adventure\"}, {\"id\": 14, \"...</td>\n",
       "      <td>http://disney.go.com/disneypictures/pirates/</td>\n",
       "      <td>285</td>\n",
       "      <td>[{\"id\": 270, \"name\": \"ocean\"}, {\"id\": 726, \"na...</td>\n",
       "      <td>en</td>\n",
       "      <td>Pirates of the Caribbean: At World's End</td>\n",
       "      <td>Captain Barbossa, long believed to be dead, ha...</td>\n",
       "      <td>139.082615</td>\n",
       "      <td>[{\"name\": \"Walt Disney Pictures\", \"id\": 2}, {\"...</td>\n",
       "      <td>...</td>\n",
       "      <td>[{\"iso_639_1\": \"en\", \"name\": \"English\"}]</td>\n",
       "      <td>Released</td>\n",
       "      <td>At the end of the world, the adventure begins.</td>\n",
       "      <td>Pirates of the Caribbean: At World's End</td>\n",
       "      <td>6.9</td>\n",
       "      <td>4500</td>\n",
       "      <td>285</td>\n",
       "      <td>Pirates of the Caribbean: At World's End</td>\n",
       "      <td>[{\"cast_id\": 4, \"character\": \"Captain Jack Spa...</td>\n",
       "      <td>[{\"credit_id\": \"52fe4232c3a36847f800b579\", \"de...</td>\n",
       "    </tr>\n",
       "    <tr>\n",
       "      <th>2</th>\n",
       "      <td>245000000</td>\n",
       "      <td>[{\"id\": 28, \"name\": \"Action\"}, {\"id\": 12, \"nam...</td>\n",
       "      <td>http://www.sonypictures.com/movies/spectre/</td>\n",
       "      <td>206647</td>\n",
       "      <td>[{\"id\": 470, \"name\": \"spy\"}, {\"id\": 818, \"name...</td>\n",
       "      <td>en</td>\n",
       "      <td>Spectre</td>\n",
       "      <td>A cryptic message from Bond’s past sends him o...</td>\n",
       "      <td>107.376788</td>\n",
       "      <td>[{\"name\": \"Columbia Pictures\", \"id\": 5}, {\"nam...</td>\n",
       "      <td>...</td>\n",
       "      <td>[{\"iso_639_1\": \"fr\", \"name\": \"Fran\\u00e7ais\"},...</td>\n",
       "      <td>Released</td>\n",
       "      <td>A Plan No One Escapes</td>\n",
       "      <td>Spectre</td>\n",
       "      <td>6.3</td>\n",
       "      <td>4466</td>\n",
       "      <td>206647</td>\n",
       "      <td>Spectre</td>\n",
       "      <td>[{\"cast_id\": 1, \"character\": \"James Bond\", \"cr...</td>\n",
       "      <td>[{\"credit_id\": \"54805967c3a36829b5002c41\", \"de...</td>\n",
       "    </tr>\n",
       "    <tr>\n",
       "      <th>3</th>\n",
       "      <td>250000000</td>\n",
       "      <td>[{\"id\": 28, \"name\": \"Action\"}, {\"id\": 80, \"nam...</td>\n",
       "      <td>http://www.thedarkknightrises.com/</td>\n",
       "      <td>49026</td>\n",
       "      <td>[{\"id\": 849, \"name\": \"dc comics\"}, {\"id\": 853,...</td>\n",
       "      <td>en</td>\n",
       "      <td>The Dark Knight Rises</td>\n",
       "      <td>Following the death of District Attorney Harve...</td>\n",
       "      <td>112.312950</td>\n",
       "      <td>[{\"name\": \"Legendary Pictures\", \"id\": 923}, {\"...</td>\n",
       "      <td>...</td>\n",
       "      <td>[{\"iso_639_1\": \"en\", \"name\": \"English\"}]</td>\n",
       "      <td>Released</td>\n",
       "      <td>The Legend Ends</td>\n",
       "      <td>The Dark Knight Rises</td>\n",
       "      <td>7.6</td>\n",
       "      <td>9106</td>\n",
       "      <td>49026</td>\n",
       "      <td>The Dark Knight Rises</td>\n",
       "      <td>[{\"cast_id\": 2, \"character\": \"Bruce Wayne / Ba...</td>\n",
       "      <td>[{\"credit_id\": \"52fe4781c3a36847f81398c3\", \"de...</td>\n",
       "    </tr>\n",
       "    <tr>\n",
       "      <th>4</th>\n",
       "      <td>260000000</td>\n",
       "      <td>[{\"id\": 28, \"name\": \"Action\"}, {\"id\": 12, \"nam...</td>\n",
       "      <td>http://movies.disney.com/john-carter</td>\n",
       "      <td>49529</td>\n",
       "      <td>[{\"id\": 818, \"name\": \"based on novel\"}, {\"id\":...</td>\n",
       "      <td>en</td>\n",
       "      <td>John Carter</td>\n",
       "      <td>John Carter is a war-weary, former military ca...</td>\n",
       "      <td>43.926995</td>\n",
       "      <td>[{\"name\": \"Walt Disney Pictures\", \"id\": 2}]</td>\n",
       "      <td>...</td>\n",
       "      <td>[{\"iso_639_1\": \"en\", \"name\": \"English\"}]</td>\n",
       "      <td>Released</td>\n",
       "      <td>Lost in our world, found in another.</td>\n",
       "      <td>John Carter</td>\n",
       "      <td>6.1</td>\n",
       "      <td>2124</td>\n",
       "      <td>49529</td>\n",
       "      <td>John Carter</td>\n",
       "      <td>[{\"cast_id\": 5, \"character\": \"John Carter\", \"c...</td>\n",
       "      <td>[{\"credit_id\": \"52fe479ac3a36847f813eaa3\", \"de...</td>\n",
       "    </tr>\n",
       "  </tbody>\n",
       "</table>\n",
       "<p>5 rows × 24 columns</p>\n",
       "</div>"
      ],
      "text/plain": [
       "      budget                                             genres  \\\n",
       "0  237000000  [{\"id\": 28, \"name\": \"Action\"}, {\"id\": 12, \"nam...   \n",
       "1  300000000  [{\"id\": 12, \"name\": \"Adventure\"}, {\"id\": 14, \"...   \n",
       "2  245000000  [{\"id\": 28, \"name\": \"Action\"}, {\"id\": 12, \"nam...   \n",
       "3  250000000  [{\"id\": 28, \"name\": \"Action\"}, {\"id\": 80, \"nam...   \n",
       "4  260000000  [{\"id\": 28, \"name\": \"Action\"}, {\"id\": 12, \"nam...   \n",
       "\n",
       "                                       homepage      id  \\\n",
       "0                   http://www.avatarmovie.com/   19995   \n",
       "1  http://disney.go.com/disneypictures/pirates/     285   \n",
       "2   http://www.sonypictures.com/movies/spectre/  206647   \n",
       "3            http://www.thedarkknightrises.com/   49026   \n",
       "4          http://movies.disney.com/john-carter   49529   \n",
       "\n",
       "                                            keywords original_language  \\\n",
       "0  [{\"id\": 1463, \"name\": \"culture clash\"}, {\"id\":...                en   \n",
       "1  [{\"id\": 270, \"name\": \"ocean\"}, {\"id\": 726, \"na...                en   \n",
       "2  [{\"id\": 470, \"name\": \"spy\"}, {\"id\": 818, \"name...                en   \n",
       "3  [{\"id\": 849, \"name\": \"dc comics\"}, {\"id\": 853,...                en   \n",
       "4  [{\"id\": 818, \"name\": \"based on novel\"}, {\"id\":...                en   \n",
       "\n",
       "                             original_title  \\\n",
       "0                                    Avatar   \n",
       "1  Pirates of the Caribbean: At World's End   \n",
       "2                                   Spectre   \n",
       "3                     The Dark Knight Rises   \n",
       "4                               John Carter   \n",
       "\n",
       "                                            overview  popularity  \\\n",
       "0  In the 22nd century, a paraplegic Marine is di...  150.437577   \n",
       "1  Captain Barbossa, long believed to be dead, ha...  139.082615   \n",
       "2  A cryptic message from Bond’s past sends him o...  107.376788   \n",
       "3  Following the death of District Attorney Harve...  112.312950   \n",
       "4  John Carter is a war-weary, former military ca...   43.926995   \n",
       "\n",
       "                                production_companies  ...  \\\n",
       "0  [{\"name\": \"Ingenious Film Partners\", \"id\": 289...  ...   \n",
       "1  [{\"name\": \"Walt Disney Pictures\", \"id\": 2}, {\"...  ...   \n",
       "2  [{\"name\": \"Columbia Pictures\", \"id\": 5}, {\"nam...  ...   \n",
       "3  [{\"name\": \"Legendary Pictures\", \"id\": 923}, {\"...  ...   \n",
       "4        [{\"name\": \"Walt Disney Pictures\", \"id\": 2}]  ...   \n",
       "\n",
       "                                    spoken_languages    status  \\\n",
       "0  [{\"iso_639_1\": \"en\", \"name\": \"English\"}, {\"iso...  Released   \n",
       "1           [{\"iso_639_1\": \"en\", \"name\": \"English\"}]  Released   \n",
       "2  [{\"iso_639_1\": \"fr\", \"name\": \"Fran\\u00e7ais\"},...  Released   \n",
       "3           [{\"iso_639_1\": \"en\", \"name\": \"English\"}]  Released   \n",
       "4           [{\"iso_639_1\": \"en\", \"name\": \"English\"}]  Released   \n",
       "\n",
       "                                          tagline  \\\n",
       "0                     Enter the World of Pandora.   \n",
       "1  At the end of the world, the adventure begins.   \n",
       "2                           A Plan No One Escapes   \n",
       "3                                 The Legend Ends   \n",
       "4            Lost in our world, found in another.   \n",
       "\n",
       "                                    title_x vote_average vote_count movie_id  \\\n",
       "0                                    Avatar          7.2      11800    19995   \n",
       "1  Pirates of the Caribbean: At World's End          6.9       4500      285   \n",
       "2                                   Spectre          6.3       4466   206647   \n",
       "3                     The Dark Knight Rises          7.6       9106    49026   \n",
       "4                               John Carter          6.1       2124    49529   \n",
       "\n",
       "                                    title_y  \\\n",
       "0                                    Avatar   \n",
       "1  Pirates of the Caribbean: At World's End   \n",
       "2                                   Spectre   \n",
       "3                     The Dark Knight Rises   \n",
       "4                               John Carter   \n",
       "\n",
       "                                                cast  \\\n",
       "0  [{\"cast_id\": 242, \"character\": \"Jake Sully\", \"...   \n",
       "1  [{\"cast_id\": 4, \"character\": \"Captain Jack Spa...   \n",
       "2  [{\"cast_id\": 1, \"character\": \"James Bond\", \"cr...   \n",
       "3  [{\"cast_id\": 2, \"character\": \"Bruce Wayne / Ba...   \n",
       "4  [{\"cast_id\": 5, \"character\": \"John Carter\", \"c...   \n",
       "\n",
       "                                                crew  \n",
       "0  [{\"credit_id\": \"52fe48009251416c750aca23\", \"de...  \n",
       "1  [{\"credit_id\": \"52fe4232c3a36847f800b579\", \"de...  \n",
       "2  [{\"credit_id\": \"54805967c3a36829b5002c41\", \"de...  \n",
       "3  [{\"credit_id\": \"52fe4781c3a36847f81398c3\", \"de...  \n",
       "4  [{\"credit_id\": \"52fe479ac3a36847f813eaa3\", \"de...  \n",
       "\n",
       "[5 rows x 24 columns]"
      ]
     },
     "execution_count": 3,
     "metadata": {},
     "output_type": "execute_result"
    }
   ],
   "source": [
    "df2.head()"
   ]
  },
  {
   "cell_type": "code",
   "execution_count": 83,
   "id": "ff38747a",
   "metadata": {},
   "outputs": [
    {
     "data": {
      "text/plain": [
       "(4803, 24)"
      ]
     },
     "execution_count": 83,
     "metadata": {},
     "output_type": "execute_result"
    }
   ],
   "source": [
    "df2.shape"
   ]
  },
  {
   "cell_type": "code",
   "execution_count": 4,
   "id": "b395b1ea",
   "metadata": {},
   "outputs": [],
   "source": [
    "# Rating.csv x Movie x credit\n",
    "\n",
    "# Silangkan diantara Data Content Base dan Collaborative\n",
    "df3= ratings.merge(df2,left_on='movieId', right_on='movie_id')"
   ]
  },
  {
   "cell_type": "code",
   "execution_count": 5,
   "id": "06c4c77d",
   "metadata": {},
   "outputs": [
    {
     "data": {
      "text/plain": [
       "(247466, 2)"
      ]
     },
     "execution_count": 5,
     "metadata": {},
     "output_type": "execute_result"
    }
   ],
   "source": [
    "# Lihat jumlah user yang redundan, karena user bisa memberikan rating lebih dari 1 kali\n",
    "listUserDF=df3.groupby('userId').size().reset_index(name='counts')\n",
    "listUserDF.shape"
   ]
  },
  {
   "cell_type": "code",
   "execution_count": 6,
   "id": "e905f296",
   "metadata": {
    "scrolled": true
   },
   "outputs": [
    {
     "data": {
      "text/html": [
       "<div>\n",
       "<style scoped>\n",
       "    .dataframe tbody tr th:only-of-type {\n",
       "        vertical-align: middle;\n",
       "    }\n",
       "\n",
       "    .dataframe tbody tr th {\n",
       "        vertical-align: top;\n",
       "    }\n",
       "\n",
       "    .dataframe thead th {\n",
       "        text-align: right;\n",
       "    }\n",
       "</style>\n",
       "<table border=\"1\" class=\"dataframe\">\n",
       "  <thead>\n",
       "    <tr style=\"text-align: right;\">\n",
       "      <th></th>\n",
       "      <th>userId</th>\n",
       "      <th>counts</th>\n",
       "    </tr>\n",
       "  </thead>\n",
       "  <tbody>\n",
       "    <tr>\n",
       "      <th>0</th>\n",
       "      <td>1</td>\n",
       "      <td>2</td>\n",
       "    </tr>\n",
       "    <tr>\n",
       "      <th>1</th>\n",
       "      <td>2</td>\n",
       "      <td>11</td>\n",
       "    </tr>\n",
       "    <tr>\n",
       "      <th>2</th>\n",
       "      <td>3</td>\n",
       "      <td>3</td>\n",
       "    </tr>\n",
       "    <tr>\n",
       "      <th>3</th>\n",
       "      <td>4</td>\n",
       "      <td>9</td>\n",
       "    </tr>\n",
       "    <tr>\n",
       "      <th>4</th>\n",
       "      <td>5</td>\n",
       "      <td>3</td>\n",
       "    </tr>\n",
       "  </tbody>\n",
       "</table>\n",
       "</div>"
      ],
      "text/plain": [
       "   userId  counts\n",
       "0       1       2\n",
       "1       2      11\n",
       "2       3       3\n",
       "3       4       9\n",
       "4       5       3"
      ]
     },
     "execution_count": 6,
     "metadata": {},
     "output_type": "execute_result"
    }
   ],
   "source": [
    "# Terlihat userId 1 memberikan 2 kali penilaian\n",
    "listUserDF.head()"
   ]
  },
  {
   "cell_type": "markdown",
   "id": "730e446c",
   "metadata": {},
   "source": [
    "# Balancing Data - User"
   ]
  },
  {
   "cell_type": "code",
   "execution_count": 7,
   "id": "af9a72ab",
   "metadata": {},
   "outputs": [],
   "source": [
    "# Pecah list User dan list Count User yang telah di Groupying\n",
    "\n",
    "listUser = listUserDF['userId'].values.tolist() \n",
    "listCountUser = listUserDF['counts'].values.tolist()"
   ]
  },
  {
   "cell_type": "code",
   "execution_count": 8,
   "id": "08f3d5d0",
   "metadata": {
    "scrolled": true
   },
   "outputs": [],
   "source": [
    "# pip install matplotlib\n",
    "# pip install pil\n",
    "\n",
    "# Tidak dijalankan karena terlalu berat\n",
    "# plt.style.use('_mpl-gallery')\n",
    "\n",
    "# x = listUser\n",
    "# y = listCountUser\n",
    "\n",
    "# # plot\n",
    "# fig, ax = plt.subplots(figsize=(50,20))\n",
    "\n",
    "# ax.bar(x, y, width=1, edgecolor=\"white\", linewidth=0.7)\n",
    "\n",
    "# ax.set( xticks=np.arange(1, max(x)),\n",
    "#         yticks=np.arange(1, max(y)))\n",
    "\n",
    "# plt.show()"
   ]
  },
  {
   "cell_type": "code",
   "execution_count": 9,
   "id": "54bcb03e",
   "metadata": {},
   "outputs": [
    {
     "data": {
      "image/png": "[encoded data removed]",
      "text/plain": [
       "<Figure size 2160x1440 with 1 Axes>"
      ]
     },
     "metadata": {
      "needs_background": "light"
     },
     "output_type": "display_data"
    }
   ],
   "source": [
    "# Dari data diatas, kemudian dibuat menjadi Hystogram\n",
    "data = listCountUser\n",
    "\n",
    "# fixed bin size\n",
    "fig, ax = plt.subplots(figsize=(30,20))\n",
    "\n",
    "plt.xlim([min(data)-5, max(data)+5])\n",
    "\n",
    "plt.hist(data, bins=100, alpha=0.8)\n",
    "plt.title('Histogram Kontribusi data yang diberikan')\n",
    "plt.xlabel('Banyak Data')\n",
    "plt.ylabel('Jumlah Banyak Data')\n",
    "\n",
    "plt.show()"
   ]
  },
  {
   "cell_type": "code",
   "execution_count": 10,
   "id": "02fc8b82",
   "metadata": {},
   "outputs": [
    {
     "name": "stdout",
     "output_type": "stream",
     "text": [
      "18.811800408945068\n",
      "30.65274266586585\n"
     ]
    }
   ],
   "source": [
    "# Modul membantu proses statistik\n",
    "import statistics\n",
    "\n",
    "# Meannya 18.81\n",
    "print(sum(listCountUser) / len(listCountUser))\n",
    "\n",
    "# Standar Deviasi nya 30.65\n",
    "print(statistics.stdev(listCountUser))\n",
    "\n",
    "# Dari grafik hystogram dan Standart Deviasi diketahui persebaran data bernilai 30 dengan mean 18.81\n",
    "# Artinya lokasi data terbanyak ada disekitar area tersebut (18.81)\n",
    "# Pada proses ini dipilih range nilai 25-100 untuk dijadikan data latih\n",
    "# Jika data record rating ke movie yang dilatihkan hanya berjumlah 5-20 per user, maka terlalu sedikit\n",
    "# Oleh karena itu, dengan bantuan Hystogram dipilih 25-100 untuk jadi data latih karena cukup banyak jumlah datanya\n",
    "# dan dirasa konstribusi data tersebut paling banyak dan dinilai cukup balance"
   ]
  },
  {
   "cell_type": "code",
   "execution_count": 15,
   "id": "f30f4a62",
   "metadata": {},
   "outputs": [
    {
     "data": {
      "text/plain": [
       "(44858, 2)"
      ]
     },
     "execution_count": 15,
     "metadata": {},
     "output_type": "execute_result"
    }
   ],
   "source": [
    "# Dapatin data lengkap dari 44858 user yang sudah diseleksi dari sebelumnya 247000an\n",
    "listUserDF_Sedang=listUserDF.loc[(listUserDF['counts']>25) & (listUserDF['counts']<100)]\n",
    "listUserDF_Sedang.shape\n",
    "\n",
    "# Kelompok Sedang"
   ]
  },
  {
   "cell_type": "code",
   "execution_count": 18,
   "id": "5fee0d3a",
   "metadata": {},
   "outputs": [
    {
     "data": {
      "text/plain": [
       "(6687, 2)"
      ]
     },
     "execution_count": 18,
     "metadata": {},
     "output_type": "execute_result"
    }
   ],
   "source": [
    "# Disini kita sudah mengambil data dengan range tengah\", tetapi range yang sangat tinggi atau rendah tidak terambil\n",
    "# Maka dari itu, range tinggi dan rendah juga akan dipakai.\n",
    "listUserDF_Tinggi=listUserDF.loc[listUserDF['counts']>100]\n",
    "listUserDF_Tinggi.shape\n",
    "\n",
    "# Kelompok Tinggi"
   ]
  },
  {
   "cell_type": "code",
   "execution_count": 17,
   "id": "9f454bd7",
   "metadata": {},
   "outputs": [
    {
     "data": {
      "text/plain": [
       "(193682, 2)"
      ]
     },
     "execution_count": 17,
     "metadata": {},
     "output_type": "execute_result"
    }
   ],
   "source": [
    "# Ternyata data cenderung berkumpul di kelompok rendah\n",
    "listUserDF_Rendah=listUserDF.loc[listUserDF['counts']<25]\n",
    "listUserDF_Rendah.shape\n",
    "\n",
    "# Kelompok Rendah"
   ]
  },
  {
   "cell_type": "code",
   "execution_count": 16,
   "id": "3d0950d4",
   "metadata": {
    "scrolled": true
   },
   "outputs": [
    {
     "data": {
      "text/html": [
       "<div>\n",
       "<style scoped>\n",
       "    .dataframe tbody tr th:only-of-type {\n",
       "        vertical-align: middle;\n",
       "    }\n",
       "\n",
       "    .dataframe tbody tr th {\n",
       "        vertical-align: top;\n",
       "    }\n",
       "\n",
       "    .dataframe thead th {\n",
       "        text-align: right;\n",
       "    }\n",
       "</style>\n",
       "<table border=\"1\" class=\"dataframe\">\n",
       "  <thead>\n",
       "    <tr style=\"text-align: right;\">\n",
       "      <th></th>\n",
       "      <th>userId</th>\n",
       "      <th>counts</th>\n",
       "    </tr>\n",
       "  </thead>\n",
       "  <tbody>\n",
       "    <tr>\n",
       "      <th>11</th>\n",
       "      <td>12</td>\n",
       "      <td>52</td>\n",
       "    </tr>\n",
       "    <tr>\n",
       "      <th>14</th>\n",
       "      <td>15</td>\n",
       "      <td>26</td>\n",
       "    </tr>\n",
       "    <tr>\n",
       "      <th>31</th>\n",
       "      <td>34</td>\n",
       "      <td>41</td>\n",
       "    </tr>\n",
       "    <tr>\n",
       "      <th>34</th>\n",
       "      <td>37</td>\n",
       "      <td>27</td>\n",
       "    </tr>\n",
       "    <tr>\n",
       "      <th>39</th>\n",
       "      <td>43</td>\n",
       "      <td>46</td>\n",
       "    </tr>\n",
       "  </tbody>\n",
       "</table>\n",
       "</div>"
      ],
      "text/plain": [
       "    userId  counts\n",
       "11      12      52\n",
       "14      15      26\n",
       "31      34      41\n",
       "34      37      27\n",
       "39      43      46"
      ]
     },
     "execution_count": 16,
     "metadata": {},
     "output_type": "execute_result"
    }
   ],
   "source": [
    "listUserDF_Sedang.head()"
   ]
  },
  {
   "cell_type": "code",
   "execution_count": 19,
   "id": "88d38c30",
   "metadata": {},
   "outputs": [],
   "source": [
    "listUser_Sedang = listUserDF_Sedang['userId'].values.tolist()\n",
    "listCountUser_Sedang = listUserDF_Sedang['counts'].values.tolist()"
   ]
  },
  {
   "cell_type": "code",
   "execution_count": 20,
   "id": "26f7ea98",
   "metadata": {
    "scrolled": true
   },
   "outputs": [],
   "source": [
    "#  Tidak dijalankan karena terlalu berat\n",
    "# plt.style.use('_mpl-gallery')\n",
    "\n",
    "# x = listUser\n",
    "# y = listCountUser\n",
    "\n",
    "# # plot\n",
    "# fig, ax = plt.subplots(figsize=(30,20))\n",
    "\n",
    "# ax.bar(x, y, width=1, edgecolor=\"white\", linewidth=0.7)\n",
    "\n",
    "# ax.set(xlim=(0, 8), xticks=np.arange(1, len(x)),\n",
    "#        ylim=(0, 8), yticks=np.arange(1, max(y)))\n",
    "\n",
    "# plt.show()"
   ]
  },
  {
   "cell_type": "code",
   "execution_count": 21,
   "id": "59689776",
   "metadata": {
    "scrolled": false
   },
   "outputs": [
    {
     "data": {
      "image/png": "[encoded data removed]",
      "text/plain": [
       "<Figure size 2160x1440 with 1 Axes>"
      ]
     },
     "metadata": {
      "needs_background": "light"
     },
     "output_type": "display_data"
    }
   ],
   "source": [
    "# Dari data diatas, kemudian dibuat menjadi Hystogram\n",
    "data = listCountUser_Sedang\n",
    "\n",
    "# fixed bin size\n",
    "fig, ax = plt.subplots(figsize=(30,20))\n",
    "\n",
    "plt.xlim([min(data)-5, max(data)+5])\n",
    "\n",
    "plt.hist(data, bins=50, alpha=0.8)\n",
    "plt.title('Histogram Kontribusi data yang diberikan')\n",
    "plt.xlabel('Banyak Data')\n",
    "plt.ylabel('Jumlah Banyak Data')\n",
    "\n",
    "plt.show()"
   ]
  },
  {
   "cell_type": "code",
   "execution_count": 22,
   "id": "b0bf57dd",
   "metadata": {},
   "outputs": [
    {
     "name": "stdout",
     "output_type": "stream",
     "text": [
      "47.51790093182933\n",
      "18.710642682079914\n"
     ]
    }
   ],
   "source": [
    "# Modul membantu proses statistik\n",
    "import statistics\n",
    "\n",
    "# Meannya 47.51\n",
    "# Nilai mean naik dari 18,5 menjadi 47.51\n",
    "print(sum(listCountUser_Sedang) / len(listCountUser_Sedang))\n",
    "\n",
    "# Standar Deviasi turun dari 30.65 menjadi 18.71\n",
    "# STDV yang mendekati 0 , menunjukan variasi data yang tersebat akan semakin kecil\n",
    "# Dengan menurunnya nilai STDV, maka persebaran data sudah lebih balance \n",
    "# dan range jumlah record ratings per user sudah naik menjadi sekitar 30 - 60\n",
    "print(statistics.stdev(listCountUser_Sedang))"
   ]
  },
  {
   "cell_type": "code",
   "execution_count": 17,
   "id": "21fbbfed",
   "metadata": {},
   "outputs": [],
   "source": [
    "# Memang masih terdapat data yang perbedaan jumlahnya masih cukup besar, tapi lebih baik dibanding sebelumnya"
   ]
  },
  {
   "cell_type": "code",
   "execution_count": 23,
   "id": "be42cc10",
   "metadata": {},
   "outputs": [],
   "source": [
    "listUser_Rendah = listUserDF_Rendah['userId'].values.tolist()\n",
    "listCountUser_Rendah = listUserDF_Rendah['counts'].values.tolist()"
   ]
  },
  {
   "cell_type": "code",
   "execution_count": 24,
   "id": "df215878",
   "metadata": {
    "scrolled": true
   },
   "outputs": [
    {
     "data": {
      "image/png": "[encoded data removed]",
      "text/plain": [
       "<Figure size 2160x1440 with 1 Axes>"
      ]
     },
     "metadata": {
      "needs_background": "light"
     },
     "output_type": "display_data"
    }
   ],
   "source": [
    "# Dari data diatas, kemudian dibuat menjadi Hystogram\n",
    "data = listCountUser_Rendah\n",
    "\n",
    "# fixed bin size\n",
    "fig, ax = plt.subplots(figsize=(30,20))\n",
    "\n",
    "plt.xlim([min(data)-5, max(data)+5])\n",
    "\n",
    "plt.hist(data, bins=50, alpha=0.8)\n",
    "plt.title('Histogram Kontribusi data yang diberikan')\n",
    "plt.xlabel('Banyak Data')\n",
    "plt.ylabel('Jumlah Banyak Data')\n",
    "\n",
    "plt.show()"
   ]
  },
  {
   "cell_type": "code",
   "execution_count": 25,
   "id": "b154c0ad",
   "metadata": {},
   "outputs": [
    {
     "name": "stdout",
     "output_type": "stream",
     "text": [
      "7.363317190033147\n",
      "6.086677310928878\n"
     ]
    }
   ],
   "source": [
    "# Meannya 7.36\n",
    "print(sum(listCountUser_Rendah) / len(listCountUser_Rendah))\n",
    "\n",
    "# Standar Deviasi nya 6\n",
    "print(statistics.stdev(listCountUser_Rendah))\n",
    "\n",
    "# Dari bentuk Hystogram dan nilai STDV, menurut kami sudah cukup baik untuk dipakai"
   ]
  },
  {
   "cell_type": "code",
   "execution_count": 27,
   "id": "ebc0f3e8",
   "metadata": {},
   "outputs": [],
   "source": [
    "listUser_Tinggi = listUserDF_Tinggi['userId'].values.tolist()\n",
    "listCountUser_Tinggi = listUserDF_Tinggi['counts'].values.tolist()"
   ]
  },
  {
   "cell_type": "code",
   "execution_count": 28,
   "id": "7b02cde9",
   "metadata": {},
   "outputs": [
    {
     "data": {
      "image/png": "[encoded data removed]",
      "text/plain": [
       "<Figure size 2160x1440 with 1 Axes>"
      ]
     },
     "metadata": {
      "needs_background": "light"
     },
     "output_type": "display_data"
    }
   ],
   "source": [
    "# Dari data diatas, kemudian dibuat menjadi Hystogram\n",
    "data = listCountUser_Tinggi\n",
    "\n",
    "# fixed bin size\n",
    "fig, ax = plt.subplots(figsize=(30,20))\n",
    "\n",
    "plt.xlim([min(data)-5, max(data)+5])\n",
    "\n",
    "plt.hist(data, bins=50, alpha=0.8)\n",
    "plt.title('Histogram Kontribusi data yang diberikan')\n",
    "plt.xlabel('Banyak Data')\n",
    "plt.ylabel('Jumlah Banyak Data')\n",
    "\n",
    "plt.show()"
   ]
  },
  {
   "cell_type": "code",
   "execution_count": 33,
   "id": "72e988a0",
   "metadata": {},
   "outputs": [
    {
     "name": "stdout",
     "output_type": "stream",
     "text": [
      "154.0834454912517\n",
      "59.73312799886549\n"
     ]
    }
   ],
   "source": [
    "# Meannya 154.08\n",
    "print(sum(listCountUser_Tinggi) / len(listCountUser_Tinggi))\n",
    "\n",
    "# Standar Deviasi nya 59.73\n",
    "print(statistics.stdev(listCountUser_Tinggi))\n",
    "\n",
    "# Dari bentuk Hystogram dan nilai STDV, menurut kami sudah cukup baik untuk dipakai karena meannya cukup tinggi\n",
    "# artinya jumlah datanya tidak ada yang terlalu sedikit, meskipun STDV nya masih besar."
   ]
  },
  {
   "cell_type": "markdown",
   "id": "8ab0c360",
   "metadata": {},
   "source": [
    "# Dari listUser yang sudah didapat, mergeJoin lagi dengan data Movie\n",
    "\n",
    "Supaya data movie bisa didapat kembali."
   ]
  },
  {
   "cell_type": "markdown",
   "id": "ab6d2da4",
   "metadata": {},
   "source": [
    "### Kelompok Sedang"
   ]
  },
  {
   "cell_type": "code",
   "execution_count": 32,
   "id": "f7280767",
   "metadata": {},
   "outputs": [],
   "source": [
    "# Dari data user yang tersisa 44858, akan dicari movie apa saja yang di rate oleh mereka\n",
    "df3_Filter_User_Sedang = listUserDF_Sedang.merge(df3,left_on='userId', right_on='userId')"
   ]
  },
  {
   "cell_type": "code",
   "execution_count": 35,
   "id": "9e9617e0",
   "metadata": {},
   "outputs": [
    {
     "data": {
      "text/plain": [
       "(2131558, 29)"
      ]
     },
     "execution_count": 35,
     "metadata": {},
     "output_type": "execute_result"
    }
   ],
   "source": [
    "# Dari 44858 user, ternyata terdapat data record sebanyak 2131558\n",
    "# Tapi data sebanyak 2131558 tersebut terdapat movie yang datanya duplikasi\n",
    "# Karena 1 user dapat merate lebih dari 1 film dan 1 film bisa dirate lebih dari 1 user\n",
    "df3_Filter_User_Sedang.shape"
   ]
  },
  {
   "cell_type": "code",
   "execution_count": 42,
   "id": "1b0330d9",
   "metadata": {
    "scrolled": true
   },
   "outputs": [
    {
     "data": {
      "text/html": [
       "<div>\n",
       "<style scoped>\n",
       "    .dataframe tbody tr th:only-of-type {\n",
       "        vertical-align: middle;\n",
       "    }\n",
       "\n",
       "    .dataframe tbody tr th {\n",
       "        vertical-align: top;\n",
       "    }\n",
       "\n",
       "    .dataframe thead th {\n",
       "        text-align: right;\n",
       "    }\n",
       "</style>\n",
       "<table border=\"1\" class=\"dataframe\">\n",
       "  <thead>\n",
       "    <tr style=\"text-align: right;\">\n",
       "      <th></th>\n",
       "      <th>userId</th>\n",
       "      <th>counts</th>\n",
       "      <th>movieId</th>\n",
       "      <th>rating</th>\n",
       "      <th>timestamp</th>\n",
       "      <th>budget</th>\n",
       "      <th>genres</th>\n",
       "      <th>homepage</th>\n",
       "      <th>id</th>\n",
       "      <th>keywords</th>\n",
       "      <th>...</th>\n",
       "      <th>spoken_languages</th>\n",
       "      <th>status</th>\n",
       "      <th>tagline</th>\n",
       "      <th>title_x</th>\n",
       "      <th>vote_average</th>\n",
       "      <th>vote_count</th>\n",
       "      <th>movie_id</th>\n",
       "      <th>title_y</th>\n",
       "      <th>cast</th>\n",
       "      <th>crew</th>\n",
       "    </tr>\n",
       "  </thead>\n",
       "  <tbody>\n",
       "    <tr>\n",
       "      <th>0</th>\n",
       "      <td>12</td>\n",
       "      <td>52</td>\n",
       "      <td>1246</td>\n",
       "      <td>5.0</td>\n",
       "      <td>943912834</td>\n",
       "      <td>24000000</td>\n",
       "      <td>[{\"id\": 18, \"name\": \"Drama\"}]</td>\n",
       "      <td>http://www.rocky.com/</td>\n",
       "      <td>1246</td>\n",
       "      <td>[{\"id\": 276, \"name\": \"philadelphia\"}, {\"id\": 3...</td>\n",
       "      <td>...</td>\n",
       "      <td>[{\"iso_639_1\": \"en\", \"name\": \"English\"}, {\"iso...</td>\n",
       "      <td>Released</td>\n",
       "      <td>It ain't over 'til it's over.</td>\n",
       "      <td>Rocky Balboa</td>\n",
       "      <td>6.5</td>\n",
       "      <td>835</td>\n",
       "      <td>1246</td>\n",
       "      <td>Rocky Balboa</td>\n",
       "      <td>[{\"cast_id\": 24, \"character\": \"Rocky Balboa\", ...</td>\n",
       "      <td>[{\"credit_id\": \"52fe42e9c3a36847f802c5f9\", \"de...</td>\n",
       "    </tr>\n",
       "    <tr>\n",
       "      <th>1</th>\n",
       "      <td>12</td>\n",
       "      <td>52</td>\n",
       "      <td>223</td>\n",
       "      <td>5.0</td>\n",
       "      <td>943912206</td>\n",
       "      <td>1288000</td>\n",
       "      <td>[{\"id\": 18, \"name\": \"Drama\"}, {\"id\": 9648, \"na...</td>\n",
       "      <td>NaN</td>\n",
       "      <td>223</td>\n",
       "      <td>[{\"id\": 660, \"name\": \"monte carlo\"}, {\"id\": 81...</td>\n",
       "      <td>...</td>\n",
       "      <td>[{\"iso_639_1\": \"en\", \"name\": \"English\"}, {\"iso...</td>\n",
       "      <td>Released</td>\n",
       "      <td>The shadow of this woman darkened their love.</td>\n",
       "      <td>Rebecca</td>\n",
       "      <td>7.7</td>\n",
       "      <td>336</td>\n",
       "      <td>223</td>\n",
       "      <td>Rebecca</td>\n",
       "      <td>[{\"cast_id\": 10, \"character\": \"'Maxim' de Wint...</td>\n",
       "      <td>[{\"credit_id\": \"56520a6d9251414af900b1b8\", \"de...</td>\n",
       "    </tr>\n",
       "    <tr>\n",
       "      <th>2</th>\n",
       "      <td>12</td>\n",
       "      <td>52</td>\n",
       "      <td>2355</td>\n",
       "      <td>4.0</td>\n",
       "      <td>943912871</td>\n",
       "      <td>20000000</td>\n",
       "      <td>[{\"id\": 18, \"name\": \"Drama\"}]</td>\n",
       "      <td>http://www.sonypictures.com/movies/reignoverme...</td>\n",
       "      <td>2355</td>\n",
       "      <td>[{\"id\": 2246, \"name\": \"confidence\"}, {\"id\": 27...</td>\n",
       "      <td>...</td>\n",
       "      <td>[{\"iso_639_1\": \"en\", \"name\": \"English\"}]</td>\n",
       "      <td>Released</td>\n",
       "      <td>Let in the unexpected.</td>\n",
       "      <td>Reign Over Me</td>\n",
       "      <td>7.1</td>\n",
       "      <td>334</td>\n",
       "      <td>2355</td>\n",
       "      <td>Reign Over Me</td>\n",
       "      <td>[{\"cast_id\": 15, \"character\": \"Charlie Fineman...</td>\n",
       "      <td>[{\"credit_id\": \"562eb58bc3a3681b5c00b9e6\", \"de...</td>\n",
       "    </tr>\n",
       "    <tr>\n",
       "      <th>3</th>\n",
       "      <td>12</td>\n",
       "      <td>52</td>\n",
       "      <td>157</td>\n",
       "      <td>1.0</td>\n",
       "      <td>943910494</td>\n",
       "      <td>18000000</td>\n",
       "      <td>[{\"id\": 878, \"name\": \"Science Fiction\"}, {\"id\"...</td>\n",
       "      <td>NaN</td>\n",
       "      <td>157</td>\n",
       "      <td>[]</td>\n",
       "      <td>...</td>\n",
       "      <td>[{\"iso_639_1\": \"en\", \"name\": \"English\"}, {\"iso...</td>\n",
       "      <td>Released</td>\n",
       "      <td>A dying planet. A fight for life.</td>\n",
       "      <td>Star Trek III: The Search for Spock</td>\n",
       "      <td>6.4</td>\n",
       "      <td>434</td>\n",
       "      <td>157</td>\n",
       "      <td>Star Trek III: The Search for Spock</td>\n",
       "      <td>[{\"cast_id\": 5, \"character\": \"Admiral James T....</td>\n",
       "      <td>[{\"credit_id\": \"52fe4220c3a36847f8005eb3\", \"de...</td>\n",
       "    </tr>\n",
       "    <tr>\n",
       "      <th>4</th>\n",
       "      <td>12</td>\n",
       "      <td>52</td>\n",
       "      <td>296</td>\n",
       "      <td>5.0</td>\n",
       "      <td>943911078</td>\n",
       "      <td>200000000</td>\n",
       "      <td>[{\"id\": 28, \"name\": \"Action\"}, {\"id\": 53, \"nam...</td>\n",
       "      <td>NaN</td>\n",
       "      <td>296</td>\n",
       "      <td>[{\"id\": 83, \"name\": \"saving the world\"}, {\"id\"...</td>\n",
       "      <td>...</td>\n",
       "      <td>[{\"iso_639_1\": \"en\", \"name\": \"English\"}]</td>\n",
       "      <td>Released</td>\n",
       "      <td>The Machines Will Rise.</td>\n",
       "      <td>Terminator 3: Rise of the Machines</td>\n",
       "      <td>5.9</td>\n",
       "      <td>2143</td>\n",
       "      <td>296</td>\n",
       "      <td>Terminator 3: Rise of the Machines</td>\n",
       "      <td>[{\"cast_id\": 6, \"character\": \"The Terminator\",...</td>\n",
       "      <td>[{\"credit_id\": \"52fe4234c3a36847f800bcef\", \"de...</td>\n",
       "    </tr>\n",
       "  </tbody>\n",
       "</table>\n",
       "<p>5 rows × 29 columns</p>\n",
       "</div>"
      ],
      "text/plain": [
       "   userId  counts  movieId  rating  timestamp     budget  \\\n",
       "0      12      52     1246     5.0  943912834   24000000   \n",
       "1      12      52      223     5.0  943912206    1288000   \n",
       "2      12      52     2355     4.0  943912871   20000000   \n",
       "3      12      52      157     1.0  943910494   18000000   \n",
       "4      12      52      296     5.0  943911078  200000000   \n",
       "\n",
       "                                              genres  \\\n",
       "0                      [{\"id\": 18, \"name\": \"Drama\"}]   \n",
       "1  [{\"id\": 18, \"name\": \"Drama\"}, {\"id\": 9648, \"na...   \n",
       "2                      [{\"id\": 18, \"name\": \"Drama\"}]   \n",
       "3  [{\"id\": 878, \"name\": \"Science Fiction\"}, {\"id\"...   \n",
       "4  [{\"id\": 28, \"name\": \"Action\"}, {\"id\": 53, \"nam...   \n",
       "\n",
       "                                            homepage    id  \\\n",
       "0                              http://www.rocky.com/  1246   \n",
       "1                                                NaN   223   \n",
       "2  http://www.sonypictures.com/movies/reignoverme...  2355   \n",
       "3                                                NaN   157   \n",
       "4                                                NaN   296   \n",
       "\n",
       "                                            keywords  ...  \\\n",
       "0  [{\"id\": 276, \"name\": \"philadelphia\"}, {\"id\": 3...  ...   \n",
       "1  [{\"id\": 660, \"name\": \"monte carlo\"}, {\"id\": 81...  ...   \n",
       "2  [{\"id\": 2246, \"name\": \"confidence\"}, {\"id\": 27...  ...   \n",
       "3                                                 []  ...   \n",
       "4  [{\"id\": 83, \"name\": \"saving the world\"}, {\"id\"...  ...   \n",
       "\n",
       "                                    spoken_languages    status  \\\n",
       "0  [{\"iso_639_1\": \"en\", \"name\": \"English\"}, {\"iso...  Released   \n",
       "1  [{\"iso_639_1\": \"en\", \"name\": \"English\"}, {\"iso...  Released   \n",
       "2           [{\"iso_639_1\": \"en\", \"name\": \"English\"}]  Released   \n",
       "3  [{\"iso_639_1\": \"en\", \"name\": \"English\"}, {\"iso...  Released   \n",
       "4           [{\"iso_639_1\": \"en\", \"name\": \"English\"}]  Released   \n",
       "\n",
       "                                         tagline  \\\n",
       "0                  It ain't over 'til it's over.   \n",
       "1  The shadow of this woman darkened their love.   \n",
       "2                         Let in the unexpected.   \n",
       "3              A dying planet. A fight for life.   \n",
       "4                        The Machines Will Rise.   \n",
       "\n",
       "                               title_x vote_average vote_count movie_id  \\\n",
       "0                         Rocky Balboa          6.5        835     1246   \n",
       "1                              Rebecca          7.7        336      223   \n",
       "2                        Reign Over Me          7.1        334     2355   \n",
       "3  Star Trek III: The Search for Spock          6.4        434      157   \n",
       "4   Terminator 3: Rise of the Machines          5.9       2143      296   \n",
       "\n",
       "                               title_y  \\\n",
       "0                         Rocky Balboa   \n",
       "1                              Rebecca   \n",
       "2                        Reign Over Me   \n",
       "3  Star Trek III: The Search for Spock   \n",
       "4   Terminator 3: Rise of the Machines   \n",
       "\n",
       "                                                cast  \\\n",
       "0  [{\"cast_id\": 24, \"character\": \"Rocky Balboa\", ...   \n",
       "1  [{\"cast_id\": 10, \"character\": \"'Maxim' de Wint...   \n",
       "2  [{\"cast_id\": 15, \"character\": \"Charlie Fineman...   \n",
       "3  [{\"cast_id\": 5, \"character\": \"Admiral James T....   \n",
       "4  [{\"cast_id\": 6, \"character\": \"The Terminator\",...   \n",
       "\n",
       "                                                crew  \n",
       "0  [{\"credit_id\": \"52fe42e9c3a36847f802c5f9\", \"de...  \n",
       "1  [{\"credit_id\": \"56520a6d9251414af900b1b8\", \"de...  \n",
       "2  [{\"credit_id\": \"562eb58bc3a3681b5c00b9e6\", \"de...  \n",
       "3  [{\"credit_id\": \"52fe4220c3a36847f8005eb3\", \"de...  \n",
       "4  [{\"credit_id\": \"52fe4234c3a36847f800bcef\", \"de...  \n",
       "\n",
       "[5 rows x 29 columns]"
      ]
     },
     "execution_count": 42,
     "metadata": {},
     "output_type": "execute_result"
    }
   ],
   "source": [
    "df3_Filter_User_Sedang[df3_Filter_User_Sedang['userId']==12].head(5)"
   ]
  },
  {
   "cell_type": "markdown",
   "id": "5eef6c2f",
   "metadata": {},
   "source": [
    "### Kelompok Tinggi"
   ]
  },
  {
   "cell_type": "code",
   "execution_count": 37,
   "id": "09746f5f",
   "metadata": {},
   "outputs": [],
   "source": [
    "# Dari data user yang tersisa 6687, akan dicari movie apa saja yang di rate oleh mereka\n",
    "df3_Filter_User_Tinggi = listUserDF_Tinggi.merge(df3,left_on='userId', right_on='userId')"
   ]
  },
  {
   "cell_type": "code",
   "execution_count": 38,
   "id": "13d94f64",
   "metadata": {},
   "outputs": [
    {
     "data": {
      "text/plain": [
       "(1030356, 29)"
      ]
     },
     "execution_count": 38,
     "metadata": {},
     "output_type": "execute_result"
    }
   ],
   "source": [
    "# Dari 6687 user, ternyata terdapat data record sebanyak 1030356\n",
    "# Tapi data sebanyak 1030356 tersebut terdapat movie yang datanya duplikasi\n",
    "# Karena 1 user dapat merate lebih dari 1 film dan 1 film bisa dirate lebih dari 1 user\n",
    "df3_Filter_User_Tinggi.shape"
   ]
  },
  {
   "cell_type": "code",
   "execution_count": 41,
   "id": "54bbe3ce",
   "metadata": {
    "scrolled": false
   },
   "outputs": [
    {
     "data": {
      "text/html": [
       "<div>\n",
       "<style scoped>\n",
       "    .dataframe tbody tr th:only-of-type {\n",
       "        vertical-align: middle;\n",
       "    }\n",
       "\n",
       "    .dataframe tbody tr th {\n",
       "        vertical-align: top;\n",
       "    }\n",
       "\n",
       "    .dataframe thead th {\n",
       "        text-align: right;\n",
       "    }\n",
       "</style>\n",
       "<table border=\"1\" class=\"dataframe\">\n",
       "  <thead>\n",
       "    <tr style=\"text-align: right;\">\n",
       "      <th></th>\n",
       "      <th>userId</th>\n",
       "      <th>counts</th>\n",
       "      <th>movieId</th>\n",
       "      <th>rating</th>\n",
       "      <th>timestamp</th>\n",
       "      <th>budget</th>\n",
       "      <th>genres</th>\n",
       "      <th>homepage</th>\n",
       "      <th>id</th>\n",
       "      <th>keywords</th>\n",
       "      <th>...</th>\n",
       "      <th>spoken_languages</th>\n",
       "      <th>status</th>\n",
       "      <th>tagline</th>\n",
       "      <th>title_x</th>\n",
       "      <th>vote_average</th>\n",
       "      <th>vote_count</th>\n",
       "      <th>movie_id</th>\n",
       "      <th>title_y</th>\n",
       "      <th>cast</th>\n",
       "      <th>crew</th>\n",
       "    </tr>\n",
       "  </thead>\n",
       "  <tbody>\n",
       "  </tbody>\n",
       "</table>\n",
       "<p>0 rows × 29 columns</p>\n",
       "</div>"
      ],
      "text/plain": [
       "Empty DataFrame\n",
       "Columns: [userId, counts, movieId, rating, timestamp, budget, genres, homepage, id, keywords, original_language, original_title, overview, popularity, production_companies, production_countries, release_date, revenue, runtime, spoken_languages, status, tagline, title_x, vote_average, vote_count, movie_id, title_y, cast, crew]\n",
       "Index: []\n",
       "\n",
       "[0 rows x 29 columns]"
      ]
     },
     "execution_count": 41,
     "metadata": {},
     "output_type": "execute_result"
    }
   ],
   "source": [
    "df3_Filter_User_Tinggi[df3_Filter_User_Tinggi['userId']==12].head(5)"
   ]
  },
  {
   "cell_type": "markdown",
   "id": "af1fc2c5",
   "metadata": {},
   "source": [
    "### Kelompok Rendah"
   ]
  },
  {
   "cell_type": "code",
   "execution_count": 43,
   "id": "ce4188e0",
   "metadata": {},
   "outputs": [],
   "source": [
    "# Dari data user yang tersisa 193682, akan dicari movie apa saja yang di rate oleh mereka\n",
    "df3_Filter_User_Rendah = listUserDF_Rendah.merge(df3,left_on='userId', right_on='userId')"
   ]
  },
  {
   "cell_type": "code",
   "execution_count": 44,
   "id": "9e9617e0",
   "metadata": {},
   "outputs": [
    {
     "data": {
      "text/plain": [
       "(1426142, 29)"
      ]
     },
     "execution_count": 44,
     "metadata": {},
     "output_type": "execute_result"
    }
   ],
   "source": [
    "# Dari 193682 user, ternyata terdapat data record sebanyak 1426142\n",
    "# Tapi data sebanyak 1426142 tersebut terdapat movie yang datanya duplikasi\n",
    "# Karena 1 user dapat merate lebih dari 1 film dan 1 film bisa dirate lebih dari 1 user\n",
    "df3_Filter_User_Rendah.shape"
   ]
  },
  {
   "cell_type": "code",
   "execution_count": 45,
   "id": "1b0330d9",
   "metadata": {
    "scrolled": true
   },
   "outputs": [
    {
     "data": {
      "text/html": [
       "<div>\n",
       "<style scoped>\n",
       "    .dataframe tbody tr th:only-of-type {\n",
       "        vertical-align: middle;\n",
       "    }\n",
       "\n",
       "    .dataframe tbody tr th {\n",
       "        vertical-align: top;\n",
       "    }\n",
       "\n",
       "    .dataframe thead th {\n",
       "        text-align: right;\n",
       "    }\n",
       "</style>\n",
       "<table border=\"1\" class=\"dataframe\">\n",
       "  <thead>\n",
       "    <tr style=\"text-align: right;\">\n",
       "      <th></th>\n",
       "      <th>userId</th>\n",
       "      <th>counts</th>\n",
       "      <th>movieId</th>\n",
       "      <th>rating</th>\n",
       "      <th>timestamp</th>\n",
       "      <th>budget</th>\n",
       "      <th>genres</th>\n",
       "      <th>homepage</th>\n",
       "      <th>id</th>\n",
       "      <th>keywords</th>\n",
       "      <th>...</th>\n",
       "      <th>spoken_languages</th>\n",
       "      <th>status</th>\n",
       "      <th>tagline</th>\n",
       "      <th>title_x</th>\n",
       "      <th>vote_average</th>\n",
       "      <th>vote_count</th>\n",
       "      <th>movie_id</th>\n",
       "      <th>title_y</th>\n",
       "      <th>cast</th>\n",
       "      <th>crew</th>\n",
       "    </tr>\n",
       "  </thead>\n",
       "  <tbody>\n",
       "  </tbody>\n",
       "</table>\n",
       "<p>0 rows × 29 columns</p>\n",
       "</div>"
      ],
      "text/plain": [
       "Empty DataFrame\n",
       "Columns: [userId, counts, movieId, rating, timestamp, budget, genres, homepage, id, keywords, original_language, original_title, overview, popularity, production_companies, production_countries, release_date, revenue, runtime, spoken_languages, status, tagline, title_x, vote_average, vote_count, movie_id, title_y, cast, crew]\n",
       "Index: []\n",
       "\n",
       "[0 rows x 29 columns]"
      ]
     },
     "execution_count": 45,
     "metadata": {},
     "output_type": "execute_result"
    }
   ],
   "source": [
    "df3_Filter_User_Rendah[df3_Filter_User_Rendah['userId']==12].head(5)"
   ]
  },
  {
   "cell_type": "code",
   "execution_count": 45,
   "id": "645316e1",
   "metadata": {},
   "outputs": [],
   "source": [
    "# # ubah tipe data int dari movie_id jadi str\n",
    "# df3_Filter_User['movie_id'] = df3_Filter_User['movie_id'].apply(str)"
   ]
  },
  {
   "cell_type": "markdown",
   "id": "6c028fe0",
   "metadata": {},
   "source": [
    "# Balancing Data - movie Id - kelompok sedang"
   ]
  },
  {
   "cell_type": "markdown",
   "id": "472d3fbb",
   "metadata": {},
   "source": [
    "### Kelompok Sedang"
   ]
  },
  {
   "cell_type": "code",
   "execution_count": 47,
   "id": "b498e474",
   "metadata": {
    "scrolled": true
   },
   "outputs": [
    {
     "data": {
      "text/html": [
       "<div>\n",
       "<style scoped>\n",
       "    .dataframe tbody tr th:only-of-type {\n",
       "        vertical-align: middle;\n",
       "    }\n",
       "\n",
       "    .dataframe tbody tr th {\n",
       "        vertical-align: top;\n",
       "    }\n",
       "\n",
       "    .dataframe thead th {\n",
       "        text-align: right;\n",
       "    }\n",
       "</style>\n",
       "<table border=\"1\" class=\"dataframe\">\n",
       "  <thead>\n",
       "    <tr style=\"text-align: right;\">\n",
       "      <th></th>\n",
       "      <th>movie_id</th>\n",
       "      <th>counts</th>\n",
       "    </tr>\n",
       "  </thead>\n",
       "  <tbody>\n",
       "    <tr>\n",
       "      <th>0</th>\n",
       "      <td>5</td>\n",
       "      <td>5620</td>\n",
       "    </tr>\n",
       "    <tr>\n",
       "      <th>1</th>\n",
       "      <td>11</td>\n",
       "      <td>10964</td>\n",
       "    </tr>\n",
       "    <tr>\n",
       "      <th>2</th>\n",
       "      <td>12</td>\n",
       "      <td>1699</td>\n",
       "    </tr>\n",
       "    <tr>\n",
       "      <th>3</th>\n",
       "      <td>13</td>\n",
       "      <td>836</td>\n",
       "    </tr>\n",
       "    <tr>\n",
       "      <th>4</th>\n",
       "      <td>14</td>\n",
       "      <td>2626</td>\n",
       "    </tr>\n",
       "    <tr>\n",
       "      <th>...</th>\n",
       "      <td>...</td>\n",
       "      <td>...</td>\n",
       "    </tr>\n",
       "    <tr>\n",
       "      <th>1299</th>\n",
       "      <td>172533</td>\n",
       "      <td>1</td>\n",
       "    </tr>\n",
       "    <tr>\n",
       "      <th>1300</th>\n",
       "      <td>173931</td>\n",
       "      <td>1</td>\n",
       "    </tr>\n",
       "    <tr>\n",
       "      <th>1301</th>\n",
       "      <td>174751</td>\n",
       "      <td>1</td>\n",
       "    </tr>\n",
       "    <tr>\n",
       "      <th>1302</th>\n",
       "      <td>175291</td>\n",
       "      <td>2</td>\n",
       "    </tr>\n",
       "    <tr>\n",
       "      <th>1303</th>\n",
       "      <td>176077</td>\n",
       "      <td>1</td>\n",
       "    </tr>\n",
       "  </tbody>\n",
       "</table>\n",
       "<p>1304 rows × 2 columns</p>\n",
       "</div>"
      ],
      "text/plain": [
       "      movie_id  counts\n",
       "0            5    5620\n",
       "1           11   10964\n",
       "2           12    1699\n",
       "3           13     836\n",
       "4           14    2626\n",
       "...        ...     ...\n",
       "1299    172533       1\n",
       "1300    173931       1\n",
       "1301    174751       1\n",
       "1302    175291       2\n",
       "1303    176077       1\n",
       "\n",
       "[1304 rows x 2 columns]"
      ]
     },
     "execution_count": 47,
     "metadata": {},
     "output_type": "execute_result"
    }
   ],
   "source": [
    "# Lakukan Grouping ke movie, ternyata terdapat 1304  Movie , \n",
    "# Artinya telah berkurang dari sebelumnya 4803 movie\n",
    "listMoiveDF_Sedang=df3_Filter_User_Sedang.groupby('movie_id').size().reset_index(name='counts')\n",
    "listMoiveDF_Sedang"
   ]
  },
  {
   "cell_type": "code",
   "execution_count": 48,
   "id": "0e460010",
   "metadata": {},
   "outputs": [],
   "source": [
    "listMovieSedang = listMoiveDF_Sedang['movie_id'].values.tolist()\n",
    "listCountMovieSedang = listMoiveDF_Sedang['counts'].values.tolist()"
   ]
  },
  {
   "cell_type": "code",
   "execution_count": 83,
   "id": "8acc993e",
   "metadata": {
    "scrolled": true
   },
   "outputs": [],
   "source": [
    "# Tidak dijalankan karena terlalu berat\n",
    "\n",
    "# plt.style.use('_mpl-gallery')\n",
    "\n",
    "# x = listMovie\n",
    "# y = listCountMovie\n",
    "\n",
    "# # plot\n",
    "# fig, ax = plt.subplots(figsize=(30,15))\n",
    "\n",
    "# ax.bar(x, y, width=1, edgecolor=\"white\", linewidth=0.7)\n",
    "\n",
    "# ax.set(xlim=(0, 8), xticks=np.arange(1, len(x)),\n",
    "#        ylim=(0, 8), yticks=np.arange(1, max(y)))\n",
    "\n",
    "# plt.show()"
   ]
  },
  {
   "cell_type": "code",
   "execution_count": 49,
   "id": "ed5209d9",
   "metadata": {
    "scrolled": true
   },
   "outputs": [
    {
     "data": {
      "image/png": "[encoded data removed]",
      "text/plain": [
       "<Figure size 2160x1440 with 1 Axes>"
      ]
     },
     "metadata": {
      "needs_background": "light"
     },
     "output_type": "display_data"
    }
   ],
   "source": [
    "# Dari data diatas, kemudian dibuat menjadi Hystogram\n",
    "data = listCountMovieSedang\n",
    "\n",
    "# fixed bin size\n",
    "fig, ax = plt.subplots(figsize=(30,20))\n",
    "\n",
    "plt.xlim([min(data)-5, max(data)+5])\n",
    "\n",
    "plt.hist(data, bins=50, alpha=0.8)\n",
    "plt.title('Histogram Kontribusi data yang diberikan')\n",
    "plt.xlabel('Banyak Data')\n",
    "plt.ylabel('Jumlah Banyak Data')\n",
    "\n",
    "plt.show()"
   ]
  },
  {
   "cell_type": "code",
   "execution_count": 50,
   "id": "f8e83f39",
   "metadata": {},
   "outputs": [
    {
     "name": "stdout",
     "output_type": "stream",
     "text": [
      "1634.6303680981596\n",
      "3788.783864181728\n"
     ]
    }
   ],
   "source": [
    "# Meannya 1635\n",
    "print(sum(listCountMovieSedang) / len(listCountMovieSedang))\n",
    "\n",
    "# Standar Deviasi nya 3788\n",
    "print(statistics.stdev(listCountMovieSedang))\n",
    "\n",
    "# Dari grafik hystogram dipilih range nilai 750-6000 untuk dijadikan data latih\n",
    "# Karena konstribusi data tersebut paling banyak dan dinilai cukup balance"
   ]
  },
  {
   "cell_type": "code",
   "execution_count": 71,
   "id": "c520d6f4",
   "metadata": {},
   "outputs": [
    {
     "data": {
      "text/plain": [
       "(309, 2)"
      ]
     },
     "execution_count": 71,
     "metadata": {},
     "output_type": "execute_result"
    }
   ],
   "source": [
    "# Dari hystogram diatas, diketahui bahwa terdapat Movie_id 309, cukup balance jumlah data yang dimiliki\n",
    "listMoiveDF_Sedang_Final = listMoiveDF_Sedang.loc[(listMoiveDF_Sedang['counts']>750) & (listMoiveDF_Sedang['counts']<6000)]\n",
    "listMoiveDF_Sedang_Final.shape"
   ]
  },
  {
   "cell_type": "code",
   "execution_count": 57,
   "id": "5f29cd81",
   "metadata": {},
   "outputs": [],
   "source": [
    "listMovieSedangFinal = listMoiveDF_Sedang_Final['movie_id'].values.tolist()\n",
    "listCountMovieSedangFinal = listMoiveDF_Sedang_Final['counts'].values.tolist()"
   ]
  },
  {
   "cell_type": "code",
   "execution_count": 58,
   "id": "201ddf88",
   "metadata": {},
   "outputs": [
    {
     "data": {
      "image/png": "[encoded data removed]",
      "text/plain": [
       "<Figure size 2160x1440 with 1 Axes>"
      ]
     },
     "metadata": {
      "needs_background": "light"
     },
     "output_type": "display_data"
    }
   ],
   "source": [
    "data = listCountMovieSedangFinal\n",
    "\n",
    "fig, ax = plt.subplots(figsize=(30,20))\n",
    "\n",
    "plt.xlim([min(data)-5, max(data)+5])\n",
    "\n",
    "plt.hist(data, bins=50, alpha=0.8)\n",
    "plt.title('Histogram Kontribusi data yang diberikan')\n",
    "plt.xlabel('Banyak Data')\n",
    "plt.ylabel('Jumlah Banyak Data')\n",
    "\n",
    "plt.show()"
   ]
  },
  {
   "cell_type": "code",
   "execution_count": 61,
   "id": "74d5cb06",
   "metadata": {
    "scrolled": true
   },
   "outputs": [
    {
     "name": "stdout",
     "output_type": "stream",
     "text": [
      "2441.517799352751\n",
      "1448.9425310501624\n"
     ]
    }
   ],
   "source": [
    "# Meannya 2441.517\n",
    "print(sum(listCountMovieSedangFinal) / len(listCountMovieSedangFinal))\n",
    "\n",
    "# Standar Deviasi nya turun dari 3788 menjadi 1449\n",
    "print(statistics.stdev(listCountMovieSedangFinal))\n",
    "\n",
    "# Diketahui nilai STDV sudah turun lebih dari 1/2 kali. Artinya persebaran data sudah lebih teratur dan nilai meannya adalah\n",
    "# 2441, dimana persebaran di range sekitar nilai tersebut dinilai sudah lebih baik."
   ]
  },
  {
   "cell_type": "markdown",
   "id": "272aa496",
   "metadata": {},
   "source": [
    "### Kelompok Tinggi"
   ]
  },
  {
   "cell_type": "code",
   "execution_count": 62,
   "id": "e0388d9e",
   "metadata": {
    "scrolled": true
   },
   "outputs": [
    {
     "data": {
      "text/html": [
       "<div>\n",
       "<style scoped>\n",
       "    .dataframe tbody tr th:only-of-type {\n",
       "        vertical-align: middle;\n",
       "    }\n",
       "\n",
       "    .dataframe tbody tr th {\n",
       "        vertical-align: top;\n",
       "    }\n",
       "\n",
       "    .dataframe thead th {\n",
       "        text-align: right;\n",
       "    }\n",
       "</style>\n",
       "<table border=\"1\" class=\"dataframe\">\n",
       "  <thead>\n",
       "    <tr style=\"text-align: right;\">\n",
       "      <th></th>\n",
       "      <th>movie_id</th>\n",
       "      <th>counts</th>\n",
       "    </tr>\n",
       "  </thead>\n",
       "  <tbody>\n",
       "    <tr>\n",
       "      <th>0</th>\n",
       "      <td>5</td>\n",
       "      <td>2297</td>\n",
       "    </tr>\n",
       "    <tr>\n",
       "      <th>1</th>\n",
       "      <td>11</td>\n",
       "      <td>3529</td>\n",
       "    </tr>\n",
       "    <tr>\n",
       "      <th>2</th>\n",
       "      <td>12</td>\n",
       "      <td>1142</td>\n",
       "    </tr>\n",
       "    <tr>\n",
       "      <th>3</th>\n",
       "      <td>13</td>\n",
       "      <td>515</td>\n",
       "    </tr>\n",
       "    <tr>\n",
       "      <th>4</th>\n",
       "      <td>14</td>\n",
       "      <td>1230</td>\n",
       "    </tr>\n",
       "    <tr>\n",
       "      <th>...</th>\n",
       "      <td>...</td>\n",
       "      <td>...</td>\n",
       "    </tr>\n",
       "    <tr>\n",
       "      <th>1329</th>\n",
       "      <td>162396</td>\n",
       "      <td>14</td>\n",
       "    </tr>\n",
       "    <tr>\n",
       "      <th>1330</th>\n",
       "      <td>168530</td>\n",
       "      <td>1</td>\n",
       "    </tr>\n",
       "    <tr>\n",
       "      <th>1331</th>\n",
       "      <td>171759</td>\n",
       "      <td>14</td>\n",
       "    </tr>\n",
       "    <tr>\n",
       "      <th>1332</th>\n",
       "      <td>172533</td>\n",
       "      <td>1</td>\n",
       "    </tr>\n",
       "    <tr>\n",
       "      <th>1333</th>\n",
       "      <td>175291</td>\n",
       "      <td>2</td>\n",
       "    </tr>\n",
       "  </tbody>\n",
       "</table>\n",
       "<p>1334 rows × 2 columns</p>\n",
       "</div>"
      ],
      "text/plain": [
       "      movie_id  counts\n",
       "0            5    2297\n",
       "1           11    3529\n",
       "2           12    1142\n",
       "3           13     515\n",
       "4           14    1230\n",
       "...        ...     ...\n",
       "1329    162396      14\n",
       "1330    168530       1\n",
       "1331    171759      14\n",
       "1332    172533       1\n",
       "1333    175291       2\n",
       "\n",
       "[1334 rows x 2 columns]"
      ]
     },
     "execution_count": 62,
     "metadata": {},
     "output_type": "execute_result"
    }
   ],
   "source": [
    "# Lakukan Grouping ke movie, ternyata terdapat 1334  Movie , \n",
    "# Artinya telah berkurang dari sebelumnya 4803 movie\n",
    "listMoiveDF_Tinggi=df3_Filter_User_Tinggi.groupby('movie_id').size().reset_index(name='counts')\n",
    "listMoiveDF_Tinggi"
   ]
  },
  {
   "cell_type": "code",
   "execution_count": 63,
   "id": "627bea1c",
   "metadata": {},
   "outputs": [],
   "source": [
    "listMovieTinggi = listMoiveDF_Tinggi['movie_id'].values.tolist()\n",
    "listCountMovieTinggi = listMoiveDF_Tinggi['counts'].values.tolist()"
   ]
  },
  {
   "cell_type": "code",
   "execution_count": 64,
   "id": "849b69c1",
   "metadata": {
    "scrolled": false
   },
   "outputs": [
    {
     "data": {
      "image/png": "[encoded data removed]",
      "text/plain": [
       "<Figure size 2160x1440 with 1 Axes>"
      ]
     },
     "metadata": {
      "needs_background": "light"
     },
     "output_type": "display_data"
    }
   ],
   "source": [
    "# Dari data diatas, kemudian dibuat menjadi Hystogram\n",
    "data = listCountMovieTinggi\n",
    "\n",
    "# fixed bin size\n",
    "fig, ax = plt.subplots(figsize=(30,20))\n",
    "\n",
    "plt.xlim([min(data)-5, max(data)+5])\n",
    "\n",
    "plt.hist(data, bins=50, alpha=0.8)\n",
    "plt.title('Histogram Kontribusi data yang diberikan')\n",
    "plt.xlabel('Banyak Data')\n",
    "plt.ylabel('Jumlah Banyak Data')\n",
    "\n",
    "plt.show()"
   ]
  },
  {
   "cell_type": "code",
   "execution_count": 66,
   "id": "5b5c36a6",
   "metadata": {},
   "outputs": [
    {
     "name": "stdout",
     "output_type": "stream",
     "text": [
      "772.3808095952024\n",
      "1197.7557403807123\n"
     ]
    }
   ],
   "source": [
    "# Meannya 772\n",
    "print(sum(listCountMovieTinggi) / len(listCountMovieTinggi))\n",
    "\n",
    "# Standar Deviasi nya 1197\n",
    "print(statistics.stdev(listCountMovieTinggi))\n",
    "\n",
    "# Pada STDV dan Hystogram tersebut sebetulnya diketahui data ini kurang baik. Karena tidak stabil\n",
    "# Maka akan dilakukan balancing, dengan nilai disekitar 500 - 1200 karena persebaran berada di area tersebut\n",
    "# dan data sebanyak 500 - 1200 sudah diraca cukup banyak"
   ]
  },
  {
   "cell_type": "code",
   "execution_count": 78,
   "id": "44047800",
   "metadata": {},
   "outputs": [
    {
     "data": {
      "text/plain": [
       "(180, 2)"
      ]
     },
     "execution_count": 78,
     "metadata": {},
     "output_type": "execute_result"
    }
   ],
   "source": [
    "# Dari hystogram diatas, diketahui bahwa terdapat Movie_id 309, cukup balance jumlah data yang dimiliki\n",
    "listMoiveDF_Tinggi_Final = listMoiveDF_Tinggi.loc[(listMoiveDF_Tinggi['counts']>500) & (listMoiveDF_Tinggi['counts']<1200)]\n",
    "listMoiveDF_Tinggi_Final.shape"
   ]
  },
  {
   "cell_type": "code",
   "execution_count": 79,
   "id": "77ca40cf",
   "metadata": {},
   "outputs": [],
   "source": [
    "listMovieTinggiFinal = listMoiveDF_Tinggi_Final['movie_id'].values.tolist()\n",
    "listCountMovieTinggiFinal = listMoiveDF_Tinggi_Final['counts'].values.tolist()"
   ]
  },
  {
   "cell_type": "code",
   "execution_count": 80,
   "id": "17c0d67c",
   "metadata": {
    "scrolled": true
   },
   "outputs": [
    {
     "data": {
      "image/png": "[encoded data removed]",
      "text/plain": [
       "<Figure size 2160x1440 with 1 Axes>"
      ]
     },
     "metadata": {
      "needs_background": "light"
     },
     "output_type": "display_data"
    }
   ],
   "source": [
    "# Dari data diatas, kemudian dibuat menjadi Hystogram\n",
    "data = listCountMovieTinggiFinal\n",
    "\n",
    "# fixed bin size\n",
    "fig, ax = plt.subplots(figsize=(30,20))\n",
    "\n",
    "plt.xlim([min(data)-5, max(data)+5])\n",
    "\n",
    "plt.hist(data, bins=50, alpha=0.8)\n",
    "plt.title('Histogram Kontribusi data yang diberikan')\n",
    "plt.xlabel('Banyak Data')\n",
    "plt.ylabel('Jumlah Banyak Data')\n",
    "\n",
    "plt.show()"
   ]
  },
  {
   "cell_type": "code",
   "execution_count": 82,
   "id": "5a8d8fe1",
   "metadata": {},
   "outputs": [
    {
     "name": "stdout",
     "output_type": "stream",
     "text": [
      "793.7722222222222\n",
      "199.1723890625067\n"
     ]
    }
   ],
   "source": [
    "# Meannya 772 menjadi 793\n",
    "print(sum(listCountMovieTinggiFinal) / len(listCountMovieTinggiFinal))\n",
    "\n",
    "# Standar Deviasi nya dari 1197 turun menjadi 199\n",
    "print(statistics.stdev(listCountMovieTinggiFinal))\n",
    "\n",
    "# Dari Hystogram dan STDV , meunjukan ini sudah lebih rata persebaran datanya\n",
    "# Bahkan STDV turun hampir 10 kali lebih kecil dan meannya masih tidak terlalu berubah"
   ]
  },
  {
   "cell_type": "markdown",
   "id": "a2a64c1d",
   "metadata": {},
   "source": [
    "### Kelompok Rendah"
   ]
  },
  {
   "cell_type": "code",
   "execution_count": 84,
   "id": "61422e6d",
   "metadata": {
    "scrolled": true
   },
   "outputs": [
    {
     "data": {
      "text/html": [
       "<div>\n",
       "<style scoped>\n",
       "    .dataframe tbody tr th:only-of-type {\n",
       "        vertical-align: middle;\n",
       "    }\n",
       "\n",
       "    .dataframe tbody tr th {\n",
       "        vertical-align: top;\n",
       "    }\n",
       "\n",
       "    .dataframe thead th {\n",
       "        text-align: right;\n",
       "    }\n",
       "</style>\n",
       "<table border=\"1\" class=\"dataframe\">\n",
       "  <thead>\n",
       "    <tr style=\"text-align: right;\">\n",
       "      <th></th>\n",
       "      <th>movie_id</th>\n",
       "      <th>counts</th>\n",
       "    </tr>\n",
       "  </thead>\n",
       "  <tbody>\n",
       "    <tr>\n",
       "      <th>0</th>\n",
       "      <td>5</td>\n",
       "      <td>7162</td>\n",
       "    </tr>\n",
       "    <tr>\n",
       "      <th>1</th>\n",
       "      <td>11</td>\n",
       "      <td>4623</td>\n",
       "    </tr>\n",
       "    <tr>\n",
       "      <th>2</th>\n",
       "      <td>12</td>\n",
       "      <td>1576</td>\n",
       "    </tr>\n",
       "    <tr>\n",
       "      <th>3</th>\n",
       "      <td>13</td>\n",
       "      <td>461</td>\n",
       "    </tr>\n",
       "    <tr>\n",
       "      <th>4</th>\n",
       "      <td>14</td>\n",
       "      <td>2853</td>\n",
       "    </tr>\n",
       "    <tr>\n",
       "      <th>...</th>\n",
       "      <td>...</td>\n",
       "      <td>...</td>\n",
       "    </tr>\n",
       "    <tr>\n",
       "      <th>1252</th>\n",
       "      <td>168530</td>\n",
       "      <td>2</td>\n",
       "    </tr>\n",
       "    <tr>\n",
       "      <th>1253</th>\n",
       "      <td>171759</td>\n",
       "      <td>12</td>\n",
       "    </tr>\n",
       "    <tr>\n",
       "      <th>1254</th>\n",
       "      <td>172391</td>\n",
       "      <td>1</td>\n",
       "    </tr>\n",
       "    <tr>\n",
       "      <th>1255</th>\n",
       "      <td>172533</td>\n",
       "      <td>1</td>\n",
       "    </tr>\n",
       "    <tr>\n",
       "      <th>1256</th>\n",
       "      <td>175555</td>\n",
       "      <td>2</td>\n",
       "    </tr>\n",
       "  </tbody>\n",
       "</table>\n",
       "<p>1257 rows × 2 columns</p>\n",
       "</div>"
      ],
      "text/plain": [
       "      movie_id  counts\n",
       "0            5    7162\n",
       "1           11    4623\n",
       "2           12    1576\n",
       "3           13     461\n",
       "4           14    2853\n",
       "...        ...     ...\n",
       "1252    168530       2\n",
       "1253    171759      12\n",
       "1254    172391       1\n",
       "1255    172533       1\n",
       "1256    175555       2\n",
       "\n",
       "[1257 rows x 2 columns]"
      ]
     },
     "execution_count": 84,
     "metadata": {},
     "output_type": "execute_result"
    }
   ],
   "source": [
    "# Lakukan Grouping ke movie, ternyata terdapat 1257   Movie , \n",
    "# Artinya telah berkurang dari sebelumnya 4803 movie\n",
    "listMoiveDF_Rendah=df3_Filter_User_Rendah.groupby('movie_id').size().reset_index(name='counts')\n",
    "listMoiveDF_Rendah"
   ]
  },
  {
   "cell_type": "code",
   "execution_count": 93,
   "id": "d928b741",
   "metadata": {},
   "outputs": [],
   "source": [
    "listMovieRendah = listMoiveDF_Rendah['movie_id'].values.tolist()\n",
    "listCountMovieRendah = listMoiveDF_Rendah['counts'].values.tolist()"
   ]
  },
  {
   "cell_type": "code",
   "execution_count": 94,
   "id": "49a4e573",
   "metadata": {
    "scrolled": false
   },
   "outputs": [
    {
     "data": {
      "image/png": "[encoded data removed]",
      "text/plain": [
       "<Figure size 2160x1440 with 1 Axes>"
      ]
     },
     "metadata": {
      "needs_background": "light"
     },
     "output_type": "display_data"
    }
   ],
   "source": [
    "# Dari data diatas, kemudian dibuat menjadi Hystogram\n",
    "data = listCountMovieRendah\n",
    "\n",
    "# fixed bin size\n",
    "fig, ax = plt.subplots(figsize=(30,20))\n",
    "\n",
    "plt.xlim([min(data)-5, max(data)+5])\n",
    "\n",
    "plt.hist(data, bins=50, alpha=0.8)\n",
    "plt.title('Histogram Kontribusi data yang diberikan')\n",
    "plt.xlabel('Banyak Data')\n",
    "plt.ylabel('Jumlah Banyak Data')\n",
    "\n",
    "plt.show()"
   ]
  },
  {
   "cell_type": "code",
   "execution_count": 87,
   "id": "87f2e7c8",
   "metadata": {},
   "outputs": [
    {
     "name": "stdout",
     "output_type": "stream",
     "text": [
      "1134.5600636435959\n",
      "3352.0585579918447\n"
     ]
    }
   ],
   "source": [
    "# Meannya 1134\n",
    "print(sum(listCountMovieRendah) / len(listCountMovieRendah))\n",
    "\n",
    "# Standar Deviasi nya 3352\n",
    "print(statistics.stdev(listCountMovieRendah))\n",
    "\n",
    "# Pada STDV dan Hystogram tersebut sebetulnya diketahui data ini kurang baik. Karena tidak stabil\n",
    "# Maka akan dilakukan balancing, dengan nilai disekitar 500 - 1200 karena persebaran berada di area tersebut\n",
    "# dan data sebanyak 500 - 1200 sudah diraca cukup banyak"
   ]
  },
  {
   "cell_type": "code",
   "execution_count": 88,
   "id": "1ff2283d",
   "metadata": {
    "scrolled": true
   },
   "outputs": [
    {
     "data": {
      "text/plain": [
       "(244, 2)"
      ]
     },
     "execution_count": 88,
     "metadata": {},
     "output_type": "execute_result"
    }
   ],
   "source": [
    "listMoiveDF_Rendah_Final = listMoiveDF_Rendah.loc[(listMoiveDF_Rendah['counts']>100) & (listMoiveDF_Rendah['counts']<500)]\n",
    "listMoiveDF_Rendah_Final.shape"
   ]
  },
  {
   "cell_type": "code",
   "execution_count": 91,
   "id": "f85851f1",
   "metadata": {},
   "outputs": [],
   "source": [
    "listMovieRendahFinal = listMoiveDF_Rendah_Final['movie_id'].values.tolist()\n",
    "listCountMovieRendahFinal = listMoiveDF_Rendah_Final['counts'].values.tolist()"
   ]
  },
  {
   "cell_type": "code",
   "execution_count": 92,
   "id": "da1c2d75",
   "metadata": {
    "scrolled": false
   },
   "outputs": [
    {
     "data": {
      "image/png": "[encoded data removed]",
      "text/plain": [
       "<Figure size 2160x1440 with 1 Axes>"
      ]
     },
     "metadata": {
      "needs_background": "light"
     },
     "output_type": "display_data"
    }
   ],
   "source": [
    "# Dari data diatas, kemudian dibuat menjadi Hystogram\n",
    "data = listCountMovieRendahFinal\n",
    "\n",
    "# fixed bin size\n",
    "fig, ax = plt.subplots(figsize=(30,20))\n",
    "\n",
    "plt.xlim([min(data)-5, max(data)+5])\n",
    "\n",
    "plt.hist(data, bins=50, alpha=0.8)\n",
    "plt.title('Histogram Kontribusi data yang diberikan')\n",
    "plt.xlabel('Banyak Data')\n",
    "plt.ylabel('Jumlah Banyak Data')\n",
    "\n",
    "plt.show()"
   ]
  },
  {
   "cell_type": "code",
   "execution_count": 95,
   "id": "a0ff8ae0",
   "metadata": {
    "scrolled": true
   },
   "outputs": [
    {
     "name": "stdout",
     "output_type": "stream",
     "text": [
      "235.21311475409837\n",
      "109.02151631999556\n"
     ]
    }
   ],
   "source": [
    "# Meannya 235\n",
    "print(sum(listCountMovieRendahFinal) / len(listCountMovieRendahFinal))\n",
    "\n",
    "# Standar Deviasi turun dari 3352 menjadi 109\n",
    "print(statistics.stdev(listCountMovieRendahFinal))\n",
    "\n",
    "# STDV dan hystogram menunjukan data sudah tersebar degan cukup baik. Nilai STDV juga sudah turun hampir 28 kali\n",
    "# nilai mean yang didapat juga berkisar 235, artinya range data latih tidak terlalu sedikit atau terlalu banyak"
   ]
  },
  {
   "cell_type": "code",
   "execution_count": 102,
   "id": "23ff1f76",
   "metadata": {},
   "outputs": [
    {
     "data": {
      "text/plain": [
       "(309, 2)"
      ]
     },
     "execution_count": 102,
     "metadata": {},
     "output_type": "execute_result"
    }
   ],
   "source": [
    "listMoiveDF_Sedang_Final.shape"
   ]
  },
  {
   "cell_type": "code",
   "execution_count": 103,
   "id": "c71cb44f",
   "metadata": {},
   "outputs": [
    {
     "data": {
      "text/plain": [
       "(244, 2)"
      ]
     },
     "execution_count": 103,
     "metadata": {},
     "output_type": "execute_result"
    }
   ],
   "source": [
    "listMoiveDF_Rendah_Final.shape"
   ]
  },
  {
   "cell_type": "code",
   "execution_count": 104,
   "id": "657be95a",
   "metadata": {},
   "outputs": [
    {
     "data": {
      "text/plain": [
       "(180, 2)"
      ]
     },
     "execution_count": 104,
     "metadata": {},
     "output_type": "execute_result"
    }
   ],
   "source": [
    "listMoiveDF_Tinggi_Final.shape"
   ]
  },
  {
   "cell_type": "code",
   "execution_count": 110,
   "id": "9c3f9714",
   "metadata": {},
   "outputs": [],
   "source": [
    "# Total terdapat 733 Movie , tapi apakah 733 Movie Id yang didapat tidak ada yang saling tumpang tindih ?\n",
    "# Kita akan cek disini"
   ]
  },
  {
   "cell_type": "code",
   "execution_count": 211,
   "id": "65471d60",
   "metadata": {},
   "outputs": [
    {
     "data": {
      "image/png": "[encoded data removed]",
      "text/plain": [
       "<Figure size 864x576 with 1 Axes>"
      ]
     },
     "metadata": {
      "needs_background": "light"
     },
     "output_type": "display_data"
    }
   ],
   "source": [
    "plt.figure(figsize=(12,8))\n",
    "plt.hist(listMoiveDF_Rendah_Final['movie_id'], bins=50, alpha=0.5, label=\"Kategori Rendah\")\n",
    "plt.hist(listMoiveDF_Sedang_Final['movie_id'], bins=50, alpha=0.5, label=\"Kategori Sedang\")\n",
    "plt.hist(listMoiveDF_Tinggi_Final['movie_id'], bins=50, alpha=0.5, label=\"Kategori Tinggi\")\n",
    "\n",
    "plt.xlabel(\"Movie Id\", size=15)\n",
    "plt.ylabel(\"Jumlah Id\", size=15)\n",
    "plt.title(\"Multiple Histograms with Matplotlib\")\n",
    "plt.legend(loc='upper right')\n",
    "plt.savefig(\"overlapping_histograms_with_matplotlib_Python.png\")"
   ]
  },
  {
   "cell_type": "code",
   "execution_count": null,
   "id": "8a697355",
   "metadata": {},
   "outputs": [],
   "source": [
    "# Dari Hystogram tersebut, dapat diketahui diantara kelompok data, terdapat movie ID yang terletak diantara kelompok\n",
    "# Hal ini perlu diperhatikan pada saat menyiapkan Data untuk Content Based"
   ]
  },
  {
   "cell_type": "markdown",
   "id": "d3f1ab16",
   "metadata": {},
   "source": [
    "## Merge ke data RatingUser , supada dari data movie bisa dapat data Rating juga"
   ]
  },
  {
   "cell_type": "markdown",
   "id": "c4e05924",
   "metadata": {},
   "source": [
    "### Kelompok sedang"
   ]
  },
  {
   "cell_type": "code",
   "execution_count": 212,
   "id": "6667fe0e",
   "metadata": {
    "scrolled": true
   },
   "outputs": [],
   "source": [
    "# Dari data Movie ID yang sudah didapat, masih hanya terdapat 2 feature (movie Id, Counts)\n",
    "# Maka dari itu, perlu dicari data lengkap supaya bisa Contend Based dan Collaborative Filtering serta Demografic Filtering\n",
    "df3_CB_Raw_Sedang = df3_Filter_User_Sedang.merge(listMoiveDF_Sedang_Final,left_on='movie_id', right_on='movie_id')\n",
    "df3_CL_Raw_Sedang = df3_CB_Raw_Sedang.copy()\n",
    "df3_DF_Raw_Sedang = df3_CB_Raw_Sedang.copy()"
   ]
  },
  {
   "cell_type": "code",
   "execution_count": 213,
   "id": "77fdfe06",
   "metadata": {},
   "outputs": [
    {
     "data": {
      "text/plain": [
       "(754429, 30)"
      ]
     },
     "execution_count": 213,
     "metadata": {},
     "output_type": "execute_result"
    }
   ],
   "source": [
    "df3_CB_Raw_Sedang.shape\n",
    "# Setelah di merge, ternyata jadi 754429 data. Hal ini terjadi karena ada data movieId yang duplikasi\n",
    "# MovieId bisa duplikasi karena ada userId yang memberikan rating lebih dari 1 kali."
   ]
  },
  {
   "cell_type": "code",
   "execution_count": 215,
   "id": "e2855010",
   "metadata": {
    "scrolled": false
   },
   "outputs": [
    {
     "data": {
      "text/html": [
       "<div>\n",
       "<style scoped>\n",
       "    .dataframe tbody tr th:only-of-type {\n",
       "        vertical-align: middle;\n",
       "    }\n",
       "\n",
       "    .dataframe tbody tr th {\n",
       "        vertical-align: top;\n",
       "    }\n",
       "\n",
       "    .dataframe thead th {\n",
       "        text-align: right;\n",
       "    }\n",
       "</style>\n",
       "<table border=\"1\" class=\"dataframe\">\n",
       "  <thead>\n",
       "    <tr style=\"text-align: right;\">\n",
       "      <th></th>\n",
       "      <th>userId</th>\n",
       "      <th>counts_x</th>\n",
       "      <th>movieId</th>\n",
       "      <th>rating</th>\n",
       "      <th>timestamp</th>\n",
       "      <th>budget</th>\n",
       "      <th>genres</th>\n",
       "      <th>homepage</th>\n",
       "      <th>id</th>\n",
       "      <th>keywords</th>\n",
       "      <th>...</th>\n",
       "      <th>status</th>\n",
       "      <th>tagline</th>\n",
       "      <th>title_x</th>\n",
       "      <th>vote_average</th>\n",
       "      <th>vote_count</th>\n",
       "      <th>movie_id</th>\n",
       "      <th>title_y</th>\n",
       "      <th>cast</th>\n",
       "      <th>crew</th>\n",
       "      <th>counts_y</th>\n",
       "    </tr>\n",
       "  </thead>\n",
       "  <tbody>\n",
       "    <tr>\n",
       "      <th>0</th>\n",
       "      <td>12</td>\n",
       "      <td>52</td>\n",
       "      <td>157</td>\n",
       "      <td>1.0</td>\n",
       "      <td>943910494</td>\n",
       "      <td>18000000</td>\n",
       "      <td>[{\"id\": 878, \"name\": \"Science Fiction\"}, {\"id\"...</td>\n",
       "      <td>NaN</td>\n",
       "      <td>157</td>\n",
       "      <td>[]</td>\n",
       "      <td>...</td>\n",
       "      <td>Released</td>\n",
       "      <td>A dying planet. A fight for life.</td>\n",
       "      <td>Star Trek III: The Search for Spock</td>\n",
       "      <td>6.4</td>\n",
       "      <td>434</td>\n",
       "      <td>157</td>\n",
       "      <td>Star Trek III: The Search for Spock</td>\n",
       "      <td>[{\"cast_id\": 5, \"character\": \"Admiral James T....</td>\n",
       "      <td>[{\"credit_id\": \"52fe4220c3a36847f8005eb3\", \"de...</td>\n",
       "      <td>1300</td>\n",
       "    </tr>\n",
       "    <tr>\n",
       "      <th>1300</th>\n",
       "      <td>12</td>\n",
       "      <td>52</td>\n",
       "      <td>1499</td>\n",
       "      <td>1.0</td>\n",
       "      <td>943910522</td>\n",
       "      <td>21000000</td>\n",
       "      <td>[{\"id\": 28, \"name\": \"Action\"}, {\"id\": 12, \"nam...</td>\n",
       "      <td>NaN</td>\n",
       "      <td>1499</td>\n",
       "      <td>[{\"id\": 233, \"name\": \"japan\"}, {\"id\": 4379, \"n...</td>\n",
       "      <td>...</td>\n",
       "      <td>Released</td>\n",
       "      <td>The Turtles Are Back....In Time.</td>\n",
       "      <td>Teenage Mutant Ninja Turtles III</td>\n",
       "      <td>5.1</td>\n",
       "      <td>184</td>\n",
       "      <td>1499</td>\n",
       "      <td>Teenage Mutant Ninja Turtles III</td>\n",
       "      <td>[{\"cast_id\": 5, \"character\": \"April O'Neil\", \"...</td>\n",
       "      <td>[{\"credit_id\": \"53f989e1c3a36873580026c6\", \"de...</td>\n",
       "      <td>2761</td>\n",
       "    </tr>\n",
       "    <tr>\n",
       "      <th>4061</th>\n",
       "      <td>12</td>\n",
       "      <td>52</td>\n",
       "      <td>73</td>\n",
       "      <td>2.0</td>\n",
       "      <td>943910885</td>\n",
       "      <td>20000000</td>\n",
       "      <td>[{\"id\": 18, \"name\": \"Drama\"}]</td>\n",
       "      <td>http://www.historyx.com/</td>\n",
       "      <td>73</td>\n",
       "      <td>[{\"id\": 279, \"name\": \"usa\"}, {\"id\": 376, \"name...</td>\n",
       "      <td>...</td>\n",
       "      <td>Released</td>\n",
       "      <td>Some Legacies Must End.</td>\n",
       "      <td>American History X</td>\n",
       "      <td>8.2</td>\n",
       "      <td>3016</td>\n",
       "      <td>73</td>\n",
       "      <td>American History X</td>\n",
       "      <td>[{\"cast_id\": 4, \"character\": \"Derek Vinyard\", ...</td>\n",
       "      <td>[{\"credit_id\": \"5563a4c1925141271b0021e7\", \"de...</td>\n",
       "      <td>1430</td>\n",
       "    </tr>\n",
       "    <tr>\n",
       "      <th>5491</th>\n",
       "      <td>12</td>\n",
       "      <td>52</td>\n",
       "      <td>162</td>\n",
       "      <td>4.0</td>\n",
       "      <td>943911613</td>\n",
       "      <td>20000000</td>\n",
       "      <td>[{\"id\": 14, \"name\": \"Fantasy\"}, {\"id\": 18, \"na...</td>\n",
       "      <td>NaN</td>\n",
       "      <td>162</td>\n",
       "      <td>[{\"id\": 240, \"name\": \"underdog\"}, {\"id\": 699, ...</td>\n",
       "      <td>...</td>\n",
       "      <td>Released</td>\n",
       "      <td>His scars run deep.</td>\n",
       "      <td>Edward Scissorhands</td>\n",
       "      <td>7.5</td>\n",
       "      <td>3601</td>\n",
       "      <td>162</td>\n",
       "      <td>Edward Scissorhands</td>\n",
       "      <td>[{\"cast_id\": 5, \"character\": \"Edward Scissorha...</td>\n",
       "      <td>[{\"credit_id\": \"52fe4220c3a36847f80061e3\", \"de...</td>\n",
       "      <td>3243</td>\n",
       "    </tr>\n",
       "    <tr>\n",
       "      <th>8734</th>\n",
       "      <td>12</td>\n",
       "      <td>52</td>\n",
       "      <td>176</td>\n",
       "      <td>4.0</td>\n",
       "      <td>943912719</td>\n",
       "      <td>1200000</td>\n",
       "      <td>[{\"id\": 27, \"name\": \"Horror\"}, {\"id\": 9648, \"n...</td>\n",
       "      <td>NaN</td>\n",
       "      <td>176</td>\n",
       "      <td>[{\"id\": 1366, \"name\": \"shotgun\"}, {\"id\": 13000...</td>\n",
       "      <td>...</td>\n",
       "      <td>Released</td>\n",
       "      <td>Live or die. Make your choice.</td>\n",
       "      <td>Saw</td>\n",
       "      <td>7.2</td>\n",
       "      <td>2184</td>\n",
       "      <td>176</td>\n",
       "      <td>Saw</td>\n",
       "      <td>[{\"cast_id\": 4, \"character\": \"Dr. Lawrence Gor...</td>\n",
       "      <td>[{\"credit_id\": \"52fe4223c3a36847f8006c57\", \"de...</td>\n",
       "      <td>1232</td>\n",
       "    </tr>\n",
       "  </tbody>\n",
       "</table>\n",
       "<p>5 rows × 30 columns</p>\n",
       "</div>"
      ],
      "text/plain": [
       "      userId  counts_x  movieId  rating  timestamp    budget  \\\n",
       "0         12        52      157     1.0  943910494  18000000   \n",
       "1300      12        52     1499     1.0  943910522  21000000   \n",
       "4061      12        52       73     2.0  943910885  20000000   \n",
       "5491      12        52      162     4.0  943911613  20000000   \n",
       "8734      12        52      176     4.0  943912719   1200000   \n",
       "\n",
       "                                                 genres  \\\n",
       "0     [{\"id\": 878, \"name\": \"Science Fiction\"}, {\"id\"...   \n",
       "1300  [{\"id\": 28, \"name\": \"Action\"}, {\"id\": 12, \"nam...   \n",
       "4061                      [{\"id\": 18, \"name\": \"Drama\"}]   \n",
       "5491  [{\"id\": 14, \"name\": \"Fantasy\"}, {\"id\": 18, \"na...   \n",
       "8734  [{\"id\": 27, \"name\": \"Horror\"}, {\"id\": 9648, \"n...   \n",
       "\n",
       "                      homepage    id  \\\n",
       "0                          NaN   157   \n",
       "1300                       NaN  1499   \n",
       "4061  http://www.historyx.com/    73   \n",
       "5491                       NaN   162   \n",
       "8734                       NaN   176   \n",
       "\n",
       "                                               keywords  ...    status  \\\n",
       "0                                                    []  ...  Released   \n",
       "1300  [{\"id\": 233, \"name\": \"japan\"}, {\"id\": 4379, \"n...  ...  Released   \n",
       "4061  [{\"id\": 279, \"name\": \"usa\"}, {\"id\": 376, \"name...  ...  Released   \n",
       "5491  [{\"id\": 240, \"name\": \"underdog\"}, {\"id\": 699, ...  ...  Released   \n",
       "8734  [{\"id\": 1366, \"name\": \"shotgun\"}, {\"id\": 13000...  ...  Released   \n",
       "\n",
       "                                tagline                              title_x  \\\n",
       "0     A dying planet. A fight for life.  Star Trek III: The Search for Spock   \n",
       "1300   The Turtles Are Back....In Time.     Teenage Mutant Ninja Turtles III   \n",
       "4061            Some Legacies Must End.                   American History X   \n",
       "5491                His scars run deep.                  Edward Scissorhands   \n",
       "8734     Live or die. Make your choice.                                  Saw   \n",
       "\n",
       "      vote_average vote_count movie_id                              title_y  \\\n",
       "0              6.4        434      157  Star Trek III: The Search for Spock   \n",
       "1300           5.1        184     1499     Teenage Mutant Ninja Turtles III   \n",
       "4061           8.2       3016       73                   American History X   \n",
       "5491           7.5       3601      162                  Edward Scissorhands   \n",
       "8734           7.2       2184      176                                  Saw   \n",
       "\n",
       "                                                   cast  \\\n",
       "0     [{\"cast_id\": 5, \"character\": \"Admiral James T....   \n",
       "1300  [{\"cast_id\": 5, \"character\": \"April O'Neil\", \"...   \n",
       "4061  [{\"cast_id\": 4, \"character\": \"Derek Vinyard\", ...   \n",
       "5491  [{\"cast_id\": 5, \"character\": \"Edward Scissorha...   \n",
       "8734  [{\"cast_id\": 4, \"character\": \"Dr. Lawrence Gor...   \n",
       "\n",
       "                                                   crew counts_y  \n",
       "0     [{\"credit_id\": \"52fe4220c3a36847f8005eb3\", \"de...     1300  \n",
       "1300  [{\"credit_id\": \"53f989e1c3a36873580026c6\", \"de...     2761  \n",
       "4061  [{\"credit_id\": \"5563a4c1925141271b0021e7\", \"de...     1430  \n",
       "5491  [{\"credit_id\": \"52fe4220c3a36847f80061e3\", \"de...     3243  \n",
       "8734  [{\"credit_id\": \"52fe4223c3a36847f8006c57\", \"de...     1232  \n",
       "\n",
       "[5 rows x 30 columns]"
      ]
     },
     "execution_count": 215,
     "metadata": {},
     "output_type": "execute_result"
    }
   ],
   "source": [
    "# Bukti ada duplikasi movie karena di rate oleh banyak user\n",
    "df3_CB_Raw_Sedang[df3_CB_Raw_Sedang['userId']==12].head(5)"
   ]
  },
  {
   "cell_type": "markdown",
   "id": "7684114e",
   "metadata": {},
   "source": [
    "### Kategori Tinggi"
   ]
  },
  {
   "cell_type": "code",
   "execution_count": 223,
   "id": "52a77fb9",
   "metadata": {
    "scrolled": true
   },
   "outputs": [],
   "source": [
    "# Dari data Movie ID yang sudah didapat, masih hanya terdapat 2 feature (movie Id, Counts)\n",
    "# Maka dari itu, perlu dicari data lengkap supaya bisa Contend Based dan Collaborative Filtering serta Demografic Filtering\n",
    "df3_CB_Raw_Tinggi= df3_Filter_User_Tinggi.merge(listMoiveDF_Tinggi_Final,left_on='movie_id', right_on='movie_id')\n",
    "df3_CL_Raw_Tinggi = df3_CB_Raw_Tinggi.copy()\n",
    "df3_DF_Raw_Tinggi = df3_CB_Raw_Tinggi.copy()"
   ]
  },
  {
   "cell_type": "code",
   "execution_count": 224,
   "id": "c56d541d",
   "metadata": {
    "scrolled": true
   },
   "outputs": [
    {
     "data": {
      "text/plain": [
       "(142879, 30)"
      ]
     },
     "execution_count": 224,
     "metadata": {},
     "output_type": "execute_result"
    }
   ],
   "source": [
    "df3_CB_Raw_Tinggi.shape\n",
    "# Setelah di merge, ternyata jadi 142879 data. Hal ini terjadi karena ada data movieId yang duplikasi\n",
    "# MovieId bisa duplikasi karena ada userId yang memberikan rating lebih dari 1 kali."
   ]
  },
  {
   "cell_type": "code",
   "execution_count": 234,
   "id": "fd64f80f",
   "metadata": {
    "scrolled": true
   },
   "outputs": [
    {
     "data": {
      "text/html": [
       "<div>\n",
       "<style scoped>\n",
       "    .dataframe tbody tr th:only-of-type {\n",
       "        vertical-align: middle;\n",
       "    }\n",
       "\n",
       "    .dataframe tbody tr th {\n",
       "        vertical-align: top;\n",
       "    }\n",
       "\n",
       "    .dataframe thead th {\n",
       "        text-align: right;\n",
       "    }\n",
       "</style>\n",
       "<table border=\"1\" class=\"dataframe\">\n",
       "  <thead>\n",
       "    <tr style=\"text-align: right;\">\n",
       "      <th></th>\n",
       "      <th>userId</th>\n",
       "      <th>counts_x</th>\n",
       "      <th>movieId</th>\n",
       "      <th>rating</th>\n",
       "      <th>timestamp</th>\n",
       "      <th>budget</th>\n",
       "      <th>genres</th>\n",
       "      <th>homepage</th>\n",
       "      <th>id</th>\n",
       "      <th>keywords</th>\n",
       "      <th>...</th>\n",
       "      <th>status</th>\n",
       "      <th>tagline</th>\n",
       "      <th>title_x</th>\n",
       "      <th>vote_average</th>\n",
       "      <th>vote_count</th>\n",
       "      <th>movie_id</th>\n",
       "      <th>title_y</th>\n",
       "      <th>cast</th>\n",
       "      <th>crew</th>\n",
       "      <th>counts_y</th>\n",
       "    </tr>\n",
       "  </thead>\n",
       "  <tbody>\n",
       "    <tr>\n",
       "      <th>0</th>\n",
       "      <td>24</td>\n",
       "      <td>114</td>\n",
       "      <td>73</td>\n",
       "      <td>3.0</td>\n",
       "      <td>979869845</td>\n",
       "      <td>20000000</td>\n",
       "      <td>[{\"id\": 18, \"name\": \"Drama\"}]</td>\n",
       "      <td>http://www.historyx.com/</td>\n",
       "      <td>73</td>\n",
       "      <td>[{\"id\": 279, \"name\": \"usa\"}, {\"id\": 376, \"name...</td>\n",
       "      <td>...</td>\n",
       "      <td>Released</td>\n",
       "      <td>Some Legacies Must End.</td>\n",
       "      <td>American History X</td>\n",
       "      <td>8.2</td>\n",
       "      <td>3016</td>\n",
       "      <td>73</td>\n",
       "      <td>American History X</td>\n",
       "      <td>[{\"cast_id\": 4, \"character\": \"Derek Vinyard\", ...</td>\n",
       "      <td>[{\"credit_id\": \"5563a4c1925141271b0021e7\", \"de...</td>\n",
       "      <td>705</td>\n",
       "    </tr>\n",
       "    <tr>\n",
       "      <th>705</th>\n",
       "      <td>24</td>\n",
       "      <td>114</td>\n",
       "      <td>176</td>\n",
       "      <td>3.0</td>\n",
       "      <td>979973260</td>\n",
       "      <td>1200000</td>\n",
       "      <td>[{\"id\": 27, \"name\": \"Horror\"}, {\"id\": 9648, \"n...</td>\n",
       "      <td>NaN</td>\n",
       "      <td>176</td>\n",
       "      <td>[{\"id\": 1366, \"name\": \"shotgun\"}, {\"id\": 13000...</td>\n",
       "      <td>...</td>\n",
       "      <td>Released</td>\n",
       "      <td>Live or die. Make your choice.</td>\n",
       "      <td>Saw</td>\n",
       "      <td>7.2</td>\n",
       "      <td>2184</td>\n",
       "      <td>176</td>\n",
       "      <td>Saw</td>\n",
       "      <td>[{\"cast_id\": 4, \"character\": \"Dr. Lawrence Gor...</td>\n",
       "      <td>[{\"credit_id\": \"52fe4223c3a36847f8006c57\", \"de...</td>\n",
       "      <td>861</td>\n",
       "    </tr>\n",
       "    <tr>\n",
       "      <th>1566</th>\n",
       "      <td>24</td>\n",
       "      <td>114</td>\n",
       "      <td>322</td>\n",
       "      <td>4.0</td>\n",
       "      <td>979870663</td>\n",
       "      <td>25000000</td>\n",
       "      <td>[{\"id\": 53, \"name\": \"Thriller\"}, {\"id\": 80, \"n...</td>\n",
       "      <td>NaN</td>\n",
       "      <td>322</td>\n",
       "      <td>[{\"id\": 516, \"name\": \"child abuse\"}, {\"id\": 73...</td>\n",
       "      <td>...</td>\n",
       "      <td>Released</td>\n",
       "      <td>We bury our sins, we wash them clean.</td>\n",
       "      <td>Mystic River</td>\n",
       "      <td>7.6</td>\n",
       "      <td>1422</td>\n",
       "      <td>322</td>\n",
       "      <td>Mystic River</td>\n",
       "      <td>[{\"cast_id\": 4, \"character\": \"Jimmy Markum\", \"...</td>\n",
       "      <td>[{\"credit_id\": \"52fe4237c3a36847f800d051\", \"de...</td>\n",
       "      <td>1193</td>\n",
       "    </tr>\n",
       "    <tr>\n",
       "      <th>2759</th>\n",
       "      <td>24</td>\n",
       "      <td>114</td>\n",
       "      <td>550</td>\n",
       "      <td>2.0</td>\n",
       "      <td>979871026</td>\n",
       "      <td>63000000</td>\n",
       "      <td>[{\"id\": 18, \"name\": \"Drama\"}]</td>\n",
       "      <td>http://www.foxmovies.com/movies/fight-club</td>\n",
       "      <td>550</td>\n",
       "      <td>[{\"id\": 825, \"name\": \"support group\"}, {\"id\": ...</td>\n",
       "      <td>...</td>\n",
       "      <td>Released</td>\n",
       "      <td>Mischief. Mayhem. Soap.</td>\n",
       "      <td>Fight Club</td>\n",
       "      <td>8.3</td>\n",
       "      <td>9413</td>\n",
       "      <td>550</td>\n",
       "      <td>Fight Club</td>\n",
       "      <td>[{\"cast_id\": 4, \"character\": \"The Narrator\", \"...</td>\n",
       "      <td>[{\"credit_id\": \"55731b8192514111610027d7\", \"de...</td>\n",
       "      <td>1031</td>\n",
       "    </tr>\n",
       "    <tr>\n",
       "      <th>3790</th>\n",
       "      <td>24</td>\n",
       "      <td>114</td>\n",
       "      <td>714</td>\n",
       "      <td>5.0</td>\n",
       "      <td>979869961</td>\n",
       "      <td>110000000</td>\n",
       "      <td>[{\"id\": 12, \"name\": \"Adventure\"}, {\"id\": 28, \"...</td>\n",
       "      <td>http://www.mgm.com/view/movie/2029/Tomorrow-Ne...</td>\n",
       "      <td>714</td>\n",
       "      <td>[{\"id\": 212, \"name\": \"london england\"}, {\"id\":...</td>\n",
       "      <td>...</td>\n",
       "      <td>Released</td>\n",
       "      <td>Yesterday is a memory. Today is history. Tomor...</td>\n",
       "      <td>Tomorrow Never Dies</td>\n",
       "      <td>6.0</td>\n",
       "      <td>925</td>\n",
       "      <td>714</td>\n",
       "      <td>Tomorrow Never Dies</td>\n",
       "      <td>[{\"cast_id\": 1, \"character\": \"James Bond\", \"cr...</td>\n",
       "      <td>[{\"credit_id\": \"52fe426fc3a36847f801e40d\", \"de...</td>\n",
       "      <td>1185</td>\n",
       "    </tr>\n",
       "  </tbody>\n",
       "</table>\n",
       "<p>5 rows × 30 columns</p>\n",
       "</div>"
      ],
      "text/plain": [
       "      userId  counts_x  movieId  rating  timestamp     budget  \\\n",
       "0         24       114       73     3.0  979869845   20000000   \n",
       "705       24       114      176     3.0  979973260    1200000   \n",
       "1566      24       114      322     4.0  979870663   25000000   \n",
       "2759      24       114      550     2.0  979871026   63000000   \n",
       "3790      24       114      714     5.0  979869961  110000000   \n",
       "\n",
       "                                                 genres  \\\n",
       "0                         [{\"id\": 18, \"name\": \"Drama\"}]   \n",
       "705   [{\"id\": 27, \"name\": \"Horror\"}, {\"id\": 9648, \"n...   \n",
       "1566  [{\"id\": 53, \"name\": \"Thriller\"}, {\"id\": 80, \"n...   \n",
       "2759                      [{\"id\": 18, \"name\": \"Drama\"}]   \n",
       "3790  [{\"id\": 12, \"name\": \"Adventure\"}, {\"id\": 28, \"...   \n",
       "\n",
       "                                               homepage   id  \\\n",
       "0                              http://www.historyx.com/   73   \n",
       "705                                                 NaN  176   \n",
       "1566                                                NaN  322   \n",
       "2759         http://www.foxmovies.com/movies/fight-club  550   \n",
       "3790  http://www.mgm.com/view/movie/2029/Tomorrow-Ne...  714   \n",
       "\n",
       "                                               keywords  ...    status  \\\n",
       "0     [{\"id\": 279, \"name\": \"usa\"}, {\"id\": 376, \"name...  ...  Released   \n",
       "705   [{\"id\": 1366, \"name\": \"shotgun\"}, {\"id\": 13000...  ...  Released   \n",
       "1566  [{\"id\": 516, \"name\": \"child abuse\"}, {\"id\": 73...  ...  Released   \n",
       "2759  [{\"id\": 825, \"name\": \"support group\"}, {\"id\": ...  ...  Released   \n",
       "3790  [{\"id\": 212, \"name\": \"london england\"}, {\"id\":...  ...  Released   \n",
       "\n",
       "                                                tagline              title_x  \\\n",
       "0                               Some Legacies Must End.   American History X   \n",
       "705                      Live or die. Make your choice.                  Saw   \n",
       "1566              We bury our sins, we wash them clean.         Mystic River   \n",
       "2759                            Mischief. Mayhem. Soap.           Fight Club   \n",
       "3790  Yesterday is a memory. Today is history. Tomor...  Tomorrow Never Dies   \n",
       "\n",
       "      vote_average vote_count movie_id              title_y  \\\n",
       "0              8.2       3016       73   American History X   \n",
       "705            7.2       2184      176                  Saw   \n",
       "1566           7.6       1422      322         Mystic River   \n",
       "2759           8.3       9413      550           Fight Club   \n",
       "3790           6.0        925      714  Tomorrow Never Dies   \n",
       "\n",
       "                                                   cast  \\\n",
       "0     [{\"cast_id\": 4, \"character\": \"Derek Vinyard\", ...   \n",
       "705   [{\"cast_id\": 4, \"character\": \"Dr. Lawrence Gor...   \n",
       "1566  [{\"cast_id\": 4, \"character\": \"Jimmy Markum\", \"...   \n",
       "2759  [{\"cast_id\": 4, \"character\": \"The Narrator\", \"...   \n",
       "3790  [{\"cast_id\": 1, \"character\": \"James Bond\", \"cr...   \n",
       "\n",
       "                                                   crew counts_y  \n",
       "0     [{\"credit_id\": \"5563a4c1925141271b0021e7\", \"de...      705  \n",
       "705   [{\"credit_id\": \"52fe4223c3a36847f8006c57\", \"de...      861  \n",
       "1566  [{\"credit_id\": \"52fe4237c3a36847f800d051\", \"de...     1193  \n",
       "2759  [{\"credit_id\": \"55731b8192514111610027d7\", \"de...     1031  \n",
       "3790  [{\"credit_id\": \"52fe426fc3a36847f801e40d\", \"de...     1185  \n",
       "\n",
       "[5 rows x 30 columns]"
      ]
     },
     "execution_count": 234,
     "metadata": {},
     "output_type": "execute_result"
    }
   ],
   "source": [
    "# Bukti ada duplikasi movie karena di rate oleh banyak user\n",
    "df3_CB_Raw_Tinggi[df3_CB_Raw_Tinggi['userId']==24].head(5)"
   ]
  },
  {
   "cell_type": "markdown",
   "id": "ae498a54",
   "metadata": {},
   "source": [
    "### Kategori Rendah"
   ]
  },
  {
   "cell_type": "code",
   "execution_count": 228,
   "id": "a6b259e3",
   "metadata": {
    "scrolled": true
   },
   "outputs": [],
   "source": [
    "# Dari data Movie ID yang sudah didapat, masih hanya terdapat 2 feature (movie Id, Counts)\n",
    "# Maka dari itu, perlu dicari data lengkap supaya bisa Contend Based dan Collaborative Filtering serta Demografic Filtering\n",
    "df3_CB_Raw_Rendah= df3_Filter_User_Rendah.merge(listMoiveDF_Rendah_Final,left_on='movie_id', right_on='movie_id')\n",
    "df3_CL_Raw_Rendah = df3_CB_Raw_Rendah.copy()\n",
    "df3_DF_Raw_Rendah = df3_CB_Raw_Rendah.copy()"
   ]
  },
  {
   "cell_type": "code",
   "execution_count": 229,
   "id": "ee6b3053",
   "metadata": {
    "scrolled": true
   },
   "outputs": [
    {
     "data": {
      "text/plain": [
       "(57392, 30)"
      ]
     },
     "execution_count": 229,
     "metadata": {},
     "output_type": "execute_result"
    }
   ],
   "source": [
    "df3_CB_Raw_Rendah.shape\n",
    "# Setelah di merge, ternyata jadi 57392 data. Hal ini terjadi karena ada data movieId yang duplikasi\n",
    "# MovieId bisa duplikasi karena ada userId yang memberikan rating lebih dari 1 kali."
   ]
  },
  {
   "cell_type": "code",
   "execution_count": 232,
   "id": "0408b737",
   "metadata": {
    "scrolled": true
   },
   "outputs": [
    {
     "data": {
      "text/html": [
       "<div>\n",
       "<style scoped>\n",
       "    .dataframe tbody tr th:only-of-type {\n",
       "        vertical-align: middle;\n",
       "    }\n",
       "\n",
       "    .dataframe tbody tr th {\n",
       "        vertical-align: top;\n",
       "    }\n",
       "\n",
       "    .dataframe thead th {\n",
       "        text-align: right;\n",
       "    }\n",
       "</style>\n",
       "<table border=\"1\" class=\"dataframe\">\n",
       "  <thead>\n",
       "    <tr style=\"text-align: right;\">\n",
       "      <th></th>\n",
       "      <th>userId</th>\n",
       "      <th>counts_x</th>\n",
       "      <th>movieId</th>\n",
       "      <th>rating</th>\n",
       "      <th>timestamp</th>\n",
       "      <th>budget</th>\n",
       "      <th>genres</th>\n",
       "      <th>homepage</th>\n",
       "      <th>id</th>\n",
       "      <th>keywords</th>\n",
       "      <th>...</th>\n",
       "      <th>status</th>\n",
       "      <th>tagline</th>\n",
       "      <th>title_x</th>\n",
       "      <th>vote_average</th>\n",
       "      <th>vote_count</th>\n",
       "      <th>movie_id</th>\n",
       "      <th>title_y</th>\n",
       "      <th>cast</th>\n",
       "      <th>crew</th>\n",
       "      <th>counts_y</th>\n",
       "    </tr>\n",
       "  </thead>\n",
       "  <tbody>\n",
       "    <tr>\n",
       "      <th>57388</th>\n",
       "      <td>257438</td>\n",
       "      <td>3</td>\n",
       "      <td>321</td>\n",
       "      <td>5.0</td>\n",
       "      <td>1183231059</td>\n",
       "      <td>4361898</td>\n",
       "      <td>[{\"id\": 35, \"name\": \"Comedy\"}, {\"id\": 10749, \"...</td>\n",
       "      <td>http://mamboitaliano.ca/</td>\n",
       "      <td>321</td>\n",
       "      <td>[{\"id\": 237, \"name\": \"gay\"}, {\"id\": 494, \"name...</td>\n",
       "      <td>...</td>\n",
       "      <td>Released</td>\n",
       "      <td>Things change. Family doesn't.</td>\n",
       "      <td>Mambo Italiano</td>\n",
       "      <td>5.6</td>\n",
       "      <td>28</td>\n",
       "      <td>321</td>\n",
       "      <td>Mambo Italiano</td>\n",
       "      <td>[{\"cast_id\": 13, \"character\": \"Angelo Barberin...</td>\n",
       "      <td>[{\"credit_id\": \"52fe4237c3a36847f800cf8f\", \"de...</td>\n",
       "      <td>161</td>\n",
       "    </tr>\n",
       "  </tbody>\n",
       "</table>\n",
       "<p>1 rows × 30 columns</p>\n",
       "</div>"
      ],
      "text/plain": [
       "       userId  counts_x  movieId  rating   timestamp   budget  \\\n",
       "57388  257438         3      321     5.0  1183231059  4361898   \n",
       "\n",
       "                                                  genres  \\\n",
       "57388  [{\"id\": 35, \"name\": \"Comedy\"}, {\"id\": 10749, \"...   \n",
       "\n",
       "                       homepage   id  \\\n",
       "57388  http://mamboitaliano.ca/  321   \n",
       "\n",
       "                                                keywords  ...    status  \\\n",
       "57388  [{\"id\": 237, \"name\": \"gay\"}, {\"id\": 494, \"name...  ...  Released   \n",
       "\n",
       "                              tagline         title_x  vote_average  \\\n",
       "57388  Things change. Family doesn't.  Mambo Italiano           5.6   \n",
       "\n",
       "      vote_count movie_id         title_y  \\\n",
       "57388         28      321  Mambo Italiano   \n",
       "\n",
       "                                                    cast  \\\n",
       "57388  [{\"cast_id\": 13, \"character\": \"Angelo Barberin...   \n",
       "\n",
       "                                                    crew counts_y  \n",
       "57388  [{\"credit_id\": \"52fe4237c3a36847f800cf8f\", \"de...      161  \n",
       "\n",
       "[1 rows x 30 columns]"
      ]
     },
     "execution_count": 232,
     "metadata": {},
     "output_type": "execute_result"
    }
   ],
   "source": [
    "# Bukti ada duplikasi movie karena di rate oleh banyak user\n",
    "df3_CB_Raw_Rendah[df3_CB_Raw_Rendah['userId']==257438].head(5)"
   ]
  },
  {
   "cell_type": "markdown",
   "id": "91beb8c2",
   "metadata": {},
   "source": [
    "## Mempersiapkan Data Content Based\n",
    "Karena data diantara kategori saling sama, maka kesamaan / duplikasi diantara ketiganya perlu dihilangkan "
   ]
  },
  {
   "cell_type": "code",
   "execution_count": 241,
   "id": "17303072",
   "metadata": {},
   "outputs": [],
   "source": [
    "# Persiapkan Data Content Based\n",
    "# Hapus duplikasi\n",
    "df3_CB_P_Sedang = df3_CB_Raw_Sedang.copy()\n",
    "df3_CB_P_Rendah = df3_CB_Raw_Rendah.copy()\n",
    "df3_CB_P_Tinggi = df3_CB_Raw_Tinggi.copy()\n",
    "\n",
    "df3_CB_All =  pd.concat([df3_CB_P_Rendah, df3_CB_P_Sedang, df3_CB_P_Tinggi])\n",
    "\n",
    "df3_CB_All = df3_CB_All[['movieId','title_y','overview','genres','keywords','cast','crew']]"
   ]
  },
  {
   "cell_type": "code",
   "execution_count": 242,
   "id": "61184339",
   "metadata": {
    "scrolled": true
   },
   "outputs": [
    {
     "data": {
      "text/html": [
       "<div>\n",
       "<style scoped>\n",
       "    .dataframe tbody tr th:only-of-type {\n",
       "        vertical-align: middle;\n",
       "    }\n",
       "\n",
       "    .dataframe tbody tr th {\n",
       "        vertical-align: top;\n",
       "    }\n",
       "\n",
       "    .dataframe thead th {\n",
       "        text-align: right;\n",
       "    }\n",
       "</style>\n",
       "<table border=\"1\" class=\"dataframe\">\n",
       "  <thead>\n",
       "    <tr style=\"text-align: right;\">\n",
       "      <th></th>\n",
       "      <th>movieId</th>\n",
       "      <th>title_y</th>\n",
       "      <th>overview</th>\n",
       "      <th>genres</th>\n",
       "      <th>keywords</th>\n",
       "      <th>cast</th>\n",
       "      <th>crew</th>\n",
       "    </tr>\n",
       "  </thead>\n",
       "  <tbody>\n",
       "    <tr>\n",
       "      <th>0</th>\n",
       "      <td>4474</td>\n",
       "      <td>My Super Ex-Girlfriend</td>\n",
       "      <td>When New York architect Matt Saunders dumps hi...</td>\n",
       "      <td>[{\"id\": 14, \"name\": \"Fantasy\"}, {\"id\": 18, \"na...</td>\n",
       "      <td>[{\"id\": 242, \"name\": \"new york\"}, {\"id\": 334, ...</td>\n",
       "      <td>[{\"cast_id\": 3, \"character\": \"Jenny Johnson\", ...</td>\n",
       "      <td>[{\"credit_id\": \"52fe43c4c3a36847f806e0c3\", \"de...</td>\n",
       "    </tr>\n",
       "    <tr>\n",
       "      <th>1</th>\n",
       "      <td>4474</td>\n",
       "      <td>My Super Ex-Girlfriend</td>\n",
       "      <td>When New York architect Matt Saunders dumps hi...</td>\n",
       "      <td>[{\"id\": 14, \"name\": \"Fantasy\"}, {\"id\": 18, \"na...</td>\n",
       "      <td>[{\"id\": 242, \"name\": \"new york\"}, {\"id\": 334, ...</td>\n",
       "      <td>[{\"cast_id\": 3, \"character\": \"Jenny Johnson\", ...</td>\n",
       "      <td>[{\"credit_id\": \"52fe43c4c3a36847f806e0c3\", \"de...</td>\n",
       "    </tr>\n",
       "    <tr>\n",
       "      <th>2</th>\n",
       "      <td>4474</td>\n",
       "      <td>My Super Ex-Girlfriend</td>\n",
       "      <td>When New York architect Matt Saunders dumps hi...</td>\n",
       "      <td>[{\"id\": 14, \"name\": \"Fantasy\"}, {\"id\": 18, \"na...</td>\n",
       "      <td>[{\"id\": 242, \"name\": \"new york\"}, {\"id\": 334, ...</td>\n",
       "      <td>[{\"cast_id\": 3, \"character\": \"Jenny Johnson\", ...</td>\n",
       "      <td>[{\"credit_id\": \"52fe43c4c3a36847f806e0c3\", \"de...</td>\n",
       "    </tr>\n",
       "  </tbody>\n",
       "</table>\n",
       "</div>"
      ],
      "text/plain": [
       "   movieId                 title_y  \\\n",
       "0     4474  My Super Ex-Girlfriend   \n",
       "1     4474  My Super Ex-Girlfriend   \n",
       "2     4474  My Super Ex-Girlfriend   \n",
       "\n",
       "                                            overview  \\\n",
       "0  When New York architect Matt Saunders dumps hi...   \n",
       "1  When New York architect Matt Saunders dumps hi...   \n",
       "2  When New York architect Matt Saunders dumps hi...   \n",
       "\n",
       "                                              genres  \\\n",
       "0  [{\"id\": 14, \"name\": \"Fantasy\"}, {\"id\": 18, \"na...   \n",
       "1  [{\"id\": 14, \"name\": \"Fantasy\"}, {\"id\": 18, \"na...   \n",
       "2  [{\"id\": 14, \"name\": \"Fantasy\"}, {\"id\": 18, \"na...   \n",
       "\n",
       "                                            keywords  \\\n",
       "0  [{\"id\": 242, \"name\": \"new york\"}, {\"id\": 334, ...   \n",
       "1  [{\"id\": 242, \"name\": \"new york\"}, {\"id\": 334, ...   \n",
       "2  [{\"id\": 242, \"name\": \"new york\"}, {\"id\": 334, ...   \n",
       "\n",
       "                                                cast  \\\n",
       "0  [{\"cast_id\": 3, \"character\": \"Jenny Johnson\", ...   \n",
       "1  [{\"cast_id\": 3, \"character\": \"Jenny Johnson\", ...   \n",
       "2  [{\"cast_id\": 3, \"character\": \"Jenny Johnson\", ...   \n",
       "\n",
       "                                                crew  \n",
       "0  [{\"credit_id\": \"52fe43c4c3a36847f806e0c3\", \"de...  \n",
       "1  [{\"credit_id\": \"52fe43c4c3a36847f806e0c3\", \"de...  \n",
       "2  [{\"credit_id\": \"52fe43c4c3a36847f806e0c3\", \"de...  "
      ]
     },
     "execution_count": 242,
     "metadata": {},
     "output_type": "execute_result"
    }
   ],
   "source": [
    "df3_CB_All.head(3)"
   ]
  },
  {
   "cell_type": "code",
   "execution_count": 243,
   "id": "f66267d1",
   "metadata": {},
   "outputs": [
    {
     "data": {
      "text/plain": [
       "(954700, 7)"
      ]
     },
     "execution_count": 243,
     "metadata": {},
     "output_type": "execute_result"
    }
   ],
   "source": [
    "df3_CB_All.shape"
   ]
  },
  {
   "cell_type": "code",
   "execution_count": 244,
   "id": "4178832b",
   "metadata": {},
   "outputs": [
    {
     "data": {
      "text/plain": [
       "(485, 7)"
      ]
     },
     "execution_count": 244,
     "metadata": {},
     "output_type": "execute_result"
    }
   ],
   "source": [
    "df3_CB_All_P=df3_CB_All.drop_duplicates()\n",
    "df3_CB_All_P.shape\n",
    "# Ternyata dari 733 Movie Id, setekah dihapus data duplikasi antar kelompok didapati 485 movieId"
   ]
  },
  {
   "cell_type": "code",
   "execution_count": 245,
   "id": "1b2ee4ac",
   "metadata": {},
   "outputs": [
    {
     "data": {
      "text/html": [
       "<div>\n",
       "<style scoped>\n",
       "    .dataframe tbody tr th:only-of-type {\n",
       "        vertical-align: middle;\n",
       "    }\n",
       "\n",
       "    .dataframe tbody tr th {\n",
       "        vertical-align: top;\n",
       "    }\n",
       "\n",
       "    .dataframe thead th {\n",
       "        text-align: right;\n",
       "    }\n",
       "</style>\n",
       "<table border=\"1\" class=\"dataframe\">\n",
       "  <thead>\n",
       "    <tr style=\"text-align: right;\">\n",
       "      <th></th>\n",
       "      <th>movieId</th>\n",
       "      <th>title_y</th>\n",
       "      <th>overview</th>\n",
       "      <th>genres</th>\n",
       "      <th>keywords</th>\n",
       "      <th>cast</th>\n",
       "      <th>crew</th>\n",
       "    </tr>\n",
       "  </thead>\n",
       "  <tbody>\n",
       "    <tr>\n",
       "      <th>0</th>\n",
       "      <td>4474</td>\n",
       "      <td>My Super Ex-Girlfriend</td>\n",
       "      <td>When New York architect Matt Saunders dumps hi...</td>\n",
       "      <td>[{\"id\": 14, \"name\": \"Fantasy\"}, {\"id\": 18, \"na...</td>\n",
       "      <td>[{\"id\": 242, \"name\": \"new york\"}, {\"id\": 334, ...</td>\n",
       "      <td>[{\"cast_id\": 3, \"character\": \"Jenny Johnson\", ...</td>\n",
       "      <td>[{\"credit_id\": \"52fe43c4c3a36847f806e0c3\", \"de...</td>\n",
       "    </tr>\n",
       "    <tr>\n",
       "      <th>277</th>\n",
       "      <td>415</td>\n",
       "      <td>Batman &amp; Robin</td>\n",
       "      <td>Along with crime-fighting partner Robin and ne...</td>\n",
       "      <td>[{\"id\": 28, \"name\": \"Action\"}, {\"id\": 80, \"nam...</td>\n",
       "      <td>[{\"id\": 848, \"name\": \"double life\"}, {\"id\": 84...</td>\n",
       "      <td>[{\"cast_id\": 4, \"character\": \"Bruce Wayne / Ba...</td>\n",
       "      <td>[{\"credit_id\": \"59b66a169251417cbc011ec4\", \"de...</td>\n",
       "    </tr>\n",
       "    <tr>\n",
       "      <th>459</th>\n",
       "      <td>157</td>\n",
       "      <td>Star Trek III: The Search for Spock</td>\n",
       "      <td>Admiral Kirk and his bridge crew risk their ca...</td>\n",
       "      <td>[{\"id\": 878, \"name\": \"Science Fiction\"}, {\"id\"...</td>\n",
       "      <td>[]</td>\n",
       "      <td>[{\"cast_id\": 5, \"character\": \"Admiral James T....</td>\n",
       "      <td>[{\"credit_id\": \"52fe4220c3a36847f8005eb3\", \"de...</td>\n",
       "    </tr>\n",
       "    <tr>\n",
       "      <th>781</th>\n",
       "      <td>2163</td>\n",
       "      <td>Breakdown</td>\n",
       "      <td>When his SUV breaks down on a remote Southwest...</td>\n",
       "      <td>[{\"id\": 18, \"name\": \"Drama\"}, {\"id\": 28, \"name...</td>\n",
       "      <td>[{\"id\": 387, \"name\": \"california\"}, {\"id\": 974...</td>\n",
       "      <td>[{\"cast_id\": 15, \"character\": \"Jeffrey \\\" Jeff...</td>\n",
       "      <td>[{\"credit_id\": \"52fe433cc3a36847f8044b9d\", \"de...</td>\n",
       "    </tr>\n",
       "    <tr>\n",
       "      <th>1028</th>\n",
       "      <td>2022</td>\n",
       "      <td>Mr. Deeds</td>\n",
       "      <td>When Longfellow Deeds, a small-town pizzeria o...</td>\n",
       "      <td>[{\"id\": 35, \"name\": \"Comedy\"}, {\"id\": 10749, \"...</td>\n",
       "      <td>[{\"id\": 3452, \"name\": \"love letter\"}, {\"id\": 6...</td>\n",
       "      <td>[{\"cast_id\": 1, \"character\": \"Longfellow Deeds...</td>\n",
       "      <td>[{\"credit_id\": \"52fe432dc3a36847f8040377\", \"de...</td>\n",
       "    </tr>\n",
       "  </tbody>\n",
       "</table>\n",
       "</div>"
      ],
      "text/plain": [
       "      movieId                              title_y  \\\n",
       "0        4474               My Super Ex-Girlfriend   \n",
       "277       415                       Batman & Robin   \n",
       "459       157  Star Trek III: The Search for Spock   \n",
       "781      2163                            Breakdown   \n",
       "1028     2022                            Mr. Deeds   \n",
       "\n",
       "                                               overview  \\\n",
       "0     When New York architect Matt Saunders dumps hi...   \n",
       "277   Along with crime-fighting partner Robin and ne...   \n",
       "459   Admiral Kirk and his bridge crew risk their ca...   \n",
       "781   When his SUV breaks down on a remote Southwest...   \n",
       "1028  When Longfellow Deeds, a small-town pizzeria o...   \n",
       "\n",
       "                                                 genres  \\\n",
       "0     [{\"id\": 14, \"name\": \"Fantasy\"}, {\"id\": 18, \"na...   \n",
       "277   [{\"id\": 28, \"name\": \"Action\"}, {\"id\": 80, \"nam...   \n",
       "459   [{\"id\": 878, \"name\": \"Science Fiction\"}, {\"id\"...   \n",
       "781   [{\"id\": 18, \"name\": \"Drama\"}, {\"id\": 28, \"name...   \n",
       "1028  [{\"id\": 35, \"name\": \"Comedy\"}, {\"id\": 10749, \"...   \n",
       "\n",
       "                                               keywords  \\\n",
       "0     [{\"id\": 242, \"name\": \"new york\"}, {\"id\": 334, ...   \n",
       "277   [{\"id\": 848, \"name\": \"double life\"}, {\"id\": 84...   \n",
       "459                                                  []   \n",
       "781   [{\"id\": 387, \"name\": \"california\"}, {\"id\": 974...   \n",
       "1028  [{\"id\": 3452, \"name\": \"love letter\"}, {\"id\": 6...   \n",
       "\n",
       "                                                   cast  \\\n",
       "0     [{\"cast_id\": 3, \"character\": \"Jenny Johnson\", ...   \n",
       "277   [{\"cast_id\": 4, \"character\": \"Bruce Wayne / Ba...   \n",
       "459   [{\"cast_id\": 5, \"character\": \"Admiral James T....   \n",
       "781   [{\"cast_id\": 15, \"character\": \"Jeffrey \\\" Jeff...   \n",
       "1028  [{\"cast_id\": 1, \"character\": \"Longfellow Deeds...   \n",
       "\n",
       "                                                   crew  \n",
       "0     [{\"credit_id\": \"52fe43c4c3a36847f806e0c3\", \"de...  \n",
       "277   [{\"credit_id\": \"59b66a169251417cbc011ec4\", \"de...  \n",
       "459   [{\"credit_id\": \"52fe4220c3a36847f8005eb3\", \"de...  \n",
       "781   [{\"credit_id\": \"52fe433cc3a36847f8044b9d\", \"de...  \n",
       "1028  [{\"credit_id\": \"52fe432dc3a36847f8040377\", \"de...  "
      ]
     },
     "execution_count": 245,
     "metadata": {},
     "output_type": "execute_result"
    }
   ],
   "source": [
    "df3_CB_All_P.head(5)"
   ]
  },
  {
   "cell_type": "markdown",
   "id": "046dda02",
   "metadata": {},
   "source": [
    "## Persiapa Data Collaborative Filtering"
   ]
  },
  {
   "cell_type": "markdown",
   "id": "16c096d2",
   "metadata": {},
   "source": [
    "#### Kategori Sedang"
   ]
  },
  {
   "cell_type": "code",
   "execution_count": 246,
   "id": "ab800f20",
   "metadata": {},
   "outputs": [
    {
     "data": {
      "text/plain": [
       "(754429, 3)"
      ]
     },
     "execution_count": 246,
     "metadata": {},
     "output_type": "execute_result"
    }
   ],
   "source": [
    "# Persiapkan data Collaborative Filtering\n",
    "df3_CF_P_Sedang = df3_CL_Raw_Sedang.copy()\n",
    "df3_CF_P_Sedang = df3_CF_P_Sedang[['userId','movieId','rating']]\n",
    "df3_CF_P_Sedang.shape"
   ]
  },
  {
   "cell_type": "markdown",
   "id": "8faa4487",
   "metadata": {},
   "source": [
    "### Kategori Rendah"
   ]
  },
  {
   "cell_type": "code",
   "execution_count": 247,
   "id": "e70e47ba",
   "metadata": {},
   "outputs": [
    {
     "data": {
      "text/plain": [
       "(57392, 3)"
      ]
     },
     "execution_count": 247,
     "metadata": {},
     "output_type": "execute_result"
    }
   ],
   "source": [
    "# Persiapkan data Collaborative Filtering\n",
    "df3_CF_P_Rendah = df3_CL_Raw_Rendah.copy()\n",
    "df3_CF_P_Rendah = df3_CL_Raw_Rendah[['userId','movieId','rating']]\n",
    "df3_CF_P_Rendah.shape"
   ]
  },
  {
   "cell_type": "markdown",
   "id": "8d836cce",
   "metadata": {},
   "source": [
    "### Kategori Tinggi"
   ]
  },
  {
   "cell_type": "code",
   "execution_count": 248,
   "id": "7ecc38ae",
   "metadata": {},
   "outputs": [
    {
     "data": {
      "text/plain": [
       "(142879, 3)"
      ]
     },
     "execution_count": 248,
     "metadata": {},
     "output_type": "execute_result"
    }
   ],
   "source": [
    "# Persiapkan data Collaborative Filtering\n",
    "df3_CF_P_Tinggi = df3_CL_Raw_Tinggi.copy()\n",
    "df3_CF_P_Tinggi = df3_CF_P_Tinggi[['userId','movieId','rating']]\n",
    "df3_CF_P_Tinggi.shape"
   ]
  },
  {
   "cell_type": "markdown",
   "id": "90971630",
   "metadata": {},
   "source": [
    "## Persiapankan Data Demografik Filtering"
   ]
  },
  {
   "cell_type": "code",
   "execution_count": 272,
   "id": "c455ad75",
   "metadata": {},
   "outputs": [
    {
     "data": {
      "text/plain": [
       "(954700, 4)"
      ]
     },
     "execution_count": 272,
     "metadata": {},
     "output_type": "execute_result"
    }
   ],
   "source": [
    "# Persiapkan data Demografik Filtering\n",
    "df3_DF_P_Sedang = df3_DF_Raw_Sedang.copy()\n",
    "df3_DF_P_Rendah = df3_DF_Raw_Rendah.copy()\n",
    "df3_DF_P_Tinggi = df3_DF_Raw_Tinggi.copy()\n",
    "\n",
    "df3_DF_All =  pd.concat([df3_DF_P_Rendah, df3_DF_P_Sedang, df3_DF_P_Tinggi])\n",
    "\n",
    "df3_DF_All = df3_DF_All[['movieId','title_y','vote_count','vote_average']]\n",
    "df3_DF_All.shape"
   ]
  },
  {
   "cell_type": "code",
   "execution_count": 273,
   "id": "16f8ab2f",
   "metadata": {},
   "outputs": [
    {
     "data": {
      "text/plain": [
       "(485, 4)"
      ]
     },
     "execution_count": 273,
     "metadata": {},
     "output_type": "execute_result"
    }
   ],
   "source": [
    "df3_DF_All_P=df3_DF_All.drop_duplicates()\n",
    "df3_DF_All_P.shape\n",
    "# Ternyata dari 733 Movie Id, setekah dihapus data duplikasi antar kelompok didapati 485 movieId"
   ]
  },
  {
   "cell_type": "code",
   "execution_count": 274,
   "id": "c117b332",
   "metadata": {
    "scrolled": true
   },
   "outputs": [
    {
     "data": {
      "text/html": [
       "<div>\n",
       "<style scoped>\n",
       "    .dataframe tbody tr th:only-of-type {\n",
       "        vertical-align: middle;\n",
       "    }\n",
       "\n",
       "    .dataframe tbody tr th {\n",
       "        vertical-align: top;\n",
       "    }\n",
       "\n",
       "    .dataframe thead th {\n",
       "        text-align: right;\n",
       "    }\n",
       "</style>\n",
       "<table border=\"1\" class=\"dataframe\">\n",
       "  <thead>\n",
       "    <tr style=\"text-align: right;\">\n",
       "      <th></th>\n",
       "      <th>movieId</th>\n",
       "      <th>title_y</th>\n",
       "      <th>vote_count</th>\n",
       "      <th>vote_average</th>\n",
       "    </tr>\n",
       "  </thead>\n",
       "  <tbody>\n",
       "    <tr>\n",
       "      <th>0</th>\n",
       "      <td>4474</td>\n",
       "      <td>My Super Ex-Girlfriend</td>\n",
       "      <td>442</td>\n",
       "      <td>4.8</td>\n",
       "    </tr>\n",
       "    <tr>\n",
       "      <th>277</th>\n",
       "      <td>415</td>\n",
       "      <td>Batman &amp; Robin</td>\n",
       "      <td>1418</td>\n",
       "      <td>4.2</td>\n",
       "    </tr>\n",
       "    <tr>\n",
       "      <th>459</th>\n",
       "      <td>157</td>\n",
       "      <td>Star Trek III: The Search for Spock</td>\n",
       "      <td>434</td>\n",
       "      <td>6.4</td>\n",
       "    </tr>\n",
       "    <tr>\n",
       "      <th>781</th>\n",
       "      <td>2163</td>\n",
       "      <td>Breakdown</td>\n",
       "      <td>198</td>\n",
       "      <td>6.6</td>\n",
       "    </tr>\n",
       "    <tr>\n",
       "      <th>1028</th>\n",
       "      <td>2022</td>\n",
       "      <td>Mr. Deeds</td>\n",
       "      <td>644</td>\n",
       "      <td>5.6</td>\n",
       "    </tr>\n",
       "  </tbody>\n",
       "</table>\n",
       "</div>"
      ],
      "text/plain": [
       "      movieId                              title_y  vote_count  vote_average\n",
       "0        4474               My Super Ex-Girlfriend         442           4.8\n",
       "277       415                       Batman & Robin        1418           4.2\n",
       "459       157  Star Trek III: The Search for Spock         434           6.4\n",
       "781      2163                            Breakdown         198           6.6\n",
       "1028     2022                            Mr. Deeds         644           5.6"
      ]
     },
     "execution_count": 274,
     "metadata": {},
     "output_type": "execute_result"
    }
   ],
   "source": [
    "df3_DF_All_P.head(5)"
   ]
  },
  {
   "cell_type": "markdown",
   "id": "1933016a",
   "metadata": {},
   "source": [
    "# Proses Demografik Filtering"
   ]
  },
  {
   "cell_type": "code",
   "execution_count": 279,
   "id": "4e1b7d02",
   "metadata": {},
   "outputs": [
    {
     "data": {
      "text/plain": [
       "(339, 4)"
      ]
     },
     "execution_count": 279,
     "metadata": {},
     "output_type": "execute_result"
    }
   ],
   "source": [
    "# Preprosesing data, dimana movie yang terlalu sedikit data vote, akan dibuang\n",
    "# Movie yang votenya dibawah 308 akan dibuang\n",
    "m= df3_DF_All_P['vote_count'].quantile(0.3)\n",
    "q_movies = df3_DF_All_P.copy().loc[df3_DF_All_P['vote_count'] >= m]\n",
    "q_movies.shape"
   ]
  },
  {
   "cell_type": "code",
   "execution_count": 280,
   "id": "f038c5f5",
   "metadata": {},
   "outputs": [
    {
     "data": {
      "text/plain": [
       "307.2"
      ]
     },
     "execution_count": 280,
     "metadata": {},
     "output_type": "execute_result"
    }
   ],
   "source": [
    "m"
   ]
  },
  {
   "cell_type": "code",
   "execution_count": 281,
   "id": "91800be4",
   "metadata": {},
   "outputs": [
    {
     "data": {
      "text/plain": [
       "6.633814432989691"
      ]
     },
     "execution_count": 281,
     "metadata": {},
     "output_type": "execute_result"
    }
   ],
   "source": [
    "# Kita cari rata\" karena dibutuhkan dirumus IMDB nya\n",
    "C= df3_DF_All_P['vote_average'].mean()\n",
    "C"
   ]
  },
  {
   "cell_type": "code",
   "execution_count": 282,
   "id": "c89cf3f6",
   "metadata": {},
   "outputs": [],
   "source": [
    "# Rumus dari IMDB\n",
    "def weighted_rating(x, m=m, C=C):\n",
    "    v = x['vote_count']\n",
    "    R = x['vote_average']\n",
    "    return (v/(v+m) * R) + (m/(m+v) * C)"
   ]
  },
  {
   "cell_type": "code",
   "execution_count": 283,
   "id": "966ae1ed",
   "metadata": {},
   "outputs": [],
   "source": [
    "# Tambahkan Kolom Score yang nilainya didapat dari rumusnya\n",
    "q_movies['score'] = q_movies.apply(weighted_rating, axis=1)"
   ]
  },
  {
   "cell_type": "code",
   "execution_count": 284,
   "id": "fcef993d",
   "metadata": {},
   "outputs": [
    {
     "data": {
      "text/html": [
       "<div>\n",
       "<style scoped>\n",
       "    .dataframe tbody tr th:only-of-type {\n",
       "        vertical-align: middle;\n",
       "    }\n",
       "\n",
       "    .dataframe tbody tr th {\n",
       "        vertical-align: top;\n",
       "    }\n",
       "\n",
       "    .dataframe thead th {\n",
       "        text-align: right;\n",
       "    }\n",
       "</style>\n",
       "<table border=\"1\" class=\"dataframe\">\n",
       "  <thead>\n",
       "    <tr style=\"text-align: right;\">\n",
       "      <th></th>\n",
       "      <th>title_y</th>\n",
       "      <th>vote_count</th>\n",
       "      <th>vote_average</th>\n",
       "      <th>score</th>\n",
       "    </tr>\n",
       "  </thead>\n",
       "  <tbody>\n",
       "    <tr>\n",
       "      <th>35216</th>\n",
       "      <td>The Godfather</td>\n",
       "      <td>5893</td>\n",
       "      <td>8.4</td>\n",
       "      <td>8.312491</td>\n",
       "    </tr>\n",
       "    <tr>\n",
       "      <th>42040</th>\n",
       "      <td>Fight Club</td>\n",
       "      <td>9413</td>\n",
       "      <td>8.3</td>\n",
       "      <td>8.247341</td>\n",
       "    </tr>\n",
       "    <tr>\n",
       "      <th>19489</th>\n",
       "      <td>Pulp Fiction</td>\n",
       "      <td>8428</td>\n",
       "      <td>8.3</td>\n",
       "      <td>8.241403</td>\n",
       "    </tr>\n",
       "    <tr>\n",
       "      <th>55613</th>\n",
       "      <td>The Dark Knight</td>\n",
       "      <td>12002</td>\n",
       "      <td>8.2</td>\n",
       "      <td>8.160913</td>\n",
       "    </tr>\n",
       "    <tr>\n",
       "      <th>33323</th>\n",
       "      <td>Forrest Gump</td>\n",
       "      <td>7927</td>\n",
       "      <td>8.2</td>\n",
       "      <td>8.141569</td>\n",
       "    </tr>\n",
       "    <tr>\n",
       "      <th>4061</th>\n",
       "      <td>American History X</td>\n",
       "      <td>3016</td>\n",
       "      <td>8.2</td>\n",
       "      <td>8.055220</td>\n",
       "    </tr>\n",
       "    <tr>\n",
       "      <th>30421</th>\n",
       "      <td>The Lord of the Rings: The Return of the King</td>\n",
       "      <td>8064</td>\n",
       "      <td>8.1</td>\n",
       "      <td>8.046195</td>\n",
       "    </tr>\n",
       "    <tr>\n",
       "      <th>43118</th>\n",
       "      <td>The Silence of the Lambs</td>\n",
       "      <td>4443</td>\n",
       "      <td>8.1</td>\n",
       "      <td>8.005180</td>\n",
       "    </tr>\n",
       "    <tr>\n",
       "      <th>752203</th>\n",
       "      <td>The Shining</td>\n",
       "      <td>3757</td>\n",
       "      <td>8.1</td>\n",
       "      <td>7.989176</td>\n",
       "    </tr>\n",
       "    <tr>\n",
       "      <th>561951</th>\n",
       "      <td>Dead Poets Society</td>\n",
       "      <td>2705</td>\n",
       "      <td>8.1</td>\n",
       "      <td>7.950471</td>\n",
       "    </tr>\n",
       "  </tbody>\n",
       "</table>\n",
       "</div>"
      ],
      "text/plain": [
       "                                              title_y  vote_count  \\\n",
       "35216                                   The Godfather        5893   \n",
       "42040                                      Fight Club        9413   \n",
       "19489                                    Pulp Fiction        8428   \n",
       "55613                                 The Dark Knight       12002   \n",
       "33323                                    Forrest Gump        7927   \n",
       "4061                               American History X        3016   \n",
       "30421   The Lord of the Rings: The Return of the King        8064   \n",
       "43118                        The Silence of the Lambs        4443   \n",
       "752203                                    The Shining        3757   \n",
       "561951                             Dead Poets Society        2705   \n",
       "\n",
       "        vote_average     score  \n",
       "35216            8.4  8.312491  \n",
       "42040            8.3  8.247341  \n",
       "19489            8.3  8.241403  \n",
       "55613            8.2  8.160913  \n",
       "33323            8.2  8.141569  \n",
       "4061             8.2  8.055220  \n",
       "30421            8.1  8.046195  \n",
       "43118            8.1  8.005180  \n",
       "752203           8.1  7.989176  \n",
       "561951           8.1  7.950471  "
      ]
     },
     "execution_count": 284,
     "metadata": {},
     "output_type": "execute_result"
    }
   ],
   "source": [
    "# Dari Score yang didapat, di sorting\n",
    "q_movies = q_movies.sort_values('score', ascending=False)\n",
    "\n",
    "# tampilkan top 10\n",
    "q_movies[['title_y', 'vote_count', 'vote_average', 'score']].head(10)"
   ]
  },
  {
   "cell_type": "code",
   "execution_count": 131,
   "id": "7540e17a",
   "metadata": {},
   "outputs": [],
   "source": [
    "# # Kalau mau export data_CF.csv\n",
    "# df3_CB_P.to_csv('data_CF.csv')"
   ]
  },
  {
   "cell_type": "markdown",
   "id": "7c6ebc9e",
   "metadata": {},
   "source": [
    "# Persiapan Untuk Data Colaborative Filtering"
   ]
  },
  {
   "cell_type": "markdown",
   "id": "a52e8967",
   "metadata": {},
   "source": [
    "## Kategori Rendah"
   ]
  },
  {
   "cell_type": "code",
   "execution_count": 286,
   "id": "22603c51",
   "metadata": {},
   "outputs": [],
   "source": [
    "# Persiapan data Collaborative Filtering untuk training\n",
    "dataRendah = Dataset.load_from_df(df3_CF_P_Rendah[['userId', 'movieId', 'rating']], reader)"
   ]
  },
  {
   "cell_type": "code",
   "execution_count": 296,
   "id": "e505862c",
   "metadata": {
    "scrolled": false
   },
   "outputs": [
    {
     "data": {
      "text/plain": [
       "{'test_rmse': array([1.06401481, 1.06232122, 1.05357924, 1.05390832, 1.04314873]),\n",
       " 'test_mae': array([0.84221103, 0.83854589, 0.83274456, 0.83061753, 0.82489768]),\n",
       " 'fit_time': (1.6604382991790771,\n",
       "  1.6534533500671387,\n",
       "  1.6941356658935547,\n",
       "  1.740797758102417,\n",
       "  1.7050259113311768),\n",
       " 'test_time': (0.04687809944152832,\n",
       "  0.04691576957702637,\n",
       "  0.031244277954101562,\n",
       "  0.10793113708496094,\n",
       "  0.04329633712768555)}"
      ]
     },
     "execution_count": 296,
     "metadata": {},
     "output_type": "execute_result"
    }
   ],
   "source": [
    "# Gunakan SVD untuk Collaborative Filtering\n",
    "svdRendah = SVD()\n",
    "evaluate(svdRendah, dataRendah, measures=['RMSE', 'MAE'],cv=5)\n",
    "\n",
    "# Hasil evaluasinya kurang baik, dimana nilai RMSE masih diangka 1. Nilai RMSE yang tinggi dicurigai\n",
    "# karena record per user dalam memberi rating ke movie dinilai cukup sedikit dan kurang saling berkaitan\n",
    "# Misal ada 10 user yang masing-masing memberikan 3 rate ke 3 movie saling berbeda. \n",
    "# Artinya diantara 10 user, tidak ada satupun yang serupa / mirip, karena user memberi rate ke movie yg saling berbeda"
   ]
  },
  {
   "cell_type": "code",
   "execution_count": 301,
   "id": "0dfd61a5",
   "metadata": {},
   "outputs": [],
   "source": [
    "trainsetRendah = dataRendah.build_full_trainset()\n",
    "svdRendah=svdRendah.fit(trainsetRendah)"
   ]
  },
  {
   "cell_type": "markdown",
   "id": "064a8056",
   "metadata": {},
   "source": [
    "## Kategori Sedang"
   ]
  },
  {
   "cell_type": "code",
   "execution_count": 303,
   "id": "f40d4e4a",
   "metadata": {},
   "outputs": [],
   "source": [
    "# Persiapan data Collaborative Filtering untuk training\n",
    "dataSedang = Dataset.load_from_df(df3_CF_P_Sedang[['userId', 'movieId', 'rating']], reader)"
   ]
  },
  {
   "cell_type": "code",
   "execution_count": 305,
   "id": "431783ab",
   "metadata": {},
   "outputs": [
    {
     "data": {
      "text/plain": [
       "(754429, 3)"
      ]
     },
     "execution_count": 305,
     "metadata": {},
     "output_type": "execute_result"
    }
   ],
   "source": [
    "df3_CF_P_Sedang.shape"
   ]
  },
  {
   "cell_type": "code",
   "execution_count": 306,
   "id": "63aba32f",
   "metadata": {
    "scrolled": true
   },
   "outputs": [
    {
     "data": {
      "text/plain": [
       "{'test_rmse': array([0.89653499, 0.89738173, 0.89662273, 0.89621904, 0.89761392,\n",
       "        0.89456065, 0.89504508]),\n",
       " 'test_mae': array([0.69410285, 0.6940301 , 0.69436635, 0.69391884, 0.6956631 ,\n",
       "        0.69289017, 0.69395694]),\n",
       " 'fit_time': (24.971388578414917,\n",
       "  25.148430347442627,\n",
       "  25.03571367263794,\n",
       "  25.11095881462097,\n",
       "  24.94906520843506,\n",
       "  25.07697582244873,\n",
       "  24.962989568710327),\n",
       " 'test_time': (0.6093111038208008,\n",
       "  0.7499196529388428,\n",
       "  0.680560827255249,\n",
       "  0.6092841625213623,\n",
       "  0.7342991828918457,\n",
       "  0.609299898147583,\n",
       "  0.5936863422393799)}"
      ]
     },
     "execution_count": 306,
     "metadata": {},
     "output_type": "execute_result"
    }
   ],
   "source": [
    "# Gunakan SVD untuk Collaborative Filtering\n",
    "svdSedang = SVD()\n",
    "evaluate(svdSedang, dataSedang, measures=['RMSE', 'MAE'],cv=7)\n",
    "\n",
    "# Hasil evaluasinya cukup baik baik, dimana nilai RMSE dibawah  1"
   ]
  },
  {
   "cell_type": "code",
   "execution_count": 307,
   "id": "2d4820ca",
   "metadata": {},
   "outputs": [],
   "source": [
    "trainsetSedang = dataSedang.build_full_trainset()\n",
    "svdSedang=svdSedang.fit(trainsetSedang)"
   ]
  },
  {
   "cell_type": "markdown",
   "id": "2f217f5a",
   "metadata": {},
   "source": [
    "\n",
    "\n",
    "## Kategori Tinggi"
   ]
  },
  {
   "cell_type": "code",
   "execution_count": 309,
   "id": "585116ee",
   "metadata": {},
   "outputs": [],
   "source": [
    "# Persiapan data Collaborative Filtering untuk training\n",
    "dataTinggi = Dataset.load_from_df(df3_CF_P_Tinggi[['userId', 'movieId', 'rating']], reader)"
   ]
  },
  {
   "cell_type": "code",
   "execution_count": 308,
   "id": "f3d5b8e3",
   "metadata": {},
   "outputs": [
    {
     "data": {
      "text/plain": [
       "(142879, 3)"
      ]
     },
     "execution_count": 308,
     "metadata": {},
     "output_type": "execute_result"
    }
   ],
   "source": [
    "df3_CF_P_Tinggi.shape"
   ]
  },
  {
   "cell_type": "code",
   "execution_count": 310,
   "id": "8662cb2a",
   "metadata": {
    "scrolled": true
   },
   "outputs": [
    {
     "data": {
      "text/plain": [
       "{'test_rmse': array([0.83814322, 0.85506873, 0.86108489, 0.84520821, 0.84928727,\n",
       "        0.85028353, 0.8475283 ]),\n",
       " 'test_mae': array([0.65270266, 0.66598362, 0.67180844, 0.65956925, 0.66295917,\n",
       "        0.66195492, 0.65872598]),\n",
       " 'fit_time': (4.621330738067627,\n",
       "  4.593247175216675,\n",
       "  4.608871698379517,\n",
       "  4.6557018756866455,\n",
       "  4.609524726867676,\n",
       "  4.618575811386108,\n",
       "  4.624450206756592),\n",
       " 'test_time': (0.07811379432678223,\n",
       "  0.07811427116394043,\n",
       "  0.07811665534973145,\n",
       "  0.21872806549072266,\n",
       "  0.07812285423278809,\n",
       "  0.07810544967651367,\n",
       "  0.21872782707214355)}"
      ]
     },
     "execution_count": 310,
     "metadata": {},
     "output_type": "execute_result"
    }
   ],
   "source": [
    "# Gunakan SVD untuk Collaborative Filtering\n",
    "svdTinggi = SVD()\n",
    "evaluate(svdTinggi, dataTinggi, measures=['RMSE', 'MAE'],cv=7)\n",
    "\n",
    "# Hasil evaluasinya cukup baik baik, dimana nilai RMSE dibawah  1"
   ]
  },
  {
   "cell_type": "code",
   "execution_count": 311,
   "id": "71704ba5",
   "metadata": {},
   "outputs": [],
   "source": [
    "trainsetTinggi = dataTinggi.build_full_trainset()\n",
    "svdTinggi=svdTinggi.fit(trainsetTinggi)"
   ]
  },
  {
   "cell_type": "code",
   "execution_count": null,
   "id": "867f2743",
   "metadata": {},
   "outputs": [],
   "source": [
    "# Pada CF, terdapat 3 model yang berdiri sendiri-sendiri untuk tiap kategori"
   ]
  },
  {
   "cell_type": "markdown",
   "id": "9e0af87b",
   "metadata": {},
   "source": [
    "# Membuat Content Based"
   ]
  },
  {
   "cell_type": "code",
   "execution_count": 312,
   "id": "e857c673",
   "metadata": {
    "scrolled": true
   },
   "outputs": [
    {
     "name": "stderr",
     "output_type": "stream",
     "text": [
      "C:\\Users\\Lukas_K\\anaconda3\\envs\\gpu_py_3_7\\lib\\site-packages\\ipykernel_launcher.py:6: SettingWithCopyWarning: \n",
      "A value is trying to be set on a copy of a slice from a DataFrame.\n",
      "Try using .loc[row_indexer,col_indexer] = value instead\n",
      "\n",
      "See the caveats in the documentation: https://pandas.pydata.org/pandas-docs/stable/user_guide/indexing.html#returning-a-view-versus-a-copy\n",
      "  \n"
     ]
    },
    {
     "data": {
      "text/plain": [
       "(485, 5695)"
      ]
     },
     "execution_count": 312,
     "metadata": {},
     "output_type": "execute_result"
    }
   ],
   "source": [
    "# Content Based nya\n",
    "# Pakai TF-IDF Vectorizer Object. Buang semua stopword 'the', 'a' karena kurang terkait konteks\n",
    "tfidf = TfidfVectorizer(stop_words='english')\n",
    "\n",
    "# sebelum pembobotan, pastikan overview NaN diubah jadi '', karena akan error kalau NaN dibiarin\n",
    "df3_CB_All_P['overview'] = df3_CB_All_P['overview'].fillna('')\n",
    "\n",
    "# TF-IDF kan overview yang sudah dibetulkan overviewnya\n",
    "tfidf_matrix = tfidf.fit_transform(df3_CB_All_P['overview'])\n",
    "\n",
    "# shape of tfidf_matrix (Jumlah data dan jumlah Feature)\n",
    "tfidf_matrix.shape\n"
   ]
  },
  {
   "cell_type": "code",
   "execution_count": 313,
   "id": "5e09c8fc",
   "metadata": {},
   "outputs": [],
   "source": [
    "# Idenya adalah membandingkan nilai diantara tfidf.\n",
    "\n",
    "# Import linear_kernel dari sklearn\n",
    "from sklearn.metrics.pairwise import linear_kernel\n",
    "\n",
    "# Hasil nilai cosine similarity matrix (kesamaan diantara hasil tfidf nya)\n",
    "cosine_sim = linear_kernel(tfidf_matrix, tfidf_matrix)"
   ]
  },
  {
   "cell_type": "code",
   "execution_count": 314,
   "id": "fd184a3c",
   "metadata": {
    "scrolled": true
   },
   "outputs": [
    {
     "data": {
      "text/plain": [
       "485"
      ]
     },
     "execution_count": 314,
     "metadata": {},
     "output_type": "execute_result"
    }
   ],
   "source": [
    "len(cosine_sim)"
   ]
  },
  {
   "cell_type": "code",
   "execution_count": 316,
   "id": "efcbc00e",
   "metadata": {},
   "outputs": [
    {
     "data": {
      "text/html": [
       "<div>\n",
       "<style scoped>\n",
       "    .dataframe tbody tr th:only-of-type {\n",
       "        vertical-align: middle;\n",
       "    }\n",
       "\n",
       "    .dataframe tbody tr th {\n",
       "        vertical-align: top;\n",
       "    }\n",
       "\n",
       "    .dataframe thead th {\n",
       "        text-align: right;\n",
       "    }\n",
       "</style>\n",
       "<table border=\"1\" class=\"dataframe\">\n",
       "  <thead>\n",
       "    <tr style=\"text-align: right;\">\n",
       "      <th></th>\n",
       "      <th>movieId</th>\n",
       "      <th>title_y</th>\n",
       "      <th>overview</th>\n",
       "      <th>genres</th>\n",
       "      <th>keywords</th>\n",
       "      <th>cast</th>\n",
       "      <th>crew</th>\n",
       "    </tr>\n",
       "  </thead>\n",
       "  <tbody>\n",
       "    <tr>\n",
       "      <th>0</th>\n",
       "      <td>4474</td>\n",
       "      <td>My Super Ex-Girlfriend</td>\n",
       "      <td>When New York architect Matt Saunders dumps hi...</td>\n",
       "      <td>[{\"id\": 14, \"name\": \"Fantasy\"}, {\"id\": 18, \"na...</td>\n",
       "      <td>[{\"id\": 242, \"name\": \"new york\"}, {\"id\": 334, ...</td>\n",
       "      <td>[{\"cast_id\": 3, \"character\": \"Jenny Johnson\", ...</td>\n",
       "      <td>[{\"credit_id\": \"52fe43c4c3a36847f806e0c3\", \"de...</td>\n",
       "    </tr>\n",
       "    <tr>\n",
       "      <th>277</th>\n",
       "      <td>415</td>\n",
       "      <td>Batman &amp; Robin</td>\n",
       "      <td>Along with crime-fighting partner Robin and ne...</td>\n",
       "      <td>[{\"id\": 28, \"name\": \"Action\"}, {\"id\": 80, \"nam...</td>\n",
       "      <td>[{\"id\": 848, \"name\": \"double life\"}, {\"id\": 84...</td>\n",
       "      <td>[{\"cast_id\": 4, \"character\": \"Bruce Wayne / Ba...</td>\n",
       "      <td>[{\"credit_id\": \"59b66a169251417cbc011ec4\", \"de...</td>\n",
       "    </tr>\n",
       "    <tr>\n",
       "      <th>459</th>\n",
       "      <td>157</td>\n",
       "      <td>Star Trek III: The Search for Spock</td>\n",
       "      <td>Admiral Kirk and his bridge crew risk their ca...</td>\n",
       "      <td>[{\"id\": 878, \"name\": \"Science Fiction\"}, {\"id\"...</td>\n",
       "      <td>[]</td>\n",
       "      <td>[{\"cast_id\": 5, \"character\": \"Admiral James T....</td>\n",
       "      <td>[{\"credit_id\": \"52fe4220c3a36847f8005eb3\", \"de...</td>\n",
       "    </tr>\n",
       "  </tbody>\n",
       "</table>\n",
       "</div>"
      ],
      "text/plain": [
       "     movieId                              title_y  \\\n",
       "0       4474               My Super Ex-Girlfriend   \n",
       "277      415                       Batman & Robin   \n",
       "459      157  Star Trek III: The Search for Spock   \n",
       "\n",
       "                                              overview  \\\n",
       "0    When New York architect Matt Saunders dumps hi...   \n",
       "277  Along with crime-fighting partner Robin and ne...   \n",
       "459  Admiral Kirk and his bridge crew risk their ca...   \n",
       "\n",
       "                                                genres  \\\n",
       "0    [{\"id\": 14, \"name\": \"Fantasy\"}, {\"id\": 18, \"na...   \n",
       "277  [{\"id\": 28, \"name\": \"Action\"}, {\"id\": 80, \"nam...   \n",
       "459  [{\"id\": 878, \"name\": \"Science Fiction\"}, {\"id\"...   \n",
       "\n",
       "                                              keywords  \\\n",
       "0    [{\"id\": 242, \"name\": \"new york\"}, {\"id\": 334, ...   \n",
       "277  [{\"id\": 848, \"name\": \"double life\"}, {\"id\": 84...   \n",
       "459                                                 []   \n",
       "\n",
       "                                                  cast  \\\n",
       "0    [{\"cast_id\": 3, \"character\": \"Jenny Johnson\", ...   \n",
       "277  [{\"cast_id\": 4, \"character\": \"Bruce Wayne / Ba...   \n",
       "459  [{\"cast_id\": 5, \"character\": \"Admiral James T....   \n",
       "\n",
       "                                                  crew  \n",
       "0    [{\"credit_id\": \"52fe43c4c3a36847f806e0c3\", \"de...  \n",
       "277  [{\"credit_id\": \"59b66a169251417cbc011ec4\", \"de...  \n",
       "459  [{\"credit_id\": \"52fe4220c3a36847f8005eb3\", \"de...  "
      ]
     },
     "execution_count": 316,
     "metadata": {},
     "output_type": "execute_result"
    }
   ],
   "source": [
    "df3_CB_All_P.head(3)"
   ]
  },
  {
   "cell_type": "code",
   "execution_count": 318,
   "id": "6ac922e0",
   "metadata": {
    "scrolled": true
   },
   "outputs": [],
   "source": [
    "# Inputan akan pakai judul\n",
    "df3_CB_All_P.reset_index(inplace = True)\n",
    "indices = pd.Series(df3_CB_All_P.index, index=df3_CB_All_P['title_y'])"
   ]
  },
  {
   "cell_type": "code",
   "execution_count": 901,
   "id": "6cc3815d",
   "metadata": {},
   "outputs": [],
   "source": [
    "# Fungsi untuk menjadikan judul sebagai inputan dan mengeluarkan output film yang mirip\n",
    "def get_recommendations(title, cosine_sim=cosine_sim):\n",
    "\n",
    "    # Dari Index yang dibuat sebelumnya, dipakai untuk mencari baris data film dengan memakai judul \n",
    "    # idx akan mendapatkan lokasi index cosine_sim dari film yang dicari\n",
    "    idx = indices[title]\n",
    "    \n",
    "    # Cari nilai cosine_sim dengan film\" lain\n",
    "    sim_scores = list(enumerate(cosine_sim[idx]))\n",
    "\n",
    "    # urutkan berdasarkan nilai cosine_sim\n",
    "    sim_scores = sorted(sim_scores, key=lambda x: x[1], reverse=True)\n",
    "\n",
    "    # ambil 10 teratas\n",
    "    sim_scores = sim_scores[1:11]\n",
    "\n",
    "    # pada nilai sim_score terdapat 2 kolom : id dan score\n",
    "    # Ambil ID nya untuk dipakai mencari nama judul nya dibaris selanjutnya\n",
    "    movie_indices = [i[0] for i in sim_scores]\n",
    "    \n",
    "    # Dari daftar ID yang sudah didapat, gunakan \"iloc\" untuk mencari baris data dari ID\n",
    "    # Ambil  title dan id nya untuk dikembalikan\n",
    "    return df3_CB_All_P[['title_y','level_0','movieId']].iloc[movie_indices]\n",
    "\n",
    "#     # Jika ingin melihat score \n",
    "#     return sim_scores"
   ]
  },
  {
   "cell_type": "code",
   "execution_count": 902,
   "id": "bb3f5bc9",
   "metadata": {},
   "outputs": [
    {
     "data": {
      "text/plain": [
       "(485, 9)"
      ]
     },
     "execution_count": 902,
     "metadata": {},
     "output_type": "execute_result"
    }
   ],
   "source": [
    "df3_CB_All_P.shape"
   ]
  },
  {
   "cell_type": "code",
   "execution_count": 903,
   "id": "68278611",
   "metadata": {
    "scrolled": true
   },
   "outputs": [
    {
     "data": {
      "text/html": [
       "<div>\n",
       "<style scoped>\n",
       "    .dataframe tbody tr th:only-of-type {\n",
       "        vertical-align: middle;\n",
       "    }\n",
       "\n",
       "    .dataframe tbody tr th {\n",
       "        vertical-align: top;\n",
       "    }\n",
       "\n",
       "    .dataframe thead th {\n",
       "        text-align: right;\n",
       "    }\n",
       "</style>\n",
       "<table border=\"1\" class=\"dataframe\">\n",
       "  <thead>\n",
       "    <tr style=\"text-align: right;\">\n",
       "      <th></th>\n",
       "      <th>level_0</th>\n",
       "      <th>index</th>\n",
       "      <th>movieId</th>\n",
       "      <th>title_y</th>\n",
       "      <th>overview</th>\n",
       "      <th>genres</th>\n",
       "      <th>keywords</th>\n",
       "      <th>cast</th>\n",
       "      <th>crew</th>\n",
       "    </tr>\n",
       "  </thead>\n",
       "  <tbody>\n",
       "    <tr>\n",
       "      <th>397</th>\n",
       "      <td>397</td>\n",
       "      <td>530271</td>\n",
       "      <td>280</td>\n",
       "      <td>Terminator 2: Judgment Day</td>\n",
       "      <td>Nearly 10 years have passed since Sarah Connor...</td>\n",
       "      <td>[{\"id\": 28, \"name\": \"Action\"}, {\"id\": 53, \"nam...</td>\n",
       "      <td>[{\"id\": 679, \"name\": \"cyborg\"}, {\"id\": 1366, \"...</td>\n",
       "      <td>[{\"cast_id\": 1, \"character\": \"The Terminator\",...</td>\n",
       "      <td>[{\"credit_id\": \"56b23ee3c3a36845b7000470\", \"de...</td>\n",
       "    </tr>\n",
       "  </tbody>\n",
       "</table>\n",
       "</div>"
      ],
      "text/plain": [
       "     level_0   index  movieId                     title_y  \\\n",
       "397      397  530271      280  Terminator 2: Judgment Day   \n",
       "\n",
       "                                              overview  \\\n",
       "397  Nearly 10 years have passed since Sarah Connor...   \n",
       "\n",
       "                                                genres  \\\n",
       "397  [{\"id\": 28, \"name\": \"Action\"}, {\"id\": 53, \"nam...   \n",
       "\n",
       "                                              keywords  \\\n",
       "397  [{\"id\": 679, \"name\": \"cyborg\"}, {\"id\": 1366, \"...   \n",
       "\n",
       "                                                  cast  \\\n",
       "397  [{\"cast_id\": 1, \"character\": \"The Terminator\",...   \n",
       "\n",
       "                                                  crew  \n",
       "397  [{\"credit_id\": \"56b23ee3c3a36845b7000470\", \"de...  "
      ]
     },
     "execution_count": 903,
     "metadata": {},
     "output_type": "execute_result"
    }
   ],
   "source": [
    "df3_CB_All_P[df3_CB_All_P['title_y']=='Terminator 2: Judgment Day']"
   ]
  },
  {
   "cell_type": "code",
   "execution_count": 904,
   "id": "f505cac5",
   "metadata": {
    "scrolled": true
   },
   "outputs": [
    {
     "data": {
      "text/html": [
       "<div>\n",
       "<style scoped>\n",
       "    .dataframe tbody tr th:only-of-type {\n",
       "        vertical-align: middle;\n",
       "    }\n",
       "\n",
       "    .dataframe tbody tr th {\n",
       "        vertical-align: top;\n",
       "    }\n",
       "\n",
       "    .dataframe thead th {\n",
       "        text-align: right;\n",
       "    }\n",
       "</style>\n",
       "<table border=\"1\" class=\"dataframe\">\n",
       "  <thead>\n",
       "    <tr style=\"text-align: right;\">\n",
       "      <th></th>\n",
       "      <th>title_y</th>\n",
       "      <th>level_0</th>\n",
       "      <th>movieId</th>\n",
       "    </tr>\n",
       "  </thead>\n",
       "  <tbody>\n",
       "    <tr>\n",
       "      <th>397</th>\n",
       "      <td>Terminator 2: Judgment Day</td>\n",
       "      <td>397</td>\n",
       "      <td>280</td>\n",
       "    </tr>\n",
       "    <tr>\n",
       "      <th>414</th>\n",
       "      <td>The Terminator</td>\n",
       "      <td>414</td>\n",
       "      <td>218</td>\n",
       "    </tr>\n",
       "    <tr>\n",
       "      <th>33</th>\n",
       "      <td>Dances with Wolves</td>\n",
       "      <td>33</td>\n",
       "      <td>581</td>\n",
       "    </tr>\n",
       "    <tr>\n",
       "      <th>50</th>\n",
       "      <td>The Fisher King</td>\n",
       "      <td>50</td>\n",
       "      <td>177</td>\n",
       "    </tr>\n",
       "    <tr>\n",
       "      <th>86</th>\n",
       "      <td>Akira</td>\n",
       "      <td>86</td>\n",
       "      <td>149</td>\n",
       "    </tr>\n",
       "    <tr>\n",
       "      <th>208</th>\n",
       "      <td>Training Day</td>\n",
       "      <td>208</td>\n",
       "      <td>2034</td>\n",
       "    </tr>\n",
       "    <tr>\n",
       "      <th>19</th>\n",
       "      <td>Adaptation.</td>\n",
       "      <td>19</td>\n",
       "      <td>2757</td>\n",
       "    </tr>\n",
       "    <tr>\n",
       "      <th>268</th>\n",
       "      <td>Sunshine</td>\n",
       "      <td>268</td>\n",
       "      <td>1272</td>\n",
       "    </tr>\n",
       "    <tr>\n",
       "      <th>352</th>\n",
       "      <td>The Time Machine</td>\n",
       "      <td>352</td>\n",
       "      <td>2135</td>\n",
       "    </tr>\n",
       "    <tr>\n",
       "      <th>172</th>\n",
       "      <td>Big</td>\n",
       "      <td>172</td>\n",
       "      <td>2280</td>\n",
       "    </tr>\n",
       "  </tbody>\n",
       "</table>\n",
       "</div>"
      ],
      "text/plain": [
       "                        title_y  level_0  movieId\n",
       "397  Terminator 2: Judgment Day      397      280\n",
       "414              The Terminator      414      218\n",
       "33           Dances with Wolves       33      581\n",
       "50              The Fisher King       50      177\n",
       "86                        Akira       86      149\n",
       "208                Training Day      208     2034\n",
       "19                  Adaptation.       19     2757\n",
       "268                    Sunshine      268     1272\n",
       "352            The Time Machine      352     2135\n",
       "172                         Big      172     2280"
      ]
     },
     "execution_count": 904,
     "metadata": {},
     "output_type": "execute_result"
    }
   ],
   "source": [
    "get_recommendations('Terminator Salvation')"
   ]
  },
  {
   "cell_type": "markdown",
   "id": "2ba40542",
   "metadata": {},
   "source": [
    "# Membuat Hybrid Filtering\n",
    "\n",
    "Pada Hybrid Filtering ini, akan terdapat 2 inputan, yaiut :\n",
    "1. UserId yang ingin diberikan Rekomendasi\n",
    "2. Judul Film yang disukai\n",
    "\n",
    "Dari judul film yang disukai, akan dicari 10 film yang paling mirip dengan Content Based\n",
    "Kemudian setelah mendapat 10 judul tersebut, akan disorting menggunakan kombinasi \n",
    "Demografik Filtering dan Colaborative Filtering\n",
    "\n",
    "Dengan pembobotan :\n",
    "\n",
    " 1. Demografik Filtering (2)\n",
    " 2. Collaborative Filtering (3)\n",
    "\n",
    "Dengan skala maksimal 5\n",
    "\n",
    "Besar pembobotan tersebut diberikan, karena user bisa jadi ikut menonton suatu film karena kecenderungan trend yang ada. \n",
    "Tetapi, user tetap akan berpegang teguh terhadap film yang memang disukainya."
   ]
  },
  {
   "cell_type": "code",
   "execution_count": 924,
   "id": "b8dace46",
   "metadata": {
    "scrolled": false
   },
   "outputs": [],
   "source": [
    "# hybrid Filtering akan menjalankan Content Based dahulu, baru kemudian di sorting menggunakan Collaborative \n",
    "def hybridFiltering(userId,title):\n",
    "    dataFilm_CB = get_recommendations(title)\n",
    "    \n",
    "    listSVD_predict=[]\n",
    "    \n",
    "    dataFilm_CB_List = dataFilm_CB['movieId'].values.tolist()\n",
    "    for movieId in dataFilm_CB_List:\n",
    "        # Untuk menentukan pakai model SVD kelompok mana\n",
    "        dataFrame = pd.DataFrame([[movieId]], columns =['movieId'], dtype = float) \n",
    "        SVD_Rendah = pd.merge(df3_CF_P_Rendah, dataFrame,  how='right', left_on=['movieId'], right_on = ['movieId'])\n",
    "        SVD_Sedang = pd.merge(df3_CF_P_Sedang, dataFrame,  how='right', left_on=['movieId'], right_on = ['movieId'])\n",
    "        SVD_Tinggi = pd.merge(df3_CF_P_Tinggi, dataFrame,  how='right', left_on=['movieId'], right_on = ['movieId'])\n",
    "        \n",
    "        if (SVD_Rendah.shape[0] > SVD_Sedang.shape[0]) and (SVD_Rendah.shape[0] > SVD_Tinggi.shape[0]):\n",
    "#             print(\"Rendah\")\n",
    "            listSVD_predict.append([svdRendah.predict(userId, movieId).est,movieId,dataFilm_CB[dataFilm_CB['movieId']==movieId].title_y.values.tolist()])\n",
    "        elif (SVD_Sedang.shape[0] > SVD_Rendah.shape[0]) and (SVD_Sedang.shape[0] > SVD_Tinggi.shape[0]):\n",
    "#             print(\"Sedang\")\n",
    "            listSVD_predict.append([svdSedang.predict(userId, movieId).est,movieId,dataFilm_CB[dataFilm_CB['movieId']==movieId].title_y.values.tolist()])\n",
    "        elif (SVD_Tinggi.shape[0] > SVD_Rendah.shape[0]) and (SVD_Tinggi.shape[0] > SVD_Sedang.shape[0]):\n",
    "#             print(\"Tinggi\")\n",
    "            listSVD_predict.append([svdTinggi.predict(userId, movieId).est,movieId,dataFilm_CB[dataFilm_CB['movieId']==movieId].title_y.values.tolist()])\n",
    "        else:\n",
    "            # Area Else akan jalan jika banyak data di antara kelompok saling sama, atau tidak ada data disuatu kelompok / NaN   \n",
    "#             print(\"Terserah\")\n",
    "            listSVD_predict.append([svdSedang.predict(userId, movieId).est,movieId,dataFilm_CB[dataFilm_CB['movieId']==movieId].title_y.values.tolist()])\n",
    "    return sorted(listSVD_predict,key=lambda x: (x[0],x[1]),reverse=True)"
   ]
  },
  {
   "cell_type": "code",
   "execution_count": 925,
   "id": "473f555d",
   "metadata": {
    "scrolled": true
   },
   "outputs": [
    {
     "data": {
      "text/html": [
       "<div>\n",
       "<style scoped>\n",
       "    .dataframe tbody tr th:only-of-type {\n",
       "        vertical-align: middle;\n",
       "    }\n",
       "\n",
       "    .dataframe tbody tr th {\n",
       "        vertical-align: top;\n",
       "    }\n",
       "\n",
       "    .dataframe thead th {\n",
       "        text-align: right;\n",
       "    }\n",
       "</style>\n",
       "<table border=\"1\" class=\"dataframe\">\n",
       "  <thead>\n",
       "    <tr style=\"text-align: right;\">\n",
       "      <th></th>\n",
       "      <th>title_y</th>\n",
       "      <th>level_0</th>\n",
       "      <th>movieId</th>\n",
       "    </tr>\n",
       "  </thead>\n",
       "  <tbody>\n",
       "    <tr>\n",
       "      <th>248</th>\n",
       "      <td>Alien</td>\n",
       "      <td>248</td>\n",
       "      <td>348</td>\n",
       "    </tr>\n",
       "    <tr>\n",
       "      <th>453</th>\n",
       "      <td>Escape from the Planet of the Apes</td>\n",
       "      <td>453</td>\n",
       "      <td>1687</td>\n",
       "    </tr>\n",
       "    <tr>\n",
       "      <th>127</th>\n",
       "      <td>Birthday Girl</td>\n",
       "      <td>127</td>\n",
       "      <td>2084</td>\n",
       "    </tr>\n",
       "    <tr>\n",
       "      <th>143</th>\n",
       "      <td>Mars Attacks!</td>\n",
       "      <td>143</td>\n",
       "      <td>75</td>\n",
       "    </tr>\n",
       "    <tr>\n",
       "      <th>437</th>\n",
       "      <td>Mission to Mars</td>\n",
       "      <td>437</td>\n",
       "      <td>2067</td>\n",
       "    </tr>\n",
       "    <tr>\n",
       "      <th>400</th>\n",
       "      <td>The Thing</td>\n",
       "      <td>400</td>\n",
       "      <td>1091</td>\n",
       "    </tr>\n",
       "    <tr>\n",
       "      <th>303</th>\n",
       "      <td>Cold Mountain</td>\n",
       "      <td>303</td>\n",
       "      <td>2289</td>\n",
       "    </tr>\n",
       "    <tr>\n",
       "      <th>46</th>\n",
       "      <td>Shrek 2</td>\n",
       "      <td>46</td>\n",
       "      <td>809</td>\n",
       "    </tr>\n",
       "    <tr>\n",
       "      <th>360</th>\n",
       "      <td>Predator 2</td>\n",
       "      <td>360</td>\n",
       "      <td>169</td>\n",
       "    </tr>\n",
       "    <tr>\n",
       "      <th>350</th>\n",
       "      <td>Kill Bill: Vol. 1</td>\n",
       "      <td>350</td>\n",
       "      <td>24</td>\n",
       "    </tr>\n",
       "  </tbody>\n",
       "</table>\n",
       "</div>"
      ],
      "text/plain": [
       "                                title_y  level_0  movieId\n",
       "248                               Alien      248      348\n",
       "453  Escape from the Planet of the Apes      453     1687\n",
       "127                       Birthday Girl      127     2084\n",
       "143                       Mars Attacks!      143       75\n",
       "437                     Mission to Mars      437     2067\n",
       "400                           The Thing      400     1091\n",
       "303                       Cold Mountain      303     2289\n",
       "46                              Shrek 2       46      809\n",
       "360                          Predator 2      360      169\n",
       "350                   Kill Bill: Vol. 1      350       24"
      ]
     },
     "execution_count": 925,
     "metadata": {},
     "output_type": "execute_result"
    }
   ],
   "source": [
    "get_recommendations('Krull')"
   ]
  },
  {
   "cell_type": "code",
   "execution_count": 926,
   "id": "dd7ca157",
   "metadata": {
    "scrolled": true
   },
   "outputs": [
    {
     "name": "stdout",
     "output_type": "stream",
     "text": [
      "Cold Mountain\n",
      "Alien\n",
      "Mission to Mars\n",
      "Kill Bill: Vol. 1\n",
      "Escape from the Planet of the Apes\n",
      "Mars Attacks!\n",
      "Birthday Girl\n",
      "The Thing\n",
      "Predator 2\n",
      "Shrek 2\n"
     ]
    },
    {
     "name": "stderr",
     "output_type": "stream",
     "text": [
      "C:\\Users\\Lukas_K\\anaconda3\\envs\\gpu_py_3_7\\lib\\site-packages\\ipykernel_launcher.py:2: VisibleDeprecationWarning: Creating an ndarray from ragged nested sequences (which is a list-or-tuple of lists-or-tuples-or ndarrays with different lengths or shapes) is deprecated. If you meant to do this, you must specify 'dtype=object' when creating the ndarray.\n",
      "  \n"
     ]
    }
   ],
   "source": [
    "# Terlihat sudah ter sorting kembali dengan 3 model SVD \n",
    "arrayResult =np.array(hybridFiltering(176,'Krull'))[:,2]\n",
    "for i in arrayResult:\n",
    "    print(i[0])"
   ]
  },
  {
   "cell_type": "code",
   "execution_count": 361,
   "id": "625ea2c1",
   "metadata": {
    "scrolled": true
   },
   "outputs": [
    {
     "data": {
      "text/html": [
       "<div>\n",
       "<style scoped>\n",
       "    .dataframe tbody tr th:only-of-type {\n",
       "        vertical-align: middle;\n",
       "    }\n",
       "\n",
       "    .dataframe tbody tr th {\n",
       "        vertical-align: top;\n",
       "    }\n",
       "\n",
       "    .dataframe thead th {\n",
       "        text-align: right;\n",
       "    }\n",
       "</style>\n",
       "<table border=\"1\" class=\"dataframe\">\n",
       "  <thead>\n",
       "    <tr style=\"text-align: right;\">\n",
       "      <th></th>\n",
       "      <th>title_y</th>\n",
       "      <th>rating</th>\n",
       "    </tr>\n",
       "  </thead>\n",
       "  <tbody>\n",
       "    <tr>\n",
       "      <th>145323</th>\n",
       "      <td>Donnie Darko</td>\n",
       "      <td>3.0</td>\n",
       "    </tr>\n",
       "    <tr>\n",
       "      <th>171069</th>\n",
       "      <td>A Nightmare on Elm Street</td>\n",
       "      <td>4.0</td>\n",
       "    </tr>\n",
       "    <tr>\n",
       "      <th>285401</th>\n",
       "      <td>Monsoon Wedding</td>\n",
       "      <td>3.0</td>\n",
       "    </tr>\n",
       "    <tr>\n",
       "      <th>359725</th>\n",
       "      <td>Reservoir Dogs</td>\n",
       "      <td>3.0</td>\n",
       "    </tr>\n",
       "    <tr>\n",
       "      <th>398805</th>\n",
       "      <td>Rebecca</td>\n",
       "      <td>3.0</td>\n",
       "    </tr>\n",
       "    <tr>\n",
       "      <th>424892</th>\n",
       "      <td>Batman &amp; Robin</td>\n",
       "      <td>3.0</td>\n",
       "    </tr>\n",
       "    <tr>\n",
       "      <th>521456</th>\n",
       "      <td>Terminator 3: Rise of the Machines</td>\n",
       "      <td>5.0</td>\n",
       "    </tr>\n",
       "    <tr>\n",
       "      <th>676950</th>\n",
       "      <td>Monsters, Inc.</td>\n",
       "      <td>4.0</td>\n",
       "    </tr>\n",
       "    <tr>\n",
       "      <th>839733</th>\n",
       "      <td>The Terminal</td>\n",
       "      <td>5.0</td>\n",
       "    </tr>\n",
       "    <tr>\n",
       "      <th>919355</th>\n",
       "      <td>Lost in Translation</td>\n",
       "      <td>3.0</td>\n",
       "    </tr>\n",
       "    <tr>\n",
       "      <th>997976</th>\n",
       "      <td>Rain Man</td>\n",
       "      <td>3.0</td>\n",
       "    </tr>\n",
       "    <tr>\n",
       "      <th>1048156</th>\n",
       "      <td>Silent Hill</td>\n",
       "      <td>3.0</td>\n",
       "    </tr>\n",
       "    <tr>\n",
       "      <th>1149870</th>\n",
       "      <td>The Conversation</td>\n",
       "      <td>3.0</td>\n",
       "    </tr>\n",
       "    <tr>\n",
       "      <th>1203615</th>\n",
       "      <td>Solaris</td>\n",
       "      <td>3.0</td>\n",
       "    </tr>\n",
       "    <tr>\n",
       "      <th>1287657</th>\n",
       "      <td>To Kill a Mockingbird</td>\n",
       "      <td>3.0</td>\n",
       "    </tr>\n",
       "    <tr>\n",
       "      <th>1328938</th>\n",
       "      <td>Syriana</td>\n",
       "      <td>3.0</td>\n",
       "    </tr>\n",
       "    <tr>\n",
       "      <th>1629945</th>\n",
       "      <td>Stand by Me</td>\n",
       "      <td>3.0</td>\n",
       "    </tr>\n",
       "    <tr>\n",
       "      <th>2164878</th>\n",
       "      <td>Scarface</td>\n",
       "      <td>3.0</td>\n",
       "    </tr>\n",
       "    <tr>\n",
       "      <th>2297759</th>\n",
       "      <td>Titanic</td>\n",
       "      <td>3.0</td>\n",
       "    </tr>\n",
       "    <tr>\n",
       "      <th>2532774</th>\n",
       "      <td>Cat on a Hot Tin Roof</td>\n",
       "      <td>3.0</td>\n",
       "    </tr>\n",
       "    <tr>\n",
       "      <th>2563939</th>\n",
       "      <td>Aliens vs Predator: Requiem</td>\n",
       "      <td>3.0</td>\n",
       "    </tr>\n",
       "    <tr>\n",
       "      <th>2583972</th>\n",
       "      <td>Romeo + Juliet</td>\n",
       "      <td>3.0</td>\n",
       "    </tr>\n",
       "    <tr>\n",
       "      <th>2645935</th>\n",
       "      <td>Fight Club</td>\n",
       "      <td>3.0</td>\n",
       "    </tr>\n",
       "    <tr>\n",
       "      <th>2656419</th>\n",
       "      <td>Big Fish</td>\n",
       "      <td>3.0</td>\n",
       "    </tr>\n",
       "    <tr>\n",
       "      <th>3015770</th>\n",
       "      <td>Metropolis</td>\n",
       "      <td>3.0</td>\n",
       "    </tr>\n",
       "    <tr>\n",
       "      <th>3065590</th>\n",
       "      <td>Dave Chappelle's Block Party</td>\n",
       "      <td>2.0</td>\n",
       "    </tr>\n",
       "    <tr>\n",
       "      <th>3094236</th>\n",
       "      <td>Psycho</td>\n",
       "      <td>3.0</td>\n",
       "    </tr>\n",
       "    <tr>\n",
       "      <th>3125370</th>\n",
       "      <td>Wag the Dog</td>\n",
       "      <td>3.0</td>\n",
       "    </tr>\n",
       "    <tr>\n",
       "      <th>3233701</th>\n",
       "      <td>Live and Let Die</td>\n",
       "      <td>3.0</td>\n",
       "    </tr>\n",
       "    <tr>\n",
       "      <th>3461527</th>\n",
       "      <td>Underworld</td>\n",
       "      <td>3.0</td>\n",
       "    </tr>\n",
       "    <tr>\n",
       "      <th>3472691</th>\n",
       "      <td>The Day After Tomorrow</td>\n",
       "      <td>3.0</td>\n",
       "    </tr>\n",
       "    <tr>\n",
       "      <th>3622013</th>\n",
       "      <td>The Lord of the Rings: The Return of the King</td>\n",
       "      <td>2.0</td>\n",
       "    </tr>\n",
       "    <tr>\n",
       "      <th>3626091</th>\n",
       "      <td>Star Trek VI: The Undiscovered Country</td>\n",
       "      <td>3.0</td>\n",
       "    </tr>\n",
       "    <tr>\n",
       "      <th>3657977</th>\n",
       "      <td>The Devil Wears Prada</td>\n",
       "      <td>3.0</td>\n",
       "    </tr>\n",
       "    <tr>\n",
       "      <th>3684275</th>\n",
       "      <td>Harry Potter and the Philosopher's Stone</td>\n",
       "      <td>4.0</td>\n",
       "    </tr>\n",
       "    <tr>\n",
       "      <th>3870991</th>\n",
       "      <td>Terminator Salvation</td>\n",
       "      <td>5.0</td>\n",
       "    </tr>\n",
       "    <tr>\n",
       "      <th>3915523</th>\n",
       "      <td>The Last Samurai</td>\n",
       "      <td>4.0</td>\n",
       "    </tr>\n",
       "    <tr>\n",
       "      <th>4002401</th>\n",
       "      <td>Forrest Gump</td>\n",
       "      <td>3.0</td>\n",
       "    </tr>\n",
       "    <tr>\n",
       "      <th>4008889</th>\n",
       "      <td>Lucky Number Slevin</td>\n",
       "      <td>3.0</td>\n",
       "    </tr>\n",
       "    <tr>\n",
       "      <th>4079574</th>\n",
       "      <td>Willy Wonka &amp; the Chocolate Factory</td>\n",
       "      <td>4.0</td>\n",
       "    </tr>\n",
       "    <tr>\n",
       "      <th>4097151</th>\n",
       "      <td>Casablanca</td>\n",
       "      <td>3.0</td>\n",
       "    </tr>\n",
       "    <tr>\n",
       "      <th>4147031</th>\n",
       "      <td>Saw IV</td>\n",
       "      <td>5.0</td>\n",
       "    </tr>\n",
       "    <tr>\n",
       "      <th>4324849</th>\n",
       "      <td>The Interpreter</td>\n",
       "      <td>3.0</td>\n",
       "    </tr>\n",
       "    <tr>\n",
       "      <th>4326118</th>\n",
       "      <td>Star Trek: Insurrection</td>\n",
       "      <td>3.0</td>\n",
       "    </tr>\n",
       "    <tr>\n",
       "      <th>4326472</th>\n",
       "      <td>The Terminator</td>\n",
       "      <td>3.0</td>\n",
       "    </tr>\n",
       "    <tr>\n",
       "      <th>4330882</th>\n",
       "      <td>Pocketful of Miracles</td>\n",
       "      <td>3.0</td>\n",
       "    </tr>\n",
       "    <tr>\n",
       "      <th>4334130</th>\n",
       "      <td>Batman</td>\n",
       "      <td>1.0</td>\n",
       "    </tr>\n",
       "    <tr>\n",
       "      <th>4334880</th>\n",
       "      <td>The Silence of the Lambs</td>\n",
       "      <td>2.0</td>\n",
       "    </tr>\n",
       "    <tr>\n",
       "      <th>4336146</th>\n",
       "      <td>Mary Poppins</td>\n",
       "      <td>3.0</td>\n",
       "    </tr>\n",
       "    <tr>\n",
       "      <th>4337420</th>\n",
       "      <td>The Spy Who Loved Me</td>\n",
       "      <td>5.0</td>\n",
       "    </tr>\n",
       "  </tbody>\n",
       "</table>\n",
       "</div>"
      ],
      "text/plain": [
       "                                               title_y  rating\n",
       "145323                                    Donnie Darko     3.0\n",
       "171069                       A Nightmare on Elm Street     4.0\n",
       "285401                                 Monsoon Wedding     3.0\n",
       "359725                                  Reservoir Dogs     3.0\n",
       "398805                                         Rebecca     3.0\n",
       "424892                                  Batman & Robin     3.0\n",
       "521456              Terminator 3: Rise of the Machines     5.0\n",
       "676950                                  Monsters, Inc.     4.0\n",
       "839733                                    The Terminal     5.0\n",
       "919355                             Lost in Translation     3.0\n",
       "997976                                        Rain Man     3.0\n",
       "1048156                                    Silent Hill     3.0\n",
       "1149870                               The Conversation     3.0\n",
       "1203615                                        Solaris     3.0\n",
       "1287657                          To Kill a Mockingbird     3.0\n",
       "1328938                                        Syriana     3.0\n",
       "1629945                                    Stand by Me     3.0\n",
       "2164878                                       Scarface     3.0\n",
       "2297759                                        Titanic     3.0\n",
       "2532774                          Cat on a Hot Tin Roof     3.0\n",
       "2563939                    Aliens vs Predator: Requiem     3.0\n",
       "2583972                                 Romeo + Juliet     3.0\n",
       "2645935                                     Fight Club     3.0\n",
       "2656419                                       Big Fish     3.0\n",
       "3015770                                     Metropolis     3.0\n",
       "3065590                   Dave Chappelle's Block Party     2.0\n",
       "3094236                                         Psycho     3.0\n",
       "3125370                                    Wag the Dog     3.0\n",
       "3233701                               Live and Let Die     3.0\n",
       "3461527                                     Underworld     3.0\n",
       "3472691                         The Day After Tomorrow     3.0\n",
       "3622013  The Lord of the Rings: The Return of the King     2.0\n",
       "3626091         Star Trek VI: The Undiscovered Country     3.0\n",
       "3657977                          The Devil Wears Prada     3.0\n",
       "3684275       Harry Potter and the Philosopher's Stone     4.0\n",
       "3870991                           Terminator Salvation     5.0\n",
       "3915523                               The Last Samurai     4.0\n",
       "4002401                                   Forrest Gump     3.0\n",
       "4008889                            Lucky Number Slevin     3.0\n",
       "4079574            Willy Wonka & the Chocolate Factory     4.0\n",
       "4097151                                     Casablanca     3.0\n",
       "4147031                                         Saw IV     5.0\n",
       "4324849                                The Interpreter     3.0\n",
       "4326118                        Star Trek: Insurrection     3.0\n",
       "4326472                                 The Terminator     3.0\n",
       "4330882                          Pocketful of Miracles     3.0\n",
       "4334130                                         Batman     1.0\n",
       "4334880                       The Silence of the Lambs     2.0\n",
       "4336146                                   Mary Poppins     3.0\n",
       "4337420                           The Spy Who Loved Me     5.0"
      ]
     },
     "execution_count": 361,
     "metadata": {},
     "output_type": "execute_result"
    }
   ],
   "source": [
    "# Acuan User\n",
    "test = df3[df3['userId']==176]\n",
    "test[['title_y','rating']]"
   ]
  },
  {
   "cell_type": "code",
   "execution_count": null,
   "id": "96d70a62",
   "metadata": {},
   "outputs": [],
   "source": [
    "# Terlihat proses rekomendasi sudah terjadi, Kill Bil yang sebelumnya no 10, naik jadi no 4 karena user suka SawIV yang \n",
    "# notabene adalah film sadis dan film The Nighmarare. \n",
    "\n",
    "# Sebetulnya masih ada beberapa faktor lain yang dipertanyakan. \n",
    "# (1) Kenapa Terminator Salvatin suka, tapi The Terminator tidak suka\n",
    "\n",
    "# Permasalahan tersebut bisa dijawab, jika Content Based tidak hanya menggunakan Overview saja, tetapi genre,cast,crew dll"
   ]
  },
  {
   "cell_type": "markdown",
   "id": "802a064f",
   "metadata": {},
   "source": [
    "# Membuat Hybrid Filtering versi kombinasi 3 Filtering"
   ]
  },
  {
   "cell_type": "code",
   "execution_count": 998,
   "id": "652316f2",
   "metadata": {},
   "outputs": [],
   "source": [
    "# Fungsi untuk menjadikan judul sebagai inputan dan mengeluarkan output film yang mirip\n",
    "def get_recommendations2(title, cosine_sim=cosine_sim2):\n",
    "    \n",
    "    \n",
    "    # Dari Index yang dibuat sebelumnya, dipakai untuk mencari baris data film dengan memakai judul \n",
    "    # idx akan mendapatkan lokasi index cosine_sim dari film yang dicari\n",
    "    idx = indices2[title]\n",
    "\n",
    "    # Cari nilai cosine_sim dengan film\" lain\n",
    "    sim_scores = list(enumerate(cosine_sim[idx]))\n",
    "\n",
    "    # urutkan berdasarkan nilai cosine_sim\n",
    "    sim_scores = sorted(sim_scores, key=lambda x: x[1], reverse=True)\n",
    "\n",
    "    # ambil 10 teratas\n",
    "    sim_scores = sim_scores[1:11]\n",
    "    movie_indices = [i[0] for i in sim_scores]\n",
    "    \n",
    "    # Dari daftar ID yang sudah didapat, gunakan \"iloc\" untuk mencari baris data dari ID\n",
    "    # Ambil  title dan id nya untuk dikembalikan\n",
    "#     return q2_movies[['title_y_x']].iloc[movie_indices]\n",
    "\n",
    "#     # Jika ingin melihat score \n",
    "#     return sim_scores\n",
    "\n",
    "    listValueSimilarity =[]\n",
    "    for i in sim_scores:\n",
    "        listValueSimilarity.append(i[1])\n",
    "    \n",
    "    return sum(listValueSimilarity)/len(listValueSimilarity)\n"
   ]
  },
  {
   "cell_type": "code",
   "execution_count": 999,
   "id": "3f0d8f6e",
   "metadata": {},
   "outputs": [
    {
     "data": {
      "text/plain": [
       "0.01653183250740576"
      ]
     },
     "execution_count": 999,
     "metadata": {},
     "output_type": "execute_result"
    }
   ],
   "source": [
    "get_recommendations2('It Happened One Night')"
   ]
  },
  {
   "cell_type": "code",
   "execution_count": 1007,
   "id": "0318b762",
   "metadata": {},
   "outputs": [],
   "source": [
    "# hybrid Filtering akan menjalankan Content Based dahulu, baru kemudian di sorting menggunakan Collaborative \n",
    "def hybridFiltering2(userId,title):\n",
    "    dataFilm_CB = get_recommendations(title)\n",
    "    \n",
    "    listSVD_predict=[]\n",
    "    listDF = []\n",
    "    \n",
    "    #Cari data dari movie yang di dapat dari ContentBasednya\n",
    "    dataInput = df3_CB_All_P[df3_CB_All_P['title_y']==title]\n",
    "\n",
    "    # Merge dengan 10 top film dari Demografic Filtering\n",
    "    q2_movies = q_movies.head(10).merge(df3_CB_All_P,left_on='movieId', right_on='movieId', how='left',copy=False)\n",
    "    q2_movies = pd.concat([q2_movies,dataInput])\n",
    "\n",
    "    # Ada Bug di kolom, sementara dibenarkan pakai ini\n",
    "    q2_movies.loc[q2_movies['title_y'] == title, 'title_y_x'] = title\n",
    "    q2_movies = q2_movies[['index','title_y_x','overview','movieId']]\n",
    "    del q2_movies['index']\n",
    "    q2_movies.reset_index(inplace = True)\n",
    "    \n",
    "    # Jika Overview kosong, maka diisikan ''\n",
    "    q2_movies['q2_moviesoverview'] = q2_movies['overview'].fillna('')\n",
    "    # Beri pembobotan ke Overviewnya\n",
    "    tfidf_matrix2 = tfidf.fit_transform(q2_movies['overview'])\n",
    "    tfidf_matrix2.shape\n",
    "\n",
    "    # Komparasikan satu sama lain\n",
    "    cosine_sim2 = linear_kernel(tfidf_matrix2, tfidf_matrix2)\n",
    "    \n",
    "\n",
    "    # Inputan akan pakai judul\n",
    "    indices2 = pd.Series(q2_movies.index, index=q2_movies['title_y_x'])\n",
    "    \n",
    "    dataFilm_CB_List = dataFilm_CB['movieId'].values.tolist()\n",
    "    for movieId in dataFilm_CB_List:\n",
    "        # Untuk menentukan pakai model SVD kelompok mana\n",
    "        dataFrame = pd.DataFrame([[movieId]], columns =['movieId'], dtype = int) \n",
    "        SVD_Rendah = pd.merge(df3_CF_P_Rendah, dataFrame,  how='right', left_on=['movieId'], right_on = ['movieId'])\n",
    "        SVD_Sedang = pd.merge(df3_CF_P_Sedang, dataFrame,  how='right', left_on=['movieId'], right_on = ['movieId'])\n",
    "        SVD_Tinggi = pd.merge(df3_CF_P_Tinggi, dataFrame,  how='right', left_on=['movieId'], right_on = ['movieId'])\n",
    "        \n",
    "        movieTitle = pd.merge(df3_CB_All_P, dataFrame,  how='right', left_on=['movieId'], right_on = ['movieId'])\n",
    "        \n",
    "        # Demografik Filtering \n",
    "        DF_calculation = get_recommendations2(movieTitle.title_y.to_string()[5:])*0.2\n",
    "        \n",
    "        listDF.append(DF_calculation)\n",
    "        if (SVD_Rendah.shape[0] > SVD_Sedang.shape[0]) and (SVD_Rendah.shape[0] > SVD_Tinggi.shape[0]):\n",
    "            # print(\"Rendah\")\n",
    "            CF_calculation = (svdRendah.predict(userId, movieId).est)*0.3\n",
    "            \n",
    "            listSVD_predict.append([\n",
    "                    CF_calculation+DF_calculation,movieId\n",
    "                ,[dataFilm_CB[dataFilm_CB['movieId']==movieId].title_y.values.tolist()]])\n",
    "        elif (SVD_Sedang.shape[0] > SVD_Rendah.shape[0]) and (SVD_Sedang.shape[0] > SVD_Tinggi.shape[0]):\n",
    "            # print(\"Sedang\")\n",
    "            CF_calculation = (svdSedang.predict(userId, movieId).est)*0.3\n",
    "                \n",
    "            listSVD_predict.append([\n",
    "                    CF_calculation+DF_calculation,movieId\n",
    "                ,[dataFilm_CB[dataFilm_CB['movieId']==movieId].title_y.values.tolist()]])\n",
    "                \n",
    "        elif (SVD_Tinggi.shape[0] > SVD_Rendah.shape[0]) and (SVD_Tinggi.shape[0] > SVD_Sedang.shape[0]):\n",
    "            # print(\"Tinggi\")\n",
    "            CF_calculation = (svdTinggi.predict(userId, movieId).est)*0.3\n",
    "                \n",
    "            listSVD_predict.append([\n",
    "                    CF_calculation+DF_calculation,movieId\n",
    "                ,[dataFilm_CB[dataFilm_CB['movieId']==movieId].title_y.values.tolist()]])\n",
    "        else:\n",
    "            # Area Else akan jalan jika banyak data di antara kelompok saling sama, atau tidak ada data disuatu kelompok / NaN   \n",
    "            # print(\"Terserah\")\n",
    "            CF_calculation = (svdTinggi.predict(userId, movieId).est)*0.3\n",
    "            \n",
    "            listSVD_predict.append([\n",
    "                    CF_calculation+DF_calculation,movieId\n",
    "                ,[dataFilm_CB[dataFilm_CB['movieId']==movieId].title_y.values.tolist()]])\n",
    "    \n",
    "    return listDF\n",
    "    return sorted(listSVD_predict,key=lambda x: (x[0],x[1]),reverse=True)"
   ]
  },
  {
   "cell_type": "code",
   "execution_count": 1009,
   "id": "30e35f55",
   "metadata": {},
   "outputs": [
    {
     "data": {
      "text/plain": [
       "[0.003306366501481152,\n",
       " 0.003306366501481152,\n",
       " 0.003306366501481152,\n",
       " 0.003306366501481152,\n",
       " 0.003306366501481152,\n",
       " 0.003306366501481152,\n",
       " 0.003306366501481152,\n",
       " 0.003306366501481152,\n",
       " 0.003306366501481152,\n",
       " 0.003306366501481152]"
      ]
     },
     "execution_count": 1009,
     "metadata": {},
     "output_type": "execute_result"
    }
   ],
   "source": [
    "hybridFiltering2(176,'Krull')"
   ]
  },
  {
   "cell_type": "code",
   "execution_count": 1004,
   "id": "d0639b8c",
   "metadata": {
    "scrolled": true
   },
   "outputs": [
    {
     "name": "stdout",
     "output_type": "stream",
     "text": [
      "Cold Mountain\n",
      "Alien\n",
      "Mission to Mars\n",
      "Kill Bill: Vol. 1\n",
      "Escape from the Planet of the Apes\n",
      "Mars Attacks!\n",
      "Birthday Girl\n",
      "The Thing\n",
      "Predator 2\n",
      "Shrek 2\n"
     ]
    },
    {
     "name": "stderr",
     "output_type": "stream",
     "text": [
      "C:\\Users\\Lukas_K\\anaconda3\\envs\\gpu_py_3_7\\lib\\site-packages\\ipykernel_launcher.py:3: VisibleDeprecationWarning: Creating an ndarray from ragged nested sequences (which is a list-or-tuple of lists-or-tuples-or ndarrays with different lengths or shapes) is deprecated. If you meant to do this, you must specify 'dtype=object' when creating the ndarray.\n",
      "  This is separate from the ipykernel package so we can avoid doing imports until\n"
     ]
    }
   ],
   "source": [
    "# Terlihat sudah ter sorting kembali dengan 3 Filtering\n",
    "# hybridFiltering2(176,'Krull')\n",
    "arrayResult =np.array(hybridFiltering2(176,'Krull'))[:,2]\n",
    "for i in arrayResult:\n",
    "    print(i[0][0])"
   ]
  },
  {
   "cell_type": "code",
   "execution_count": 1005,
   "id": "9e27914b",
   "metadata": {},
   "outputs": [
    {
     "name": "stdout",
     "output_type": "stream",
     "text": [
      "Cold Mountain\n",
      "Alien\n",
      "Mission to Mars\n",
      "Kill Bill: Vol. 1\n",
      "Escape from the Planet of the Apes\n",
      "Mars Attacks!\n",
      "Birthday Girl\n",
      "The Thing\n",
      "Predator 2\n",
      "Shrek 2\n"
     ]
    },
    {
     "name": "stderr",
     "output_type": "stream",
     "text": [
      "C:\\Users\\Lukas_K\\anaconda3\\envs\\gpu_py_3_7\\lib\\site-packages\\ipykernel_launcher.py:2: VisibleDeprecationWarning: Creating an ndarray from ragged nested sequences (which is a list-or-tuple of lists-or-tuples-or ndarrays with different lengths or shapes) is deprecated. If you meant to do this, you must specify 'dtype=object' when creating the ndarray.\n",
      "  \n"
     ]
    }
   ],
   "source": [
    "# hybridFiltering1(176,'Krull')\n",
    "arrayResult =np.array(hybridFiltering(176,'Krull'))[:,2]\n",
    "for i in arrayResult:\n",
    "    print(i[0])"
   ]
  },
  {
   "cell_type": "code",
   "execution_count": null,
   "id": "6b5b8b8d",
   "metadata": {},
   "outputs": [],
   "source": []
  }
 ],
 "metadata": {
  "kernelspec": {
   "display_name": "Python 3 (ipykernel)",
   "language": "python",
   "name": "python3"
  },
  "language_info": {
   "codemirror_mode": {
    "name": "ipython",
    "version": 3
   },
   "file_extension": ".py",
   "mimetype": "text/x-python",
   "name": "python",
   "nbconvert_exporter": "python",
   "pygments_lexer": "ipython3",
   "version": "3.7.11"
  }
 },
 "nbformat": 4,
 "nbformat_minor": 5
}
